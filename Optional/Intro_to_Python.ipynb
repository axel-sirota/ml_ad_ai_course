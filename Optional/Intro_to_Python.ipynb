{
  "cells": [
    {
      "cell_type": "markdown",
      "source": [
        "# Intro to Python"
      ],
      "metadata": {
        "id": "LtUzlz5TefM1"
      }
    },
    {
      "cell_type": "markdown",
      "metadata": {
        "id": "vENZquoYeaSu"
      },
      "source": [
        "### Why Python?\n",
        "\n",
        "<img src=\"https://www.dropbox.com/scl/fi/7v3yosi2xlivzj1cn6cj3/whypython.png?rlkey=ygxyj1mqpj1ap2cgvhanesaii&raw=1\" align=\"center\"/>"
      ]
    },
    {
      "cell_type": "markdown",
      "metadata": {
        "id": "cDxE-Jc1eaSw"
      },
      "source": [
        "<a id=\"learning-objectives\"></a>\n",
        "### Learning Objectives\n",
        "*In this lesson, we will go over the following:*\n",
        "\n",
        "- Data types in Python.\n",
        "- Functions in Python.\n",
        "- Control flows\n",
        "- Examples Programs."
      ]
    },
    {
      "cell_type": "markdown",
      "metadata": {
        "id": "Us37Cn4XeaSy"
      },
      "source": [
        "### Lesson Guide\n",
        "\n",
        "- [Into to jupyter (10–15 min)](#survey1)\n",
        "- [Common Python Types (15 min)](#types-def)\n",
        "- [Common Types Code-Along (20 min)](#types-codealong)\n",
        "- [Python Control Flows (20 min)](#functions-def)\n",
        "- [Common Python Functions Code-Along (20 min)](#functions-codealong)\n",
        "- [Recap and Requests (5–10 min)](#recap-requests)\n"
      ]
    },
    {
      "cell_type": "markdown",
      "metadata": {
        "id": "QLaqrlfCeaSz"
      },
      "source": [
        "<a id=\"types-def\"></a>\n",
        "## Common Python Types\n",
        "\n",
        "---\n",
        "\n",
        "**In Python, what do you understand a \"type\" to be?**"
      ]
    },
    {
      "cell_type": "code",
      "execution_count": null,
      "metadata": {
        "id": "5MaFvjQOeaS0"
      },
      "outputs": [],
      "source": [
        "type(type(a))"
      ]
    },
    {
      "cell_type": "markdown",
      "metadata": {
        "id": "TzmRIqaUeaS2"
      },
      "source": [
        "### What is a type?\n",
        "\n",
        "> There are several _standard_ data types within Python (and typically any programming language, although it varies as to what is or isn't in a type for each).\n",
        "\n",
        "> A type tells the computer what can or can't be done with a given piece of information in Python (or whichever programming language you are using). For example, we can **add** and **subtract** numbers and we can **count** the number of letters in a word. Rather than try (and fail!) to add two words together or count the number of numbers in a number, types let the computer know efficiently what can and cannot be done in a given situation."
      ]
    },
    {
      "cell_type": "markdown",
      "metadata": {
        "id": "iPmncmSFeaS2"
      },
      "source": [
        "<img src=\"https://www.dropbox.com/scl/fi/59ebebzqrlhu1zfbhvo0o/datatypes.png?rlkey=1w7rnoz3m4qorywqea4lss45p&raw=1\"  align=\"center\"/>"
      ]
    },
    {
      "cell_type": "markdown",
      "metadata": {
        "id": "LXXQgdwReaS2"
      },
      "source": [
        "### Types in Python\n",
        "\n",
        "\n",
        "There are two basic groups of types in Python — single elements (one item or piece of information) and collections (groups of things, which can be either single elements themselves, other collections, or a mix of both).\n",
        "\n",
        "**Single Elements**\n",
        "\n",
        "- **Integers:** Whole numbers ranging from negative infinity to infinity, such as 1, 0, -5, etc.\n",
        "- **Floats:** Short for \"floating point number;\" usually used with decimals, such as 2.8 or 3.14159.\n",
        "- **Strings:** A set of letters, numbers, or other characters, e.g., \"The fox is quick.\" — any set of values that contains a non-numeric character.\n",
        "\n",
        "**Collections**\n",
        "\n",
        "- **Tuples:** An ordered sequence with a fixed number of elements; e.g., in `x = (1, 2, 3)`, the parentheses makes it a tuple. `x = (\"Kirk\", \"Picard\", \"Spock\")` — once you've defined this, you can't change it.\n",
        "- **Lists:** An ordered sequence without a fixed number of elements, e.g., `x = [1, 2, 3]`. Note the square brackets. `x = [\"Lord\", \"of\", \"the\", \"Rings\"]` — this can be changed as you like.\n",
        "- **Dictionaries**: An unordered collection of key-value pairs, e.g., `x = {'Mark': 'Twain', 'Apples': 5}`. To retrieve each value (the part after each colon), use its key (the part before each colon). For example, `x['Apples']` retrieves the value `5`."
      ]
    },
    {
      "cell_type": "markdown",
      "metadata": {
        "id": "5wSmyxvoeaS3"
      },
      "source": [
        "**In your own words, what is the difference between a list and a dictionary? Can you think of any real-life examples of lists or dictionaries?**"
      ]
    },
    {
      "cell_type": "markdown",
      "metadata": {
        "id": "WeaMvP3KeaS4"
      },
      "source": [
        "### list vs. tuple vs. dictionary\n",
        "\n",
        "Typically, lists and dictionaries are most popular because of their ease of use and applicability to numerous situations (by contrast, because tuples are immutable/cannot be modified; they are used more sparingly). Lists have an inherent order (the first element is at index `0`, the second element is at index `1`, etc.) and we can call each element by that ordinal number (such as `x[0]` or `x[100]`). Dictionaries do not have an order (so `x[0]` will fail), but they use the name of the key to return that element.\n",
        "\n",
        "**Example**: Think about the difference between a sign-up list and an address book:\n",
        "- **Sign-up list**: We would refer to the order of who signed up when (i.e., \"the eighth person to sign up\").\n",
        "- **Address book**: We would refer to a person by looking for their name (i.e., \"the contact info for Bill Personson\")."
      ]
    },
    {
      "cell_type": "markdown",
      "metadata": {
        "id": "kNwwAGK5eaS4"
      },
      "source": [
        "### Variables\n",
        "\n",
        "Variables are names that have been assigned to specific values or data. These names can be almost anything you want, but there are some restrictions and best practices.\n",
        "\n",
        "\n",
        "#### Best Practices\n",
        "- Usually people use _ instead of spaces in a variable name\n",
        "\n",
        "my_number = 10"
      ]
    },
    {
      "cell_type": "markdown",
      "metadata": {
        "id": "K6ucaMKNeaS5"
      },
      "source": [
        "\n",
        "#### Restrictions\n",
        "\n",
        "- Variable names cannot be just a number (i.e., 2, 0.01, 10000).\n",
        "- Variables cannot be assigned the same name as a default or imported function (i.e., 'type', 'print', 'for').\n",
        "- Variable names cannot contain spaces.\n",
        "\n",
        "#### Best Practices\n",
        "\n",
        "- Variable names should be lowercase.\n",
        "- A variable's name should be representative of the value(s) it has been assigned. For example, instead of `a` or `money`, something like `money_usd` tells the user both what is stored in that variable *and* what units it's in."
      ]
    },
    {
      "cell_type": "code",
      "execution_count": null,
      "metadata": {
        "id": "ipFEb0UueaS6"
      },
      "outputs": [],
      "source": [
        "my_shiny_variable = [1,2]"
      ]
    },
    {
      "cell_type": "markdown",
      "metadata": {
        "id": "aN7_PlFOeaS6"
      },
      "source": [
        "<a id=\"types-codealong\"></a>\n",
        "## Common Types  (Code-Along)\n",
        "\n",
        "\n",
        "<img src=\"https://www.dropbox.com/scl/fi/wor5bkewjhlsz47cmau2z/hands_on.jpg?rlkey=6zs577o8toohmg6kpxek5hp8v&raw=1\" width=\"100\" height=\"100\" align=\"center\"/>\n",
        "\n",
        "---\n",
        "\n",
        "In this section, we'll practice establishing some types and common practices. To run each cell, use `shift+enter` or the `run` button in the Jupyter Notebook toolbar.\n",
        "\n",
        "Some common reasons why we need to keep types in mind:\n",
        "\n",
        "1) Different types can lead to different results: <br>\n",
        "     - 1 + 1 results in 2, while '1' + '1' results in the string 11.\n",
        "2) Operations may not work with specific types: <br>\n",
        "     - len('a word') will return the number of characters in a word, while `len(25)` will return an error because numbers do not have a length."
      ]
    },
    {
      "cell_type": "code",
      "execution_count": null,
      "metadata": {
        "id": "tLOH7LHReaS6"
      },
      "outputs": [],
      "source": [
        "# Assigning a float:\n",
        "x = 1 + 3.0\n",
        "type(x)"
      ]
    },
    {
      "cell_type": "code",
      "execution_count": null,
      "metadata": {
        "id": "IEwhS67heaS7"
      },
      "outputs": [],
      "source": [
        "# Assigning an int:\n",
        "y = 1\n",
        "type(y)"
      ]
    },
    {
      "cell_type": "code",
      "execution_count": null,
      "metadata": {
        "id": "gurHZCbEeaS8"
      },
      "outputs": [],
      "source": [
        "# Assigning a string:\n",
        "z = '1'\n",
        "print(type(z))\n",
        "z = 1\n",
        "print(type(z))"
      ]
    },
    {
      "cell_type": "markdown",
      "metadata": {
        "id": "ZN9PnwyLeaS8"
      },
      "source": [
        "**Remember that, when we're assigning variables, we are not stating that \"x equals 1,\" we are stating that \"x has been assigned the value of 1.\"**"
      ]
    },
    {
      "cell_type": "markdown",
      "metadata": {
        "id": "Hxlzovr7eaS8"
      },
      "source": [
        "### Operators\n",
        "\n",
        "Operators can be used in a mathematical sense to calculate (or create) the sum, difference, product, or quotient of values or variables.\n",
        "\n",
        "Note that `print()` below will print out the values of whatever is inside of the parentheses."
      ]
    },
    {
      "cell_type": "markdown",
      "metadata": {
        "id": "Ilw9gaZDeaS9"
      },
      "source": [
        "<img src=\"https://www.dropbox.com/scl/fi/0caw8ltp8qyunv059kfss/operators.png?rlkey=pbls65t0r9z5yi4g922qezkhh&raw=1\"  align=\"center\"/>"
      ]
    },
    {
      "cell_type": "code",
      "execution_count": null,
      "metadata": {
        "id": "4dWiVqJ-eaS9"
      },
      "outputs": [],
      "source": [
        "# Addition:\n",
        "print(1 + 2)\n",
        "# Subtraction:\n",
        "print(1 - 2)\n",
        "# Multiplication:\n",
        "print(1 * 2)\n",
        "# Division:\n",
        "print(1 / 2)"
      ]
    },
    {
      "cell_type": "markdown",
      "metadata": {
        "id": "9Wdo3wZ4eaS9"
      },
      "source": [
        " There is also `//` division, whose output will be the rounded-down whole number."
      ]
    },
    {
      "cell_type": "code",
      "execution_count": null,
      "metadata": {
        "id": "Bkkl50breaS9"
      },
      "outputs": [],
      "source": [
        "# Division of float numbers:\n",
        "print(3.0 // 2)\n",
        "print(-3.0 // 2)"
      ]
    },
    {
      "cell_type": "code",
      "execution_count": null,
      "metadata": {
        "id": "V4A_rx4neaS-"
      },
      "outputs": [],
      "source": []
    },
    {
      "cell_type": "code",
      "execution_count": null,
      "metadata": {
        "id": "xhducxKOeaS-"
      },
      "outputs": [],
      "source": [
        "# Exponent power operator:\n",
        "2 ** 3"
      ]
    },
    {
      "cell_type": "code",
      "execution_count": null,
      "metadata": {
        "id": "WjaBBNKVeaS_"
      },
      "outputs": [],
      "source": [
        "# The modulo operator can be used to get the remainder — what's left over after the term has been cleanly divided:\n",
        "# 7= 3*2 + 1\n",
        "7%2"
      ]
    },
    {
      "cell_type": "markdown",
      "metadata": {
        "id": "ZsfAG3wHeaS_"
      },
      "source": [
        "### Booleans and Boolean Evaluation Operators"
      ]
    },
    {
      "cell_type": "markdown",
      "metadata": {
        "id": "NxcdNkUQeaS_"
      },
      "source": [
        "**Where do we use Booleans generally?**"
      ]
    },
    {
      "cell_type": "markdown",
      "metadata": {
        "id": "FSCqaut2eaTA"
      },
      "source": [
        "#### Using Booleans\n",
        "\n",
        "Booleans are frequently used to filter data or conditions. Sometimes, we may want all countries with populations greater than 4,000,000 or all people named Bob. Both of these result in a `True` or `False` condition that split our data into the groups we want.\n",
        "\n",
        "In Python, there are several built-in commands for deciding how to filter results:\n",
        "\n",
        "- `and`: Are both A and B true?\n",
        "- `not`: Is A the same as B?\n",
        "- `or`: Is A or B true?"
      ]
    },
    {
      "cell_type": "code",
      "execution_count": null,
      "metadata": {
        "id": "WC5boAnXeaTA"
      },
      "outputs": [],
      "source": [
        "True and False"
      ]
    },
    {
      "cell_type": "code",
      "execution_count": null,
      "metadata": {
        "id": "MdTYoONyeaTA"
      },
      "outputs": [],
      "source": [
        "not False"
      ]
    },
    {
      "cell_type": "code",
      "execution_count": null,
      "metadata": {
        "id": "ny9op8RseaTA"
      },
      "outputs": [],
      "source": [
        "True or False"
      ]
    },
    {
      "cell_type": "markdown",
      "metadata": {
        "id": "tjGLPYgNeaTB"
      },
      "source": [
        "**Comparisons**\n",
        "\n",
        "<img src=\"https://www.dropbox.com/scl/fi/h09wszdjy5dlw8jz7b5yo/comp.png?rlkey=52p9bpdwo29wejz699rawl8vk&raw=1\"  align=\"center\"/>"
      ]
    },
    {
      "cell_type": "code",
      "execution_count": null,
      "metadata": {
        "id": "RMHnibcbeaTB"
      },
      "outputs": [],
      "source": [
        "2 > 1, 2 < 1, 2 > 2, 2 < 2, 2 >= 2, 2 <= 2"
      ]
    },
    {
      "cell_type": "code",
      "execution_count": null,
      "metadata": {
        "id": "M_gZpZdKeaTB"
      },
      "outputs": [],
      "source": [
        "# Equality:\n",
        "[1,2] == [1,2]"
      ]
    },
    {
      "cell_type": "code",
      "execution_count": null,
      "metadata": {
        "id": "9bdnHX0PeaTB"
      },
      "outputs": [],
      "source": [
        "[1,2] == [1,2] or exit()"
      ]
    },
    {
      "cell_type": "markdown",
      "metadata": {
        "id": "jGa0eeYpeaTB"
      },
      "source": [
        "## Hands_on Challenge"
      ]
    },
    {
      "cell_type": "markdown",
      "metadata": {
        "id": "zocEuFJAeaTB"
      },
      "source": [
        "#### Now You Try!\n",
        "<img src=\"https://www.dropbox.com/scl/fi/wor5bkewjhlsz47cmau2z/hands_on.jpg?rlkey=6zs577o8toohmg6kpxek5hp8v&raw=1\" width=\"100\" height=\"100\" align=\"right\"/>\n",
        "\n",
        "\n",
        "With a partner, create three comparisons using `!=`, `>=`, and `<`."
      ]
    },
    {
      "cell_type": "code",
      "execution_count": null,
      "metadata": {
        "id": "PAj6-gp-eaTD"
      },
      "outputs": [],
      "source": [
        "## Type your answer here\n"
      ]
    },
    {
      "cell_type": "markdown",
      "metadata": {
        "id": "Pam02-EeeaTD"
      },
      "source": [
        "### Strings\n",
        "\n",
        "**What are strings? How would we use them? Can you think of any examples of strings?**"
      ]
    },
    {
      "cell_type": "code",
      "execution_count": null,
      "metadata": {
        "id": "dhx0mCKjeaTD"
      },
      "outputs": [],
      "source": [
        "s = \"Hello world\"\n",
        "type(s)"
      ]
    },
    {
      "cell_type": "code",
      "execution_count": null,
      "metadata": {
        "id": "qcoTP_a8eaTD"
      },
      "outputs": [],
      "source": [
        "s = 2\n",
        "ss=f'My calculation is {s}'\n",
        "print(ss)"
      ]
    },
    {
      "cell_type": "markdown",
      "metadata": {
        "id": "7MPf1Qa8eaTE"
      },
      "source": [
        "Strings have a lot of associated methods and attributes that allow us to better understand and manipulate them.\n",
        "\n",
        "**In your own words, why would we want to manipulate or change strings?**"
      ]
    },
    {
      "cell_type": "markdown",
      "metadata": {
        "id": "W4b78DqyeaTE"
      },
      "source": [
        "Some examples include:\n",
        "- Fixing misspelled words.\n",
        "- Changing casing (upper, lower).\n",
        "- Looking for specific words."
      ]
    },
    {
      "cell_type": "code",
      "execution_count": null,
      "metadata": {
        "id": "E2bXw_BNeaTE"
      },
      "outputs": [],
      "source": [
        "# Finding the length of the string:\n",
        "s = 'Hello world'\n",
        "print(s)\n",
        "len(s)"
      ]
    },
    {
      "cell_type": "code",
      "execution_count": null,
      "metadata": {
        "id": "bT1reKVBeaTF"
      },
      "outputs": [],
      "source": [
        "# Replacing an element of a string:\n",
        "s2 = s.replace(\"world\", \"test\")\n",
        "print(s2)"
      ]
    },
    {
      "cell_type": "markdown",
      "metadata": {
        "id": "nye6-o6EeaTF"
      },
      "source": [
        "### String Indexing\n",
        "\n",
        "In some cases, we may want a part of the string (like the first character for alphabetizing or categorizing). Indexing helps us do that.\n",
        "\n",
        "We can extract characters at specific index locations in a string using indexing."
      ]
    },
    {
      "cell_type": "markdown",
      "metadata": {
        "id": "_h2Wik1ceaTG"
      },
      "source": [
        "### In Python we use [ ] for Indexing (for lists, tuples, disctionaries, ...)"
      ]
    },
    {
      "cell_type": "markdown",
      "metadata": {
        "id": "g8z6UlIDeaTG"
      },
      "source": [
        "<img src=\"https://www.dropbox.com/scl/fi/6sm360jucrg7n0m6zs3xa/indexing.jpeg?rlkey=qcghff6w9c667zpqan8j8q4me&raw=1\"  align=\"center\"/>"
      ]
    },
    {
      "cell_type": "code",
      "execution_count": null,
      "metadata": {
        "id": "zjqPzS2yeaTG"
      },
      "outputs": [],
      "source": [
        "test_string='Monty Python'\n",
        "\n",
        "test_string[0:3] # characters 0, 1 , 2"
      ]
    },
    {
      "cell_type": "code",
      "execution_count": null,
      "metadata": {
        "id": "n0eAhWCleaTH"
      },
      "outputs": [],
      "source": [
        "# Indexing the first (index 0) character in the string:\n",
        "print(s)\n",
        "s[0]"
      ]
    },
    {
      "cell_type": "markdown",
      "metadata": {
        "id": "c5PXFGGoeaTH"
      },
      "source": [
        "The number you enter after the variable name in brackets (the `[0]`) is called the index (its plural is indices).\n",
        "\n",
        "_Counting in Python and many other programming languages begins at zero, as opposed to one. This is called zero-based indexing._"
      ]
    },
    {
      "cell_type": "code",
      "execution_count": null,
      "metadata": {
        "id": "CGXSfMMCeaTI"
      },
      "outputs": [],
      "source": [
        "# This is called \"splicing.\" We start at the left index\n",
        "#   and go up to but not include the right index.\n",
        "\n",
        "# Objects at indexes 0, 1, and 2:\n",
        "s[0:3]"
      ]
    },
    {
      "cell_type": "markdown",
      "metadata": {
        "id": "oL_ntXgLeaTI"
      },
      "source": [
        "## Indexing\n",
        "\n",
        "[start_index : end_index : step_size]"
      ]
    },
    {
      "cell_type": "markdown",
      "metadata": {
        "id": "O4-FQ2wpeaTI"
      },
      "source": [
        "Most ranges, or functions with ranges, have upper ends that are not inclusive. So, a range of `[0:5]` starts at `0` and stops before `5`.\n",
        "\n",
        "A good mental trick is to look at something like `[5:25]` and say out loud \"Starting at five and going up to (but not including) 25.\""
      ]
    },
    {
      "cell_type": "code",
      "execution_count": null,
      "metadata": {
        "id": "61qE3g1ZeaTI"
      },
      "outputs": [],
      "source": [
        "# From index 6 up to the end of the string:\n",
        "print(s)\n",
        "s[6:]"
      ]
    },
    {
      "cell_type": "code",
      "execution_count": null,
      "metadata": {
        "id": "X7bl2AMzeaTJ"
      },
      "outputs": [],
      "source": [
        "# No start or end specified:\n",
        "s[:]"
      ]
    },
    {
      "cell_type": "code",
      "execution_count": null,
      "metadata": {
        "id": "W3vbDL8keaTJ"
      },
      "outputs": [],
      "source": [
        "# Can we index from the right side?\n",
        "s[-1]"
      ]
    },
    {
      "cell_type": "markdown",
      "metadata": {
        "id": "LgTaGanLeaTJ"
      },
      "source": [
        "In addition to specifying a range, you can include a step size or character skip rate. This might be helpful if you want every other letter, for example.\n",
        "\n",
        "These indexing methods can also be used on lists, where asking for every other number might be a good use case."
      ]
    },
    {
      "cell_type": "code",
      "execution_count": null,
      "metadata": {
        "id": "baD_BbVteaTJ"
      },
      "outputs": [],
      "source": [
        "# Every second character starting at 0 and ending at 10:\n",
        "print(s)\n",
        "s[0:10:3]"
      ]
    },
    {
      "cell_type": "code",
      "execution_count": null,
      "metadata": {
        "id": "j33ozCPgeaTJ"
      },
      "outputs": [],
      "source": [
        "# Define a step size of 2; i.e., every other character:\n",
        "s[::2]"
      ]
    },
    {
      "cell_type": "code",
      "execution_count": null,
      "metadata": {
        "id": "1R_wz2l7eaTJ"
      },
      "outputs": [],
      "source": [
        "# The same, but for a list of numbers:\n",
        "[0, 1, 2, 3, 4, 5, 6][::2]"
      ]
    },
    {
      "cell_type": "markdown",
      "metadata": {
        "id": "Y0dMTPlOeaTJ"
      },
      "source": [
        "### Concatenating\n",
        "\n",
        "**In your own words, what is concatenating? When might you use it?**\n",
        "\n",
        "To add two strings together, type the first string, a `+` sign, and then the second string."
      ]
    },
    {
      "cell_type": "code",
      "execution_count": null,
      "metadata": {
        "id": "iEmgnGB-eaTJ"
      },
      "outputs": [],
      "source": [
        "x = 'Hello '\n",
        "y = 'world'\n",
        "\n",
        "x + y"
      ]
    },
    {
      "cell_type": "code",
      "execution_count": null,
      "metadata": {
        "id": "u-IOnDf5eaTK"
      },
      "outputs": [],
      "source": [
        "# Conversion from int to str is required!\n",
        "\n",
        "dice_roll = 3\n",
        "\n",
        "#print('You rolled a ' + dice_roll + '.')\n",
        "print('You rolled a ' + str(dice_roll) + '.')"
      ]
    },
    {
      "cell_type": "code",
      "execution_count": null,
      "metadata": {
        "id": "DCgId66EeaTL"
      },
      "outputs": [],
      "source": [
        "print(f'You rolled a {dice_roll} .')"
      ]
    },
    {
      "cell_type": "markdown",
      "metadata": {
        "id": "AfN4Pi4weaTL"
      },
      "source": [
        "#### Now You Try!\n",
        "<img src=\"https://www.dropbox.com/scl/fi/wor5bkewjhlsz47cmau2z/hands_on.jpg?rlkey=6zs577o8toohmg6kpxek5hp8v&raw=1\" width=\"100\" height=\"100\" align=\"right\"/>\n",
        "\n",
        "Create your own string of at least 12 characters or more and:\n",
        "1) Test to make sure that it is at least 12 characters long. <br>\n",
        "2) Replace all of the vowels with the string `vowel`. <br>\n",
        "3) Use concatenation to add another string to it. <br>"
      ]
    },
    {
      "cell_type": "code",
      "execution_count": null,
      "metadata": {
        "id": "SDAZN7pfeaTL"
      },
      "outputs": [],
      "source": [
        "# Type your answer here\n",
        "\n"
      ]
    },
    {
      "cell_type": "markdown",
      "metadata": {
        "id": "sAcOCVI-eaTL"
      },
      "source": [
        "## Lists\n",
        "\n",
        "**What are some examples of lists? What do you remember from before?**\n",
        "\n",
        "Lists can be composed of ints, floats, strings, or other lists, as well as other data types we haven't covered yet."
      ]
    },
    {
      "cell_type": "code",
      "execution_count": null,
      "metadata": {
        "id": "FdveF7rneaTL",
        "outputId": "75edf425-1309-4834-8532-8df53095ce01"
      },
      "outputs": [
        {
          "name": "stdout",
          "output_type": "stream",
          "text": [
            "<class 'list'>\n",
            "[1, 2, 3, 4]\n"
          ]
        }
      ],
      "source": [
        "m = [1, 2, 3, 4]\n",
        "\n",
        "print(type(m))\n",
        "print(m)"
      ]
    },
    {
      "cell_type": "code",
      "execution_count": null,
      "metadata": {
        "id": "ZfXfV2vReaTM"
      },
      "outputs": [],
      "source": [
        "# The a variable's contents can be reassigned to another variable:\n",
        "a = m"
      ]
    },
    {
      "cell_type": "code",
      "execution_count": null,
      "metadata": {
        "id": "3WGutIvyeaTN",
        "outputId": "e8fbb1f6-a9a3-4b38-f5ef-a96882ee364c"
      },
      "outputs": [
        {
          "name": "stdout",
          "output_type": "stream",
          "text": [
            "[1, 2, 3, 4]\n",
            "[1, 'new value', 3, 4]\n",
            "[1, 'new value', 3, 4]\n"
          ]
        }
      ],
      "source": [
        "print(a)\n",
        "a[1] = 'new value'\n",
        "print(a)\n",
        "print(m)"
      ]
    },
    {
      "cell_type": "code",
      "execution_count": null,
      "metadata": {
        "id": "yNuKtsWeeaTN",
        "outputId": "c651b3a4-cba8-441c-e08e-b024a8c1f51a"
      },
      "outputs": [
        {
          "name": "stdout",
          "output_type": "stream",
          "text": [
            "['Carol', 'Anne', 'Jessica']\n"
          ]
        }
      ],
      "source": [
        "# List of strings:\n",
        "names = ['Carol', 'Anne', 'Jessica']\n",
        "print(names)"
      ]
    },
    {
      "cell_type": "markdown",
      "metadata": {
        "id": "ojZEepjjeaTN"
      },
      "source": [
        "### Methods\n",
        "\n",
        "Many types have what are known as \"methods:\" built-in functionality that allows them to do certain things. We've already seen a couple, such as the `.replace()` method, which lets you replace words in strings.\n",
        "\n",
        "Lists also have several methods that allow us to alter them, such as the `.append()` method, which allows us to add another element to the end of a list."
      ]
    },
    {
      "cell_type": "code",
      "execution_count": null,
      "metadata": {
        "id": "teVNeY2VeaTO",
        "outputId": "94b84600-8f28-48a6-d915-74cb1c1edfdc"
      },
      "outputs": [
        {
          "data": {
            "text/plain": [
              "['Carol', 'Anne', 'Jessica', 'Michelle']"
            ]
          },
          "execution_count": 5,
          "metadata": {},
          "output_type": "execute_result"
        }
      ],
      "source": [
        "names.append('Michelle')\n",
        "names"
      ]
    },
    {
      "cell_type": "code",
      "execution_count": null,
      "metadata": {
        "id": "zuWof2PVeaTO",
        "outputId": "cee5d492-5a5d-4925-f3b4-9afdd3387f59"
      },
      "outputs": [
        {
          "data": {
            "text/plain": [
              "['__add__',\n",
              " '__class__',\n",
              " '__class_getitem__',\n",
              " '__contains__',\n",
              " '__delattr__',\n",
              " '__delitem__',\n",
              " '__dir__',\n",
              " '__doc__',\n",
              " '__eq__',\n",
              " '__format__',\n",
              " '__ge__',\n",
              " '__getattribute__',\n",
              " '__getitem__',\n",
              " '__gt__',\n",
              " '__hash__',\n",
              " '__iadd__',\n",
              " '__imul__',\n",
              " '__init__',\n",
              " '__init_subclass__',\n",
              " '__iter__',\n",
              " '__le__',\n",
              " '__len__',\n",
              " '__lt__',\n",
              " '__mul__',\n",
              " '__ne__',\n",
              " '__new__',\n",
              " '__reduce__',\n",
              " '__reduce_ex__',\n",
              " '__repr__',\n",
              " '__reversed__',\n",
              " '__rmul__',\n",
              " '__setattr__',\n",
              " '__setitem__',\n",
              " '__sizeof__',\n",
              " '__str__',\n",
              " '__subclasshook__',\n",
              " 'append',\n",
              " 'clear',\n",
              " 'copy',\n",
              " 'count',\n",
              " 'extend',\n",
              " 'index',\n",
              " 'insert',\n",
              " 'pop',\n",
              " 'remove',\n",
              " 'reverse',\n",
              " 'sort']"
            ]
          },
          "execution_count": 7,
          "metadata": {},
          "output_type": "execute_result"
        }
      ],
      "source": [
        "dir(names)"
      ]
    },
    {
      "cell_type": "markdown",
      "metadata": {
        "id": "qVsxvYu0eaTO"
      },
      "source": [
        "Lists can indexed the same way strings — this allows us to target a specific value or range of values in a list without having to create a new one."
      ]
    },
    {
      "cell_type": "code",
      "execution_count": null,
      "metadata": {
        "id": "A2Y5xnQ7eaTP",
        "outputId": "4f5a5027-d54d-4349-cfbb-1833ec8c63db"
      },
      "outputs": [
        {
          "name": "stdout",
          "output_type": "stream",
          "text": [
            "['Anne', 'Jessica']\n",
            "['Carol', 'Jessica']\n"
          ]
        }
      ],
      "source": [
        "print(names[1:3])\n",
        "print(names[::2])   # Increments the index by 2 each time (skips alternate elements)."
      ]
    },
    {
      "cell_type": "code",
      "execution_count": null,
      "metadata": {
        "id": "9zUGm_9seaTP",
        "outputId": "078bc8a8-6f70-4c3e-cd1c-066343c7c283"
      },
      "outputs": [
        {
          "data": {
            "text/plain": [
              "['Carol', 'Anne', 'Jessica', 'Michelle']"
            ]
          },
          "execution_count": 9,
          "metadata": {},
          "output_type": "execute_result"
        }
      ],
      "source": [
        "names"
      ]
    },
    {
      "cell_type": "code",
      "execution_count": null,
      "metadata": {
        "id": "wuqsNFtEeaTP"
      },
      "outputs": [],
      "source": [
        "names[0] = 2"
      ]
    },
    {
      "cell_type": "code",
      "execution_count": null,
      "metadata": {
        "id": "khdDGL3deaTP",
        "outputId": "4771bfd2-ba31-4e72-aa07-bb2d42d1e2ca"
      },
      "outputs": [
        {
          "ename": "TypeError",
          "evalue": "'int' object is not subscriptable",
          "output_type": "error",
          "traceback": [
            "\u001b[0;31m---------------------------------------------------------------------------\u001b[0m",
            "\u001b[0;31mTypeError\u001b[0m                                 Traceback (most recent call last)",
            "\u001b[0;32m/var/folders/g0/jqvp4xxs5pn4cds1xb9339xm0000gn/T/ipykernel_4578/2453229497.py\u001b[0m in \u001b[0;36m<module>\u001b[0;34m\u001b[0m\n\u001b[1;32m      1\u001b[0m \u001b[0;31m# We can slice a value in a list as well:\u001b[0m\u001b[0;34m\u001b[0m\u001b[0;34m\u001b[0m\u001b[0;34m\u001b[0m\u001b[0m\n\u001b[0;32m----> 2\u001b[0;31m \u001b[0mnames\u001b[0m\u001b[0;34m[\u001b[0m\u001b[0;36m0\u001b[0m\u001b[0;34m]\u001b[0m\u001b[0;34m[\u001b[0m\u001b[0;36m1\u001b[0m\u001b[0;34m:\u001b[0m\u001b[0;34m]\u001b[0m\u001b[0;34m\u001b[0m\u001b[0;34m\u001b[0m\u001b[0m\n\u001b[0m",
            "\u001b[0;31mTypeError\u001b[0m: 'int' object is not subscriptable"
          ]
        }
      ],
      "source": [
        "# We can slice a value in a list as well:\n",
        "names[0][1:]"
      ]
    },
    {
      "cell_type": "markdown",
      "metadata": {
        "id": "jShjoaNteaTP"
      },
      "source": [
        "Note that we always read indexing from left to right. In the example above, the interpreter looks up names and gets the first element, which is the string `\"Anne\"`. Then, the slice (`[1:]`) adds the first index of that string to the end of the original string, evaluating to `\"nne\"`.\n",
        "\n",
        "Interestingly, the following works in the same way. Instead of having to look up the value of names, the list is directly specified (just read the line from left to right!)."
      ]
    },
    {
      "cell_type": "code",
      "execution_count": null,
      "metadata": {
        "id": "hfaWXpA5eaTP"
      },
      "outputs": [],
      "source": [
        "['Carol', 'Anne', 'Jessica', 'Michelle'][1][1:]"
      ]
    },
    {
      "cell_type": "code",
      "execution_count": null,
      "metadata": {
        "id": "CjjCwShHeaTP",
        "outputId": "5242679f-778c-4682-e657-3d29f295adb7"
      },
      "outputs": [
        {
          "name": "stdout",
          "output_type": "stream",
          "text": [
            "[1, 'a', 1.0, (1-1j)]\n"
          ]
        }
      ],
      "source": [
        "# Lists don't have to be the same type:\n",
        "l = [1, 'a', 1.0, 1-1j]\n",
        "print(l)"
      ]
    },
    {
      "cell_type": "code",
      "execution_count": null,
      "metadata": {
        "id": "qCl3cQQTeaTQ",
        "outputId": "9fb6fdd1-8537-4711-8193-b097d1181b1b"
      },
      "outputs": [
        {
          "name": "stdout",
          "output_type": "stream",
          "text": [
            "<class 'range'>\n"
          ]
        },
        {
          "data": {
            "text/plain": [
              "[10, 12, 14, 16, 18, 20, 22, 24, 26, 28]"
            ]
          },
          "execution_count": 15,
          "metadata": {},
          "output_type": "execute_result"
        }
      ],
      "source": [
        "# We can create a list of values in a range using the range() function:\n",
        "start = 10\n",
        "stop = 30\n",
        "step = 2\n",
        "print(type(range(start, stop, step)))\n",
        "\n",
        "# range() produces a \"generator,\" which is beyond the scope of this introduction!\n",
        "# It is often convenient to have the generator\n",
        "#    generate all of its values by converting it to a list:\n",
        "list(range(start, stop, step))"
      ]
    },
    {
      "cell_type": "code",
      "execution_count": null,
      "metadata": {
        "id": "vy9SSKKAeaTQ",
        "outputId": "cbfc1edb-daff-4d23-f5e1-f17425001038"
      },
      "outputs": [
        {
          "data": {
            "text/plain": [
              "[1, 3, 5, 7, 9]"
            ]
          },
          "execution_count": 16,
          "metadata": {},
          "output_type": "execute_result"
        }
      ],
      "source": [
        "list(range(1,10,2))"
      ]
    },
    {
      "cell_type": "code",
      "execution_count": null,
      "metadata": {
        "id": "VMUmKHaCeaTR",
        "outputId": "48199156-097a-4615-d3ad-fa2bfd370356"
      },
      "outputs": [
        {
          "data": {
            "text/plain": [
              "[10, 11]"
            ]
          },
          "execution_count": 17,
          "metadata": {},
          "output_type": "execute_result"
        }
      ],
      "source": [
        "list(range(10, 12))"
      ]
    },
    {
      "cell_type": "markdown",
      "metadata": {
        "id": "6xvWcckQeaTR"
      },
      "source": [
        "Use the `.insert()` method to add values at specific indices."
      ]
    },
    {
      "cell_type": "code",
      "execution_count": null,
      "metadata": {
        "id": "OGi9rUFQeaTR",
        "outputId": "c5169838-52f5-4604-e5fb-77d16dd36e83"
      },
      "outputs": [
        {
          "data": {
            "text/plain": [
              "['Carol', 'Anne', 'Jessica', 'Michelle']"
            ]
          },
          "execution_count": 20,
          "metadata": {},
          "output_type": "execute_result"
        }
      ],
      "source": [
        "names"
      ]
    },
    {
      "cell_type": "code",
      "execution_count": null,
      "metadata": {
        "id": "blEY4-y3eaTS",
        "outputId": "bdbd4281-a08f-4a73-970e-884693451f21"
      },
      "outputs": [
        {
          "data": {
            "text/plain": [
              "['Carol', 'Anne', 'Ellen', 'Jessica', 'Michelle']"
            ]
          },
          "execution_count": 21,
          "metadata": {},
          "output_type": "execute_result"
        }
      ],
      "source": [
        "names.insert(2, 'Ellen')\n",
        "names"
      ]
    },
    {
      "cell_type": "markdown",
      "metadata": {
        "id": "U6NUQx5VeaTS"
      },
      "source": [
        "The `.remove()` method can be used to remove specific values if they appear in a list."
      ]
    },
    {
      "cell_type": "code",
      "execution_count": null,
      "metadata": {
        "id": "hL0kN2nHeaTT",
        "outputId": "27320027-caff-43b3-ce52-451d2c94144c"
      },
      "outputs": [
        {
          "name": "stdout",
          "output_type": "stream",
          "text": [
            "['Carol', 'Anne', 'Ellen', 'Jessica', 'Michelle', 'Jeremy']\n",
            "['Carol', 'Anne', 'Ellen', 'Jessica', 'Michelle']\n"
          ]
        }
      ],
      "source": [
        "names.append('Jeremy')\n",
        "print(names)\n",
        "names.remove('Jeremy')\n",
        "print(names)"
      ]
    },
    {
      "cell_type": "markdown",
      "metadata": {
        "id": "J5emxaY3eaTT"
      },
      "source": [
        "#### Now You Try!\n",
        "\n",
        "<img src=\"https://www.dropbox.com/scl/fi/wor5bkewjhlsz47cmau2z/hands_on.jpg?rlkey=6zs577o8toohmg6kpxek5hp8v&raw=1\" width=\"100\" height=\"100\" align=\"right\"/>\n",
        "\n",
        "\n",
        "Create a list of five elements and do the following:\n",
        "\n",
        "1) Print the last three elements. <br>\n",
        "2) Insert two new elements at index 2 and append one element to the end. <br>\n",
        "3) Remove one element of your choice. <br>\n",
        "4) Print every other element in your list. <br>"
      ]
    },
    {
      "cell_type": "code",
      "execution_count": null,
      "metadata": {
        "id": "D-J5cvcreaTU"
      },
      "outputs": [],
      "source": [
        "##### Type your answer here\n"
      ]
    },
    {
      "cell_type": "markdown",
      "metadata": {
        "id": "MwiBLdT2eaTU"
      },
      "source": [
        "## Tuples\n",
        "\n",
        "Tuples are similar to lists in that they store a sequence of various separate values. However, tuples are not mutable in that, once they are created, their values cannot be changed.\n",
        "\n",
        "**In your own words, why would creating something that cannot be changed later be helpful?**"
      ]
    },
    {
      "cell_type": "code",
      "execution_count": null,
      "metadata": {
        "id": "QlLjGQRGeaTU",
        "outputId": "36bdb01a-b740-427f-80f8-7fa9cadb6286"
      },
      "outputs": [
        {
          "name": "stdout",
          "output_type": "stream",
          "text": [
            "(10, 20)\n",
            "<class 'tuple'>\n"
          ]
        }
      ],
      "source": [
        "point = (10, 20)\n",
        "print(point)\n",
        "print(type(point))"
      ]
    },
    {
      "cell_type": "code",
      "execution_count": null,
      "metadata": {
        "id": "2OyAWFtkeaTV"
      },
      "outputs": [],
      "source": [
        "from collections import namedtuple"
      ]
    },
    {
      "cell_type": "code",
      "execution_count": null,
      "metadata": {
        "id": "gpwEW7WYeaTV"
      },
      "outputs": [],
      "source": [
        "my_password = namedtuple('MyCredentials', ['User', 'Password'])"
      ]
    },
    {
      "cell_type": "code",
      "execution_count": null,
      "metadata": {
        "id": "FKuugEz_eaTW",
        "outputId": "84965695-9bae-4f79-ae92-ea5b4467a539"
      },
      "outputs": [
        {
          "data": {
            "text/plain": [
              "MyCredentials(User='axel', Password='supersecret!')"
            ]
          },
          "execution_count": 27,
          "metadata": {},
          "output_type": "execute_result"
        }
      ],
      "source": [
        "creds = my_password('axel', 'supersecret!')\n",
        "creds"
      ]
    },
    {
      "cell_type": "code",
      "execution_count": null,
      "metadata": {
        "id": "ErItsN6zeaTW",
        "outputId": "f4a8ba83-6b60-4a0f-cef4-1aa456f56287"
      },
      "outputs": [
        {
          "ename": "TypeError",
          "evalue": "'MyCredentials' object doesn't support item deletion",
          "output_type": "error",
          "traceback": [
            "\u001b[0;31m---------------------------------------------------------------------------\u001b[0m",
            "\u001b[0;31mTypeError\u001b[0m                                 Traceback (most recent call last)",
            "\u001b[0;32m/var/folders/g0/jqvp4xxs5pn4cds1xb9339xm0000gn/T/ipykernel_4578/225272988.py\u001b[0m in \u001b[0;36m<module>\u001b[0;34m\u001b[0m\n\u001b[0;32m----> 1\u001b[0;31m \u001b[0;32mdel\u001b[0m \u001b[0mcreds\u001b[0m\u001b[0;34m[\u001b[0m\u001b[0;36m1\u001b[0m\u001b[0;34m]\u001b[0m\u001b[0;34m\u001b[0m\u001b[0;34m\u001b[0m\u001b[0m\n\u001b[0m",
            "\u001b[0;31mTypeError\u001b[0m: 'MyCredentials' object doesn't support item deletion"
          ]
        }
      ],
      "source": [
        "del creds[1]"
      ]
    },
    {
      "cell_type": "code",
      "execution_count": null,
      "metadata": {
        "id": "8cCHxnqHeaTX",
        "outputId": "eed6de7a-d266-4324-c718-2beb719b6432"
      },
      "outputs": [
        {
          "data": {
            "text/plain": [
              "10"
            ]
          },
          "execution_count": 29,
          "metadata": {},
          "output_type": "execute_result"
        }
      ],
      "source": [
        "# They can be sliced, just like lists and strings:\n",
        "point[0]"
      ]
    },
    {
      "cell_type": "code",
      "execution_count": null,
      "metadata": {
        "id": "ZNEj6rideaTX",
        "outputId": "c159b7a2-d3d3-4723-c091-897221caac62"
      },
      "outputs": [
        {
          "ename": "TypeError",
          "evalue": "'tuple' object doesn't support item deletion",
          "output_type": "error",
          "traceback": [
            "\u001b[0;31m---------------------------------------------------------------------------\u001b[0m",
            "\u001b[0;31mTypeError\u001b[0m                                 Traceback (most recent call last)",
            "\u001b[0;32m/var/folders/g0/jqvp4xxs5pn4cds1xb9339xm0000gn/T/ipykernel_4578/1321434268.py\u001b[0m in \u001b[0;36m<module>\u001b[0;34m\u001b[0m\n\u001b[0;32m----> 1\u001b[0;31m \u001b[0;32mdel\u001b[0m \u001b[0mpoint\u001b[0m\u001b[0;34m[\u001b[0m\u001b[0;36m0\u001b[0m\u001b[0;34m]\u001b[0m\u001b[0;34m\u001b[0m\u001b[0;34m\u001b[0m\u001b[0m\n\u001b[0m",
            "\u001b[0;31mTypeError\u001b[0m: 'tuple' object doesn't support item deletion"
          ]
        }
      ],
      "source": [
        "del point[0]"
      ]
    },
    {
      "cell_type": "markdown",
      "metadata": {
        "id": "TMnTpw-FeaTX"
      },
      "source": [
        "## Dictionaries\n",
        "\n",
        "Dictionaries are a non-ordered Python data type. Instead of using an ordered index to access data stored in a dictionary, we use a system of key-value pairs.\n",
        "\n",
        "**In your own words, why would we use this when we could just use a list?**\n",
        "\n",
        "- A key is similar to a variable name.\n",
        "- A value is similar to the value assigned to the variable.\n",
        "- Curly braces (`{ }`) enclose dictionaries. The first input in a dictionary pair is the \"key.\" The second input in a dictionary pair is the \"value.\" Remember to make `key:value` pairs!\n",
        "\n",
        "The general format looks like this:"
      ]
    },
    {
      "cell_type": "code",
      "execution_count": null,
      "metadata": {
        "id": "kGjbM9FieaTX",
        "outputId": "e94c7856-34c0-4f88-d465-8d3a9f041d28"
      },
      "outputs": [
        {
          "name": "stdout",
          "output_type": "stream",
          "text": [
            "<class 'dict'>\n",
            "{'key1': 1.0, 'key2': 2.0, 'key3': 3.0}\n"
          ]
        }
      ],
      "source": [
        "params = {'key1' : 1.0,\n",
        "          'key2' : 2.0,\n",
        "          'key3' : 3.0}\n",
        "\n",
        "print(type(params))\n",
        "print(params)"
      ]
    },
    {
      "cell_type": "code",
      "execution_count": null,
      "metadata": {
        "id": "4t2tYYk1eaTY"
      },
      "outputs": [],
      "source": [
        "params[(1,2,3)] = 2"
      ]
    },
    {
      "cell_type": "markdown",
      "metadata": {
        "id": "HnC-aQ06eaTY"
      },
      "source": [
        "The keys stay the same, but the values are changeable. You can also only have one occurrence of a key in a dictionary, but you can have all of the values be the same."
      ]
    },
    {
      "cell_type": "code",
      "execution_count": null,
      "metadata": {
        "id": "YCjbCFoGeaTY",
        "outputId": "a84c94a2-4cd9-4f80-97d8-34513e053193"
      },
      "outputs": [
        {
          "ename": "KeyError",
          "evalue": "'435254'",
          "output_type": "error",
          "traceback": [
            "\u001b[0;31m---------------------------------------------------------------------------\u001b[0m",
            "\u001b[0;31mKeyError\u001b[0m                                  Traceback (most recent call last)",
            "\u001b[0;32m/var/folders/g0/jqvp4xxs5pn4cds1xb9339xm0000gn/T/ipykernel_4578/2077344168.py\u001b[0m in \u001b[0;36m<module>\u001b[0;34m\u001b[0m\n\u001b[1;32m      1\u001b[0m \u001b[0;31m# Value for parameter2 in the params dictionary:\u001b[0m\u001b[0;34m\u001b[0m\u001b[0;34m\u001b[0m\u001b[0;34m\u001b[0m\u001b[0m\n\u001b[0;32m----> 2\u001b[0;31m \u001b[0mparams\u001b[0m\u001b[0;34m[\u001b[0m\u001b[0;34m'435254'\u001b[0m\u001b[0;34m]\u001b[0m\u001b[0;34m\u001b[0m\u001b[0;34m\u001b[0m\u001b[0m\n\u001b[0m",
            "\u001b[0;31mKeyError\u001b[0m: '435254'"
          ]
        }
      ],
      "source": [
        "# Value for parameter2 in the params dictionary:\n",
        "params['435254']"
      ]
    },
    {
      "cell_type": "code",
      "execution_count": null,
      "metadata": {
        "id": "yl_NulgheaTY",
        "outputId": "1019573d-76a7-47b6-bb84-ceee499109bc"
      },
      "outputs": [
        {
          "data": {
            "text/plain": [
              "2"
            ]
          },
          "execution_count": 36,
          "metadata": {},
          "output_type": "execute_result"
        }
      ],
      "source": [
        "params.get('4653 ', 2)"
      ]
    },
    {
      "cell_type": "code",
      "execution_count": null,
      "metadata": {
        "id": "a1JXowtYeaTZ"
      },
      "outputs": [],
      "source": [
        "# Adding a new dictionary entry:\n",
        "params['key4'] = 'D'"
      ]
    },
    {
      "cell_type": "code",
      "execution_count": null,
      "metadata": {
        "id": "ymITd1AXeaTZ",
        "outputId": "b133db0e-d13c-48ab-9b5e-31d3720a677c"
      },
      "outputs": [
        {
          "name": "stdout",
          "output_type": "stream",
          "text": [
            "{'key1': 1.0, 'key2': 2.0, 'key3': 3.0, (1, 2, 3): 2, 'key4': 'D'}\n"
          ]
        }
      ],
      "source": [
        "print(params)"
      ]
    },
    {
      "cell_type": "code",
      "execution_count": null,
      "metadata": {
        "id": "BWj-XGXleaTZ"
      },
      "outputs": [],
      "source": [
        "# Reassigning the value of a key-value pair in the dictionary:\n",
        "params['key1'] = 'A'\n",
        "params['key2'] = 'B'"
      ]
    },
    {
      "cell_type": "code",
      "execution_count": null,
      "metadata": {
        "id": "G5jQawOVeaTa",
        "outputId": "8b538504-4719-4f6b-c94c-5a070f0e7ccd"
      },
      "outputs": [
        {
          "name": "stdout",
          "output_type": "stream",
          "text": [
            "{'key1': 'A', 'key2': 'B', 'key3': 3.0, (1, 2, 3): 2, 'key4': 'D'}\n"
          ]
        }
      ],
      "source": [
        "print(params)"
      ]
    },
    {
      "cell_type": "code",
      "execution_count": null,
      "metadata": {
        "id": "RYPeSiD6eaTa",
        "outputId": "e72fa2be-c04c-4592-b30c-38ba0f05d503"
      },
      "outputs": [
        {
          "name": "stdout",
          "output_type": "stream",
          "text": [
            "Key 1 = A\n",
            "Key 2 = B\n",
            "Key 3 = 3.0\n",
            "Key 4 = D\n"
          ]
        }
      ],
      "source": [
        "print('Key 1 = ' + str(params['key1']))\n",
        "print('Key 2 = ' + str(params['key2']))\n",
        "print('Key 3 = ' + str(params['key3']))\n",
        "print('Key 4 = ' + str(params['key4']))"
      ]
    },
    {
      "cell_type": "code",
      "execution_count": null,
      "metadata": {
        "id": "N1eXeI5YeaTa",
        "outputId": "4560f530-bf88-4293-9e46-984ed0bf83cd"
      },
      "outputs": [
        {
          "name": "stdout",
          "output_type": "stream",
          "text": [
            " The key is key1 and the value is A\n",
            " The key is key2 and the value is B\n",
            " The key is key3 and the value is 3.0\n",
            " The key is (1, 2, 3) and the value is 2\n",
            " The key is key4 and the value is D\n"
          ]
        }
      ],
      "source": [
        "for key, value in params.items():\n",
        "    print(' The key is ' + str(key) + ' and the value is ' + str(value))"
      ]
    },
    {
      "cell_type": "code",
      "execution_count": null,
      "metadata": {
        "id": "KyqwMQqAeaTa"
      },
      "outputs": [],
      "source": [
        "# Dictionaries also have methods.\n",
        "\n",
        "# Convert a dictionary to a list of tuples (key-value pairs).\n",
        "# This is later used to conveniently loop through a dictionary:\n",
        "list(params.items())"
      ]
    },
    {
      "cell_type": "code",
      "execution_count": null,
      "metadata": {
        "id": "GuH417i9eaTa"
      },
      "outputs": [],
      "source": [
        "params.keys()"
      ]
    },
    {
      "cell_type": "code",
      "execution_count": null,
      "metadata": {
        "id": "fWTCYEZKeaTa"
      },
      "outputs": [],
      "source": [
        "params.values()"
      ]
    },
    {
      "cell_type": "markdown",
      "metadata": {
        "id": "fGoZttnfeaTb"
      },
      "source": [
        "<a id=\"types-quiz\"></a>\n",
        "## Practice: Types\n",
        "\n",
        "<img src=\"https://www.dropbox.com/scl/fi/wor5bkewjhlsz47cmau2z/hands_on.jpg?rlkey=6zs577o8toohmg6kpxek5hp8v&raw=1\" width=\"100\" height=\"100\" align=\"right\"/>\n",
        "\n",
        "\n",
        "\n",
        "---\n",
        "\n",
        "_Identify the variable types of the following five items:_\n",
        "\n",
        "- `1`\n",
        "- `-1.0`\n",
        "- `1,000,000`\n",
        "- `'10'`\n",
        "- `('twenty-four')`\n",
        "\n",
        "\n",
        "### Challenge\n",
        "_Create a list of all numbers between `1` and `100`, inclusive, using the `range()` function discussed above. Can you slice the list so that we see every fifth number, starting at `4` and ending at `82`?_"
      ]
    },
    {
      "cell_type": "code",
      "execution_count": null,
      "metadata": {
        "id": "KzLXOYOueaTb"
      },
      "outputs": [],
      "source": [
        "### Type your answer here\n",
        "\n"
      ]
    },
    {
      "cell_type": "markdown",
      "metadata": {
        "id": "bN9uRPCAeaTb"
      },
      "source": [
        "<a id=\"functions-def\"></a>\n",
        "## Common Python Functions and Control Flow\n",
        "---\n",
        "\n",
        "\n",
        "<img src=\"https://www.dropbox.com/scl/fi/3m2gwgnjxl9afedoansec/control.png?rlkey=wq7771znd5m3uw6f46k7pwaa7&raw=1\"  align=\"center\"/>\n",
        "\n",
        "---\n",
        "In this section, we're going to tackle some common design patterns in Python. The first is the concept of control flow — this is how our programs will return different results based on specific input. Second, we'll cover basic functions — these let us create snippets of code that we can call later in a script, which creates code that's easier to read and maintain. Remember, we're going to be reading code much more often than writing it!"
      ]
    },
    {
      "cell_type": "markdown",
      "metadata": {
        "id": "sdrYKpv-eaTb"
      },
      "source": [
        "## `if… else` Statements\n",
        "\n",
        "In Python, indentation matters! This is especially true when we look at the control structures in this lesson. In each case, a block of indented code is only run some of the time. There will always be a condition in the line preceding the indented block that determines whether the indented code is run or skipped.\n",
        "\n",
        "### `if` Statement\n",
        "The simplest example of a control structure is the `if` statement. We start with `if`, followed by something that can evaluate to `True` or `False` (such as any of the comparison operators we discussed earlier)."
      ]
    },
    {
      "cell_type": "code",
      "execution_count": null,
      "metadata": {
        "id": "LTyxyIk8eaTb",
        "outputId": "dbe577af-80c6-4059-b9ad-c80016cc08c5"
      },
      "outputs": [
        {
          "name": "stdout",
          "output_type": "stream",
          "text": [
            "The integer 1 is equal to the integer 1.\n",
            "Is the next indented line run, too?\n"
          ]
        }
      ],
      "source": [
        "if 1 == 1:\n",
        "    print('The integer 1 is equal to the integer 1.')\n",
        "    print('Is the next indented line run, too?')"
      ]
    },
    {
      "cell_type": "code",
      "execution_count": null,
      "metadata": {
        "id": "YhE18LeNeaTc",
        "outputId": "1136718e-7cef-454e-f2f1-1b6b2a2df883"
      },
      "outputs": [
        {
          "name": "stdout",
          "output_type": "stream",
          "text": [
            "---\n",
            "These two lines are not indented, so they are always run next.\n"
          ]
        }
      ],
      "source": [
        "if 'one' == 'two':\n",
        "    print(\"The string 'one' is equal to the string 'two'.\")\n",
        "\n",
        "print('---')\n",
        "print('These two lines are not indented, so they are always run next.')"
      ]
    },
    {
      "cell_type": "markdown",
      "metadata": {
        "id": "cYVyFVi5eaTc"
      },
      "source": [
        "Notice that, in Python, the line before every indented block must end with a colon (`:`). In fact, it turns out that the `if` statement has a very specific syntax:\n",
        "\n",
        "```\n",
        "if <expression>:\n",
        "    <one or more indented lines>\n",
        "```\n",
        "\n",
        "When the `if` statement is run, the expression is evaluated to `True` or `False` by applying the built-in `bool()` function. If the expression evaluates to `True`, the code block is run; otherwise, it is skipped."
      ]
    },
    {
      "cell_type": "markdown",
      "metadata": {
        "id": "dqNoQQgTeaTc"
      },
      "source": [
        "#### Now You Try!\n",
        "<img src=\"https://www.dropbox.com/scl/fi/wor5bkewjhlsz47cmau2z/hands_on.jpg?rlkey=6zs577o8toohmg6kpxek5hp8v&raw=1\" width=\"100\" height=\"100\" align=\"right\"/>\n",
        "\n",
        "\n",
        "Create your own string called `test_string`, then fill in the blanks here to create an `if... else` statement for whether or not the first character in `test_string` is a lowercase `a`."
      ]
    },
    {
      "cell_type": "code",
      "execution_count": null,
      "metadata": {
        "id": "51kt0AAQeaTd"
      },
      "outputs": [],
      "source": [
        "#### Type your answer here\n"
      ]
    },
    {
      "cell_type": "markdown",
      "metadata": {
        "id": "42S2bxjveaTd"
      },
      "source": [
        "#### `if` ... `else`\n",
        "\n",
        "In many cases, you may want to run some code if the expression evaluates to `True` and some other code if it evaluates to `False`. This is done using `else`. Note how it is at the same indentation level as the `if` statement, followed by a colon, followed by a code block. Let's see it in action."
      ]
    },
    {
      "cell_type": "code",
      "execution_count": null,
      "metadata": {
        "id": "I2RUaBEkeaTd"
      },
      "outputs": [],
      "source": [
        "if 50 < 30:\n",
        "    print(\"50 < 30.\")\n",
        "else:\n",
        "    print(\"50 >= 30.\")\n",
        "    print(\"The else code block was run instead of the first block.\")\n",
        "\n",
        "print('---')\n",
        "print('These two lines are not indented, so they are always run next.')"
      ]
    },
    {
      "cell_type": "markdown",
      "metadata": {
        "id": "C_YpMYPDeaTe"
      },
      "source": [
        "#### `if` ... `elif` ... `else`\n",
        "\n",
        "Sometimes, you might want to run one specific code block out of several. For example, perhaps we provide the user with three choices and want something different to happen with each one.\n",
        "\n",
        "`elif` stands for `else if`. It belongs on a line between the initial `if` statement and an (optional) `else`."
      ]
    },
    {
      "cell_type": "code",
      "execution_count": null,
      "metadata": {
        "id": "Y_cnkIDueaTe",
        "outputId": "35e2fe10-f86f-4ade-de82-a184c6883d2f"
      },
      "outputs": [
        {
          "name": "stdout",
          "output_type": "stream",
          "text": [
            "Your health is average.\n",
            "Exercise and eat healthily!\n",
            "---\n",
            "These two lines are not indented, so they are always run next.\n"
          ]
        }
      ],
      "source": [
        "health = 55\n",
        "\n",
        "if health > 70 :\n",
        "    print('You are in great health!')\n",
        "elif health > 40:\n",
        "    print('Your health is average.')\n",
        "    print('Exercise and eat healthily!')\n",
        "elif health > 20:\n",
        "    print('Your health is ok.')\n",
        "    print('Dont eat meat!')\n",
        "else:\n",
        "    print('Your health is low.')\n",
        "    print('Please see a doctor now.')\n",
        "\n",
        "print('---')\n",
        "print('These two lines are not indented, so they are always run next.')"
      ]
    },
    {
      "cell_type": "markdown",
      "metadata": {
        "id": "i4ITCc24eaTe"
      },
      "source": [
        "This code works by evaluating each condition in order. If a condition evaluates to `True`, the rest are skipped.\n",
        "\n",
        "**Let's walk through the code.** First, we let `health = 55`. We move to the next line at the same indentation level — the `if`. We evaluate `health > 70` to be `False`, so its code block is skipped. Next, the interpreter moves to the next line at the same outer indentation level, which happens to be the `elif`. It evaluates its expression, `health > 40`, to be `True`, so its code block is run. Now, because a code block was run, the rest of the `if` statement is skipped."
      ]
    },
    {
      "cell_type": "markdown",
      "metadata": {
        "id": "SZnTWKqHeaTe"
      },
      "source": [
        "## `for` Loops\n",
        "---\n",
        "<img src=\"https://www.dropbox.com/scl/fi/6zve2pfb1egp9j70cwej5/for.png?rlkey=6crc7u427dsd4ib4inavai22r&dl=0\"  align=\"right\"/>\n",
        "\n",
        "\n",
        "\n",
        "One of the primary purposes of using a programming language is to automate repetitive tasks. One example is the `for` loop.\n",
        "\n",
        "The `for` loop allows you to perform a task repeatedly on every element within an object, such as every name in a list.\n",
        "\n",
        "\n",
        "Let's see how the pseudocode works:\n",
        "\n",
        "```python\n",
        "# For each individual object in the list\n",
        "    # perform task_A on said object.\n",
        "    # Once task_A has been completed, move to next object in the list.\n",
        "```\n",
        "\n",
        "Let's say we wanted to print each of the names in the list, as well as \"is Awesome!\" In this case, we'd create a temporary variable for each element in the collection (`for name in names` would put each name, in sequence, under the temporary variable `name`) and then do something with it."
      ]
    },
    {
      "cell_type": "code",
      "execution_count": null,
      "metadata": {
        "id": "5ICgj3g-eaTe"
      },
      "outputs": [],
      "source": [
        "names = ['Rebecca Bunch', 'Paula Proctor', 'Heather Davis']\n",
        "\n",
        "for item in names:\n",
        "    print(item + ' Is Awesome!')"
      ]
    },
    {
      "cell_type": "markdown",
      "metadata": {
        "id": "LBel0XAKeaTf"
      },
      "source": [
        "We can also combine `if... else` statements and `for` loops:"
      ]
    },
    {
      "cell_type": "code",
      "execution_count": null,
      "metadata": {
        "id": "khnZwqh4eaTf"
      },
      "outputs": [],
      "source": [
        "names"
      ]
    },
    {
      "cell_type": "code",
      "execution_count": null,
      "metadata": {
        "id": "358xGz8ReaTf"
      },
      "outputs": [],
      "source": [
        "for item in names:\n",
        "    if item == 'Paula Proctor':\n",
        "        print(item + ' Is REALLY AWESOME!')\n",
        "    else:\n",
        "        print(item + ' Is Awesome!')"
      ]
    },
    {
      "cell_type": "code",
      "execution_count": null,
      "metadata": {
        "id": "emLo8EcseaTg"
      },
      "outputs": [],
      "source": [
        "for index, item in enumerate(names):\n",
        "    if item == 'The Hulk':\n",
        "        break\n",
        "else:\n",
        "    print('I know I did not fund the hulk')\n"
      ]
    },
    {
      "cell_type": "markdown",
      "metadata": {
        "id": "IgGJqjvbeaTg"
      },
      "source": [
        "#### Now You Try!\n",
        "<img src=\"https://www.dropbox.com/scl/fi/wor5bkewjhlsz47cmau2z/hands_on.jpg?rlkey=6zs577o8toohmg6kpxek5hp8v&raw=1\" width=\"100\" height=\"100\" align=\"right\"/>\n",
        "Create a new `if... elif... else` and `for` loop combination, using a list of your own choice."
      ]
    },
    {
      "cell_type": "code",
      "execution_count": null,
      "metadata": {
        "id": "lyL0GQkBeaTg"
      },
      "outputs": [],
      "source": [
        "### Type your answer here\n"
      ]
    },
    {
      "cell_type": "markdown",
      "metadata": {
        "id": "u7N8RDX7eaTg"
      },
      "source": [
        "## Functions\n",
        "---\n",
        "\n",
        "**When would you want to call the same code over and over again? What benefit does that have in programming?**\n",
        "\n"
      ]
    },
    {
      "cell_type": "markdown",
      "metadata": {
        "id": "hcNaf9rXeaTg"
      },
      "source": [
        "Similar to the way we can use `for` loops as a means of performing repetitive tasks on a series of objects, we can also create functions to perform repetitive tasks. Within a function, we can write a large block of action and then call the function whenever we want to use it.  \n",
        "\n",
        "\n",
        "Let's write some pseudocode, which is code that Python will not run successfully, but illustrates the basic idea without worrying about correct syntax:\n",
        "```python\n",
        "# Define the function name and the requirements it needs.\n",
        "    # Perform actions.\n",
        "    # Optional: Return output.\n",
        "```\n",
        "\n",
        "A function is defined like this:\n",
        "\n",
        "```python\n",
        "def function_name(arguments):\n",
        "    # Do things here.\n",
        "    return value\n",
        "```\n",
        "\n",
        "We start with `def` and the name of our function, then a set of parentheses. The terms we put in the parentheses will be passed into the function and stored in those variables. Finally, if we want to store the results of the function, we use `return`, which will let us take some value and store it once the function has run, like this:\n",
        "\n",
        "```python\n",
        "x = function_name(20)\n",
        "```\n",
        "\n",
        "Whatever follows `return` when the function is defined will be passed out of the function and stored in `x`.\n",
        "\n",
        "Let's create a function that takes two numbers as arguments and returns their sum, difference, and product."
      ]
    },
    {
      "cell_type": "code",
      "execution_count": null,
      "metadata": {
        "scrolled": true,
        "id": "kz5Pu18GeaTh"
      },
      "outputs": [],
      "source": [
        "def arithmetic(num1, num2=10):\n",
        "    print(num1 + num2)\n",
        "    print(num1 - num2)\n",
        "    print(num1 * num2)\n",
        "    return num1\n",
        "\n",
        "arithmetic(3)"
      ]
    },
    {
      "cell_type": "markdown",
      "metadata": {
        "id": "CssCjdoKeaTh"
      },
      "source": [
        "<a id=\"functions-codealong\"></a>\n",
        "## Common Functions Code-Along\n",
        "\n",
        "\n",
        "<img src=\"https://www.dropbox.com/scl/fi/wor5bkewjhlsz47cmau2z/hands_on.jpg?rlkey=6zs577o8toohmg6kpxek5hp8v&raw=1\" width=\"100\" height=\"100\" align=\"right\"/>\n",
        "---\n",
        "\n",
        "In this section, we'll run through some basic functions and how we might use them."
      ]
    },
    {
      "cell_type": "markdown",
      "metadata": {
        "id": "OZGrnwIBeaTh"
      },
      "source": [
        "Write a function that takes the length of a side of a square as an argument and returns its area."
      ]
    },
    {
      "cell_type": "code",
      "execution_count": null,
      "metadata": {
        "id": "u7iEZd9neaTh"
      },
      "outputs": [],
      "source": [
        "def area_square(length):\n",
        "    return length*length\n",
        "\n",
        "print(area_square(4))"
      ]
    },
    {
      "cell_type": "markdown",
      "metadata": {
        "id": "PqyJBxAieaTi"
      },
      "source": [
        "Write a function that takes the height and width of a triangle and returns its area."
      ]
    },
    {
      "cell_type": "code",
      "execution_count": null,
      "metadata": {
        "id": "rjgeJ_LCeaTi"
      },
      "outputs": [],
      "source": [
        "def area_triangle(height, width):\n",
        "    # FILL\n",
        "    return None\n",
        "\n",
        "print(area_triangle(2, 6))"
      ]
    },
    {
      "cell_type": "markdown",
      "metadata": {
        "id": "EZLdyi1OeaTi"
      },
      "source": [
        "Write a function that takes a string as an argument and returns a tuple consisting of two elements:\n",
        "\n",
        "- A list of all of the characters in the string.\n",
        "- A count of the number of characters in the string."
      ]
    },
    {
      "cell_type": "code",
      "execution_count": null,
      "metadata": {
        "id": "reKdDYhVeaTi"
      },
      "outputs": [],
      "source": [
        "def list_and_count(word):\n",
        "    # FILL\n",
        "    return None\n",
        "\n",
        "print(list_and_count('Lisa Simpson'))"
      ]
    },
    {
      "cell_type": "markdown",
      "metadata": {
        "id": "cCvsZOjVeaTj"
      },
      "source": [
        "#### Now You Try!\n",
        "\n",
        "Write a function that takes two integers, passed as strings, and returns the sum, difference, and product as a tuple (with all values as integers)."
      ]
    },
    {
      "cell_type": "code",
      "execution_count": null,
      "metadata": {
        "id": "GFZzLKw4eaTj"
      },
      "outputs": [],
      "source": [
        "#### Type your answer here\n",
        "\n"
      ]
    },
    {
      "cell_type": "markdown",
      "metadata": {
        "id": "nuDTi2qveaTj"
      },
      "source": [
        "Write a function that takes a list as the argument and returns a tuple consisting of two elements:\n",
        "\n",
        "- A list with the items in reverse order.\n",
        "- A list of the items in the original list that have an odd index."
      ]
    },
    {
      "cell_type": "code",
      "execution_count": null,
      "metadata": {
        "id": "nEwkdD6LeaTk"
      },
      "outputs": [],
      "source": [
        "names"
      ]
    },
    {
      "cell_type": "code",
      "execution_count": null,
      "metadata": {
        "id": "J0aJd-36eaTk"
      },
      "outputs": [],
      "source": [
        "def reverse_and_odd(input_list):\n",
        "    # FILL\n",
        "    return None\n",
        "\n",
        "reverse_and_odd(names)"
      ]
    },
    {
      "cell_type": "markdown",
      "metadata": {
        "id": "K5rWtrcPeaTk"
      },
      "source": [
        "_Write a function that calculates the factorial of an input number_\n",
        "\n",
        "4 ! = 4 * 3 * 2 * 1      ==> 24\n",
        "\n",
        "5 ! = 5 * 4 * 3 * 2 * 1       ==> 120\n",
        "\n",
        "1 != 1\n",
        "\n",
        "<img src=\"https://www.dropbox.com/scl/fi/wor5bkewjhlsz47cmau2z/hands_on.jpg?rlkey=6zs577o8toohmg6kpxek5hp8v&raw=1\" width=\"100\" height=\"100\" align=\"right\"/>\n",
        "\n",
        "---\n",
        "\n"
      ]
    },
    {
      "cell_type": "code",
      "execution_count": null,
      "metadata": {
        "id": "KvB7qeZxeaTl"
      },
      "outputs": [],
      "source": [
        "def factorial (input):\n",
        "    # add your code here\n",
        "    output=1\n",
        "\n",
        "    return output\n",
        "\n",
        "\n",
        "factorial (4)"
      ]
    },
    {
      "cell_type": "markdown",
      "metadata": {
        "id": "v6TKec34eaTl"
      },
      "source": [
        "## Different Approaches to Solving this problem,"
      ]
    },
    {
      "cell_type": "code",
      "execution_count": null,
      "metadata": {
        "id": "_XVPqmPReaTl"
      },
      "outputs": [],
      "source": [
        "def factorial (input):\n",
        "    if input == 1:\n",
        "        return(1)\n",
        "    else:\n",
        "        return(input * factorial (input-1))\n",
        "\n",
        "\n",
        "factorial (4)"
      ]
    },
    {
      "cell_type": "code",
      "execution_count": null,
      "metadata": {
        "id": "9awKIuMReaTl"
      },
      "outputs": [],
      "source": [
        "## Write your code here\n",
        "def factorial (input_number):\n",
        "    result=1\n",
        "    for item in range(1,input_number+1):\n",
        "        result=result*item\n",
        "    return(result)\n",
        "\n",
        "factorial(4)"
      ]
    },
    {
      "cell_type": "code",
      "execution_count": null,
      "metadata": {
        "id": "v1sfc4FYeaTm"
      },
      "outputs": [],
      "source": [
        "def factor(x):\n",
        "    fact = x\n",
        "    while x > 1:\n",
        "        fact = fact * (x-1)\n",
        "        x = x-1\n",
        "    return fact\n",
        "print(factor(4))"
      ]
    },
    {
      "cell_type": "markdown",
      "metadata": {
        "id": "DPmBTZ9eeaTm"
      },
      "source": [
        "## Take Home Practice: Functions\n",
        "\n",
        "<img src=\"https://www.dropbox.com/scl/fi/wor5bkewjhlsz47cmau2z/hands_on.jpg?rlkey=6zs577o8toohmg6kpxek5hp8v&raw=1\" width=\"100\" height=\"100\" align=\"right\"/>\n",
        "\n",
        "---\n",
        "\n",
        "Can you tackle these three challenges on your own?\n",
        "\n",
        "_Write a function that takes a word as an argument and returns the number of vowels in the word._\n",
        "\n",
        "_Write a function that takes in a list of animals. Have it print out each animal's name in FULL CAPITAL LETTERS._\n",
        "\n",
        "- **Note:** You may need to do some outside research to find out how Python can capitalize all letters in a string!"
      ]
    },
    {
      "cell_type": "code",
      "execution_count": null,
      "metadata": {
        "id": "wPmjEnvqeaTm"
      },
      "outputs": [],
      "source": []
    }
  ],
  "metadata": {
    "celltoolbar": "Slideshow",
    "kernelspec": {
      "display_name": "global-venv",
      "language": "python",
      "name": "global-venv"
    },
    "language_info": {
      "codemirror_mode": {
        "name": "ipython",
        "version": 3
      },
      "file_extension": ".py",
      "mimetype": "text/x-python",
      "name": "python",
      "nbconvert_exporter": "python",
      "pygments_lexer": "ipython3",
      "version": "3.9.1"
    },
    "pycharm": {
      "stem_cell": {
        "cell_type": "raw",
        "source": [
          "# Intro to Python \n"
        ],
        "metadata": {
          "collapsed": false
        }
      }
    },
    "colab": {
      "provenance": []
    }
  },
  "nbformat": 4,
  "nbformat_minor": 0
}