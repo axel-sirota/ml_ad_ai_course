{
  "cells": [
    {
      "cell_type": "markdown",
      "metadata": {
        "id": "view-in-github",
        "colab_type": "text"
      },
      "source": [
        "<a href=\"https://colab.research.google.com/github/axel-sirota/ml_ad_ai_course/blob/main/Classical%20ML/4_Logistic_Regression_and_Trees.ipynb\" target=\"_parent\"><img src=\"https://colab.research.google.com/assets/colab-badge.svg\" alt=\"Open In Colab\"/></a>"
      ]
    },
    {
      "cell_type": "markdown",
      "metadata": {
        "id": "UB4r2DhhDZE4"
      },
      "source": [
        "# Logistic Regression and Decision Trees\n",
        "\n",
        "© Data Trainers LLC. GPL v 3.0.\n",
        "\n",
        "Author: Axel Sirota"
      ]
    },
    {
      "cell_type": "markdown",
      "metadata": {
        "id": "3aMdnFYeDZE4"
      },
      "source": [
        "<a id=\"learning-objectives\"></a>\n",
        "### Learning Objectives\n",
        "- Learn how to perform logistic regression in scikit-learn.\n",
        "- Understand the concepts of probability, odds, e, log, and log-odds in relation to machine learning.\n",
        "- Explain how logistic regression works.\n",
        "- Interpret logistic regression coefficients.\n",
        "- Use logistic regression with categorical features.\n",
        "- Utilize different metrics for evaluating classifier models.\n",
        "- Construct a confusion matrix based on predicted classes."
      ]
    },
    {
      "cell_type": "markdown",
      "metadata": {
        "id": "jSe2DA9HDZE4"
      },
      "source": [
        "<a id=\"refresher-fitting-and-visualizing-a-linear-regression-using-scikit-learn\"></a>\n",
        "## Refresher: Fitting and Visualizing a Linear Regression Using scikit-learn\n",
        "---\n",
        "\n",
        "Use Pandas to load in the glass attribute data from the UCI machine learning website. The columns are different measurements of properties of glass that can be used to identify the glass type. For detailed information on the columns in this data set: http://archive.ics.uci.edu/ml/datasets/glass+identification"
      ]
    },
    {
      "cell_type": "code",
      "execution_count": null,
      "metadata": {
        "id": "SVdaQP8aDZE5"
      },
      "outputs": [],
      "source": [
        "# Glass identification data set\n",
        "import pandas as pd\n",
        "from sklearn import linear_model, model_selection, metrics\n",
        "\n",
        "import warnings\n",
        "warnings.filterwarnings('ignore')"
      ]
    },
    {
      "cell_type": "code",
      "source": [
        "\n",
        "%%writefile get_data.sh\n",
        "mkdir -p data\n",
        "if [ ! -f data/admissions.csv ]; then\n",
        "  wget -O data/admissions.csv https://www.dropbox.com/scl/fi/bjcutl89xibf3r99yc8q0/admissions.csv?rlkey=n36lo0iffob0j73rys1vf3cn5&dl=0\n",
        "fi\n",
        "if [ ! -f data/bank.csv ]; then\n",
        "  wget -O data/bank.csv https://www.dropbox.com/scl/fi/ukxqbfalj3rx5nyzven9j/bank.csv?rlkey=hfrax97bwt45dq9ag0jdpsgsp&dl=0\n",
        "fi\n",
        "if [ ! -f data/evergreen_sites.tsv ]; then\n",
        "  wget -O data/evergreen_sites.tsv https://www.dropbox.com/scl/fi/c310bmln3pv8vdlbweo1k/evergreen_sites.tsv?rlkey=kie6jqkr4klw26b9gnowinyd9&dl=0\n",
        "fi\n",
        "if [ ! -f data/glass.csv ]; then\n",
        "  wget -O data/glass.csv https://www.dropbox.com/scl/fi/dv522a61am4dsc3vkfp4p/glass.csv?rlkey=6l9v685sw98plzj2myvtjpes6&dl=0\n",
        "fi\n",
        "if [ ! -f data/titanic.csv ]; then\n",
        "  wget -O data/titanic.csv https://www.dropbox.com/scl/fi/csnl3vpbq94i4vxpfoe2w/titanic.csv?rlkey=6q576c7lp0e25tb5khvz066l9&dl=0\n",
        "fi"
      ],
      "metadata": {
        "id": "TeYaHQIJDlpJ"
      },
      "execution_count": null,
      "outputs": []
    },
    {
      "cell_type": "code",
      "source": [
        "!bash get_data.sh"
      ],
      "metadata": {
        "id": "YUTfrfeYECoY"
      },
      "execution_count": null,
      "outputs": []
    },
    {
      "cell_type": "code",
      "execution_count": null,
      "metadata": {
        "id": "x0lPHNjaDZE6"
      },
      "outputs": [],
      "source": [
        "glass = pd.read_csv('data/glass.csv')"
      ]
    },
    {
      "cell_type": "code",
      "execution_count": null,
      "metadata": {
        "id": "CxZmpkdbDZE6"
      },
      "outputs": [],
      "source": [
        "# change columns to something more uniform\n",
        "glass.columns = ['ri','na','mg','al','si','k','ca','ba','fe','glass_type']\n",
        "glass.head(3)"
      ]
    },
    {
      "cell_type": "markdown",
      "metadata": {
        "id": "EySilbsQDZE7"
      },
      "source": [
        "**Data Dictionary**\n",
        "\n",
        "- `Id`: number: 1 to 214\n",
        "- `RI`: refractive index  \n",
        "- `Na`: Sodium (unit measurement: weight percent in corresponding oxide, as are attributes 4-10)\n",
        "- `Mg`: Magnesium\n",
        "- `Al`: Aluminum\n",
        "- `Si`: Silicon\n",
        "- `K` : Potassium\n",
        "- `Ca`: Calcium\n",
        "- `Ba`: Barium\n",
        "- `Fe`: Iron\n",
        "- `Type` : Type of glass:"
      ]
    },
    {
      "cell_type": "markdown",
      "metadata": {
        "id": "YcHBDrkvDZE7"
      },
      "source": [
        "**Pretend we want to predict `ri`, and our only feature is `al`. How could we do it using machine learning?**\n",
        "\n",
        "<!--\n",
        "**Answer:** We could frame it as a regression problem, and use a linear regression model with **`al`** as the only feature and **`ri`** as the response.\n",
        "-->\n",
        "\n",
        "**How would we visualize this model?**\n",
        "<!--\n",
        "**Answer:** Create a scatter plot with **`al`** on the x-axis and **`ri`** on the y-axis, and draw the line of best fit.\n",
        "-->"
      ]
    },
    {
      "cell_type": "code",
      "execution_count": null,
      "metadata": {
        "id": "RO24KJuCDZE8"
      },
      "outputs": [],
      "source": [
        "import seaborn as sns\n",
        "import matplotlib.pyplot as plt\n",
        "%matplotlib inline\n",
        "sns.set(font_scale=1.5);"
      ]
    },
    {
      "cell_type": "code",
      "execution_count": null,
      "metadata": {
        "id": "CYRB0TUQDZE9"
      },
      "outputs": [],
      "source": [
        "#scatter with regression line\n",
        "sns.lmplot(x='al', y='ri', data=glass);"
      ]
    },
    {
      "cell_type": "markdown",
      "metadata": {
        "id": "5Hlk_jYtDZE9"
      },
      "source": [
        "**How can we draw this plot (just the points — don't worry about the regression line) without using Seaborn?**"
      ]
    },
    {
      "cell_type": "code",
      "execution_count": null,
      "metadata": {
        "id": "LNcekSHzDZE9"
      },
      "outputs": [],
      "source": [
        "# Scatter plot using Pandas\n",
        "glass.plot(kind='scatter', x='al', y='ri')\n",
        "\n",
        "# Seaborn with parameters\n",
        "#sns.lmplot(x='al', y='ri', data=glass, fit_reg=False);\n",
        "\n",
        "# Equivalent scatter plot using Matplotlib\n",
        "#plt.scatter(glass.al, glass.ri)\n",
        "#plt.xlabel('al')\n",
        "#plt.ylabel('ri')"
      ]
    },
    {
      "cell_type": "markdown",
      "metadata": {
        "id": "yECu--oMDZE-"
      },
      "source": [
        "To build a linear regression model to predict `ri` using scikit-learn, we will need to Import `LinearRegression` from `linear_model`.\n",
        "\n",
        "**Using `LinearRegression`, fit a model predicting `ri` from `al` (and an intercept).**"
      ]
    },
    {
      "cell_type": "code",
      "execution_count": null,
      "metadata": {
        "id": "cLx3lh4eDZE-"
      },
      "outputs": [],
      "source": [
        "# Fit a linear regression model (name the model \"linreg\").\n",
        "## Fill\n",
        "\n",
        "feature_cols = ['al']\n",
        "X = glass[feature_cols]\n",
        "y = glass.ri\n",
        "\n",
        "linreg = None\n"
      ]
    },
    {
      "cell_type": "code",
      "execution_count": null,
      "metadata": {
        "id": "Pndu5uA6DZE-"
      },
      "outputs": [],
      "source": [
        "X.head()"
      ]
    },
    {
      "cell_type": "code",
      "execution_count": null,
      "metadata": {
        "id": "8-FB-JHmDZE_"
      },
      "outputs": [],
      "source": [
        "y.head()"
      ]
    },
    {
      "cell_type": "markdown",
      "metadata": {
        "id": "Uj8urkW2DZE_"
      },
      "source": [
        "**Using the `LinearRegression` object we have fit, create a variable that are our predictions for `ri` for each row's `al` in the data set.**"
      ]
    },
    {
      "cell_type": "code",
      "execution_count": null,
      "metadata": {
        "id": "WToYhfFaDZE_"
      },
      "outputs": [],
      "source": [
        "# Make predictions for all values of X and add back to the original DataFrame.\n",
        "y_pred = None\n",
        "\n",
        "# new column of y_pred\n",
        "glass['y_pred'] = y_pred"
      ]
    },
    {
      "cell_type": "code",
      "execution_count": null,
      "metadata": {
        "id": "Mr1_DutMDZE_"
      },
      "outputs": [],
      "source": [
        "glass.head()"
      ]
    },
    {
      "cell_type": "markdown",
      "metadata": {
        "id": "XIguOhQsDZFA"
      },
      "source": [
        "**Plot the predicted `ri` against each `al` as a line.**"
      ]
    },
    {
      "cell_type": "code",
      "execution_count": null,
      "metadata": {
        "id": "1Nt6AuvxDZFA"
      },
      "outputs": [],
      "source": [
        "# Plot those predictions connected by a line (try plt.plot()).\n",
        "plt.plot(glass.al, glass.y_pred, alpha=0.2)"
      ]
    },
    {
      "cell_type": "markdown",
      "metadata": {
        "id": "Vyd7kOMTDZFA"
      },
      "source": [
        "_Note the y axis labels when comparing to seaborns plot_"
      ]
    },
    {
      "cell_type": "markdown",
      "metadata": {
        "id": "ffmjPuNJDZFA"
      },
      "source": [
        "**Plot this regression line with the scatter points on the same chart.**"
      ]
    },
    {
      "cell_type": "code",
      "execution_count": null,
      "metadata": {
        "id": "nrR-CJ_wDZFA"
      },
      "outputs": [],
      "source": [
        "# Put the plots together (use a scatter and line graph).\n",
        "plt.scatter(glass.al, glass.ri)\n",
        "plt.plot(glass.al, glass.y_pred, color='red')\n",
        "plt.xlabel('al')\n",
        "plt.ylabel('ri')"
      ]
    },
    {
      "cell_type": "markdown",
      "metadata": {
        "id": "TVYh3oJLDZFB"
      },
      "source": [
        "<a id=\"refresher-interpreting-linear-regression-coefficients\"></a>\n",
        "## Refresher: Interpreting Linear Regression Coefficients\n",
        "---\n",
        "\n",
        "Recall the simple linear regression equation is $y = \\beta_0 + \\beta_1x$\n",
        "\n",
        "$\\beta_0$ is the intercept and $\\beta_1$ is, in this case, our coefficient on the `al` predictor."
      ]
    },
    {
      "cell_type": "markdown",
      "metadata": {
        "id": "AHbwLzy3DZFB"
      },
      "source": [
        "**Print out the intercept and coefficient values from our fit `LinearRegression` object.**"
      ]
    },
    {
      "cell_type": "code",
      "execution_count": null,
      "metadata": {
        "id": "tWl-C_BXDZFB"
      },
      "outputs": [],
      "source": [
        "print(linreg.intercept_)\n",
        "print(linreg.coef_)"
      ]
    },
    {
      "cell_type": "markdown",
      "metadata": {
        "id": "hj_m-QD-DZFC"
      },
      "source": [
        "**Manually compute the predicted value of `ri` when `al=2.0` using the regression equation.**"
      ]
    },
    {
      "cell_type": "code",
      "execution_count": null,
      "metadata": {
        "id": "AZCJR-LiDZFC"
      },
      "outputs": [],
      "source": [
        "# Compute prediction for al=2 using the equation.\n",
        "linreg.intercept_ + 2.0*linreg.coef_"
      ]
    },
    {
      "cell_type": "markdown",
      "metadata": {
        "id": "jfiBy90VDZFC"
      },
      "source": [
        "**Confirm that this is the same value we would get when using the built-in `.predict()` method of the `LinearRegression` object.**"
      ]
    },
    {
      "cell_type": "code",
      "execution_count": null,
      "metadata": {
        "id": "RmzygOG7DZFD"
      },
      "outputs": [],
      "source": [
        "# Compute prediction for al=2 using the predict method.\n",
        "# fill\n",
        "linreg.predict([[2]])"
      ]
    },
    {
      "cell_type": "markdown",
      "metadata": {
        "id": "v8FyEU0hDZFD"
      },
      "source": [
        "What do these coefficents mean?"
      ]
    },
    {
      "cell_type": "markdown",
      "metadata": {
        "id": "220xv_y4DZFD"
      },
      "source": [
        "**Coefficient interpretation:** A 1-unit increase in `al` is associated with a ~0.0025-unit decrease in `ri`.\n",
        "\n",
        "**Intercept interpretation:** When `al = 0`, the estimated value of `ri` is 1.52194533024."
      ]
    },
    {
      "cell_type": "markdown",
      "metadata": {
        "id": "VuNILYI_DZFD"
      },
      "source": [
        "---"
      ]
    },
    {
      "cell_type": "markdown",
      "metadata": {
        "id": "2KtDjGjEDZFD"
      },
      "source": [
        "<a id=\"predicting-a-categorical-response\"></a>\n",
        "## Predicting a Single Categorical Response\n",
        "---\n",
        "\n",
        "Linear regression is appropriate when we want to predict the value of a continuous target/response variable, but what about when we want to predict membership in a class or category?\n",
        "\n",
        "**Examine the glass type column in the data set. What are the counts in each category?**"
      ]
    },
    {
      "cell_type": "code",
      "execution_count": null,
      "metadata": {
        "id": "1_MADilHDZFD"
      },
      "outputs": [],
      "source": [
        "# Examine glass_type.\n",
        "glass.glass_type.value_counts().sort_index()"
      ]
    },
    {
      "cell_type": "markdown",
      "metadata": {
        "id": "VmXO4642DZFE"
      },
      "source": [
        "Say these types are subdivisions of broader glass types:\n",
        "\n",
        "> **Window glass:** types 1, 2, and 3\n",
        "\n",
        "> **Household glass:** types 5, 6, and 7\n",
        "\n",
        "**Create a new `household` column that indicates whether or not a row is household glass, coded as 1 or 0, respectively.**"
      ]
    },
    {
      "cell_type": "code",
      "execution_count": null,
      "metadata": {
        "id": "CjSmZWgDDZFE"
      },
      "outputs": [],
      "source": [
        "# Types 1, 2, 3 are window glass.\n",
        "# Types 5, 6, 7 are household glass.\n",
        "glass.tail()\n"
      ]
    },
    {
      "cell_type": "code",
      "execution_count": null,
      "metadata": {
        "id": "U4ffctlmDZFE"
      },
      "outputs": [],
      "source": [
        "glass.household.unique()"
      ]
    },
    {
      "cell_type": "code",
      "execution_count": null,
      "metadata": {
        "id": "HyFLb5X0DZFE"
      },
      "outputs": [],
      "source": [
        "glass.household.value_counts()"
      ]
    },
    {
      "cell_type": "code",
      "execution_count": null,
      "metadata": {
        "id": "0AAlgjVtDZFE"
      },
      "outputs": [],
      "source": [
        "glass['household_text'] = None\n",
        "glass.head()"
      ]
    },
    {
      "cell_type": "markdown",
      "metadata": {
        "id": "wTrTTaNlDZFE"
      },
      "source": [
        "Let's change our task, so that we're predicting the `household` category using `al`. Let's visualize the relationship to figure out how to do this.\n",
        "\n",
        "**Make a scatter plot comparing `al` and `household`.**"
      ]
    },
    {
      "cell_type": "code",
      "execution_count": null,
      "metadata": {
        "id": "zHQh7PYXDZFE"
      },
      "outputs": [],
      "source": [
        "plt.scatter(glass.al, glass.household)\n",
        "plt.xlabel('al')\n",
        "plt.ylabel('household')"
      ]
    },
    {
      "cell_type": "markdown",
      "metadata": {
        "id": "yeMBya5rDZFF"
      },
      "source": [
        "**Fit a new `LinearRegression` predicting `household` from `al`.**\n",
        "\n",
        "Let's draw a regression line like we did before:"
      ]
    },
    {
      "cell_type": "code",
      "execution_count": null,
      "metadata": {
        "id": "I-DN6AVvDZFF"
      },
      "outputs": [],
      "source": [
        "# Fit a linear regression model and store the predictions.\n",
        "feature_cols = ['al']\n",
        "X = glass[feature_cols]\n",
        "y = glass.household\n",
        "lr = LinearRegression()\n",
        "lr.fit(X,y)\n",
        "# Fit the model\n",
        "glass['household_pred'] = lr.predict(X) # prediction via Lin Reg"
      ]
    },
    {
      "cell_type": "code",
      "execution_count": null,
      "metadata": {
        "id": "Qm3udUVqDZFF"
      },
      "outputs": [],
      "source": [
        "# Scatter plot that includes the regression line\n",
        "plt.scatter(glass.al, glass.household)\n",
        "plt.plot(glass.al, glass.household_pred, color='red')\n",
        "plt.xlabel('al')\n",
        "plt.ylabel('household')"
      ]
    },
    {
      "cell_type": "markdown",
      "metadata": {
        "id": "4z7MtDreDZFF"
      },
      "source": [
        "If **al=3**, what class do we predict for household? **1**\n",
        "\n",
        "If **al=1.5**, what class do we predict for household? **0**\n",
        "\n",
        "We predict the 0 class for **lower** values of al, and the 1 class for **higher** values of al. What's our cutoff value? Around **al=2**, because that's where the linear regression line crosses the midpoint between predicting class 0 and class 1.\n",
        "\n",
        "Therefore, we'll say that if **household_pred >= 0.5**, we predict a class of **1**, else we predict a class of **0**."
      ]
    },
    {
      "cell_type": "markdown",
      "metadata": {
        "id": "m0Vm3iY9DZFF"
      },
      "source": [
        "**Using this threshold, create a new column of our predictions for whether a row is household glass.**"
      ]
    },
    {
      "cell_type": "code",
      "execution_count": null,
      "metadata": {
        "id": "ak4jGEqODZFG"
      },
      "outputs": [],
      "source": [
        "# Understanding np.where\n",
        "import numpy as np\n",
        "nums = np.array([5, 15, 8])\n",
        "\n",
        "# np.where returns the first value if the condition is True, and the second value if the condition is False.\n",
        "np.where(nums > 10, 'big', 'small')"
      ]
    },
    {
      "cell_type": "code",
      "execution_count": null,
      "metadata": {
        "scrolled": true,
        "id": "hilX4MRuDZFG"
      },
      "outputs": [],
      "source": [
        "# Transform household_pred to 1 or 0.\n",
        "glass['household_pred_class'] = np.where(glass.household_pred >= 0.5, 1, 0)\n",
        "glass.head()"
      ]
    },
    {
      "cell_type": "markdown",
      "metadata": {
        "id": "Pg7ddBshDZFH"
      },
      "source": [
        "**Plot a line that shows our predictions for class membership in household vs. not.**"
      ]
    },
    {
      "cell_type": "code",
      "execution_count": null,
      "metadata": {
        "id": "MQovFX1MDZFH"
      },
      "outputs": [],
      "source": [
        "# sort so we can have a continuous line\n",
        "glass.sort_values('al', inplace=True)\n",
        "# Plot the class predictions.\n",
        "plt.scatter(glass.al, glass.household)\n",
        "\n",
        "plt.xlabel('al')\n",
        "plt.ylabel('household')\n",
        "\n",
        "plt.plot(glass.al, glass.household_pred_class, color='red')"
      ]
    },
    {
      "cell_type": "markdown",
      "metadata": {
        "id": "eOuMW8nQDZFH"
      },
      "source": [
        "<a id=\"using-logistic-regression-for-classification\"></a>\n",
        "## Using Logistic Regression for Classification\n",
        "---\n",
        "\n",
        "Logistic regression is a more appropriate method for what we just did with a linear regression. The values output from a linear regression cannot be interpreted as probabilities of class membership since their values can be greater than 1 and less than 0. Logistic regression, on the other hand, ensures that the values output as predictions can be interpreted as probabilities of class membership.\n",
        "\n",
        "**Import the `LogisticRegression` class from `linear_model` below and fit the same regression model predicting `household` from `al`.**"
      ]
    },
    {
      "cell_type": "code",
      "execution_count": null,
      "metadata": {
        "id": "kRIus0ryDZFH"
      },
      "outputs": [],
      "source": [
        "# Fit a logistic regression model and store the class predictions.\n",
        "from sklearn.linear_model import LogisticRegression\n",
        "\n",
        "logreg = LogisticRegression()\n",
        "\n",
        "feature_cols = ['al']\n",
        "X = glass[feature_cols]\n",
        "y = glass.household\n",
        "\n",
        "logreg.fit(X,y)\n",
        "pred = logreg.predict(X)\n"
      ]
    },
    {
      "cell_type": "code",
      "execution_count": null,
      "metadata": {
        "id": "UjhuZdlNDZFH"
      },
      "outputs": [],
      "source": [
        "pred"
      ]
    },
    {
      "cell_type": "markdown",
      "metadata": {
        "id": "5mBLZDVQDZFI"
      },
      "source": [
        "**Plot the predicted class using the logistic regression as we did for the linear regression predictions above.**\n",
        "\n",
        "As you can see, the class predictions are the same."
      ]
    },
    {
      "cell_type": "code",
      "execution_count": null,
      "metadata": {
        "id": "d7OEw43fDZFI"
      },
      "outputs": [],
      "source": [
        "# Plot the class predictions.\n",
        "plt.scatter(glass.al, glass.household)\n",
        "plt.plot(glass.al, pred, color='red')\n",
        "plt.xlabel('al')\n",
        "plt.ylabel('household')"
      ]
    },
    {
      "cell_type": "markdown",
      "metadata": {
        "id": "agz491HeDZFI"
      },
      "source": [
        "What if we wanted the predicted probabilities instead of just the class predictions, to understand how confident we are in a given prediction?\n",
        "\n",
        "**Using the built-in `.predict_proba()` function, examine the predicted probabilities for the first handful of rows of `X`.**"
      ]
    },
    {
      "cell_type": "code",
      "execution_count": null,
      "metadata": {
        "id": "9V2w4m32DZFI"
      },
      "outputs": [],
      "source": [
        "X.head()"
      ]
    },
    {
      "cell_type": "code",
      "execution_count": null,
      "metadata": {
        "id": "kR2io1BiDZFJ"
      },
      "outputs": [],
      "source": [
        "logreg.predict_proba(X)[0:5]"
      ]
    },
    {
      "cell_type": "markdown",
      "metadata": {
        "id": "JDOavAxDDZFJ"
      },
      "source": [
        "Sklearn orders the columns according to our class labels. The two-column output of `predict_proba` returns a column for each class of our `household` variable. The first column is the probability of `household=0` for a given row, and the second column is the probability of `household=1`.\n",
        "\n",
        "**Store the predicted probabilities of class=1 in its own column in the data set.**"
      ]
    },
    {
      "cell_type": "code",
      "execution_count": null,
      "metadata": {
        "id": "GvkTHd5VDZFJ"
      },
      "outputs": [],
      "source": [
        "# Store the predicted probabilities of class 1.\n",
        "glass['household_pred_prob'] = logreg.predict_proba(X)[:, 1]"
      ]
    },
    {
      "cell_type": "code",
      "execution_count": null,
      "metadata": {
        "id": "br4kb2fRDZFJ"
      },
      "outputs": [],
      "source": [
        "glass.sample(10)"
      ]
    },
    {
      "cell_type": "markdown",
      "metadata": {
        "id": "ylNYn3l6DZFK"
      },
      "source": [
        "**Plot the predicted probabilities as a line on our plot (probability of `household=1` as `al` changes).**"
      ]
    },
    {
      "cell_type": "code",
      "execution_count": null,
      "metadata": {
        "id": "XcHO7-3WDZFK"
      },
      "outputs": [],
      "source": [
        "# Plot the predicted probabilities.\n",
        "plt.scatter(glass.al, glass.household)\n",
        "plt.plot(glass.al, glass.household_pred_prob, color='red')\n",
        "plt.xlabel('al')\n",
        "plt.ylabel('probability of household')"
      ]
    },
    {
      "cell_type": "code",
      "execution_count": null,
      "metadata": {
        "id": "b2xmmrWeDZFK"
      },
      "outputs": [],
      "source": [
        "# Examine some example predictions.\n",
        "print(logreg.predict_proba([[1]]))\n",
        "print(logreg.predict_proba([[2]]))\n",
        "print(logreg.predict_proba([[3]]))"
      ]
    },
    {
      "cell_type": "code",
      "execution_count": null,
      "metadata": {
        "id": "WMgb5ZOrDZFK"
      },
      "outputs": [],
      "source": [
        "print(logreg.predict_proba([[2.5]]))"
      ]
    },
    {
      "cell_type": "markdown",
      "metadata": {
        "id": "oW-nhn64DZFK"
      },
      "source": [
        "### Hands on Excercise\n",
        "<img src=\"https://www.dropbox.com/scl/fi/qt7g1wgsnpne43cfwumu0/hands_on.jpg?rlkey=q1zyeuoiuvofnzux4iylfo6ax&raw=1\" width=\"100\" height=\"100\" align=\"right\"/>\n",
        "\n",
        "- Select 2 different features\n",
        "- y will remain the same `glass.household`\n",
        "- Evaluate the model with `model.score` on the testing data."
      ]
    },
    {
      "cell_type": "code",
      "execution_count": null,
      "metadata": {
        "id": "q1S2pIjODZFL"
      },
      "outputs": [],
      "source": [
        "# Fill the exercise!"
      ]
    },
    {
      "cell_type": "markdown",
      "metadata": {
        "id": "OYVOTJTTDZFL"
      },
      "source": [
        "<a id=\"probability-odds-e-log-and-log-odds\"></a>\n",
        "## Probability, e, Log, and Log Odds\n",
        "---\n",
        "\n",
        "To understand how logistic regression predicts the probability of class membership we need to start by understanding the relationship between probability, odds ratios, and log odds ratios. This is because logistic regression predicts log odds and so reading log odds is extremely useful for interpreting logistic regression.\n",
        "\n",
        "$$probability = \\frac {one\\ outcome} {all\\ outcomes}$$\n",
        "\n",
        "$$odds = \\frac {one\\ outcome} {all\\ other\\ outcomes}$$\n",
        "\n",
        "It is often useful to think of the numeric odds as a ratio. For example, 5/1 = 5 odds is \"5 to 1\" -- five wins for every one loss (e.g. of six total plays). 2/3 odds means \"2 to 3\" -- two wins for every three losses (e.g. of five total plays).\n",
        "\n",
        "Examples:\n",
        "\n",
        "- Dice roll of 1: probability = 1/6, odds = 1/5\n",
        "- Even dice roll: probability = 3/6, odds = 3/3 = 1\n",
        "- Dice roll less than 5: probability = 4/6, odds = 4/2 = 2\n",
        "\n",
        "$$odds = \\frac {probability} {1 - probability}$$\n",
        "\n",
        "$$probability = \\frac {odds} {1 + odds}$$"
      ]
    },
    {
      "cell_type": "markdown",
      "metadata": {
        "id": "BTyq3upXDZFM"
      },
      "source": [
        "----"
      ]
    },
    {
      "cell_type": "markdown",
      "metadata": {
        "id": "e51mSxEyDZFM"
      },
      "source": [
        "<a id=\"understanding-e-and-the-natural-logarithm\"></a>\n",
        "### Understanding e and the Natural Logarithm\n",
        "\n",
        "What is e? It is the base rate of growth shared by all continually growing processes:\n",
        "\n",
        "e is the irrational base of the natural log `ln`.\n",
        "\n",
        "- 2.718281828459"
      ]
    },
    {
      "cell_type": "code",
      "execution_count": null,
      "metadata": {
        "id": "e2VLo8oUDZFM"
      },
      "outputs": [],
      "source": [
        "# Exponential function: e^1\n",
        "e = np.exp(1)\n",
        "e"
      ]
    },
    {
      "cell_type": "markdown",
      "metadata": {
        "id": "ahQwijzxDZFM"
      },
      "source": [
        "What is a (natural) log? It gives you the time needed to reach a certain level of growth:"
      ]
    },
    {
      "cell_type": "code",
      "execution_count": null,
      "metadata": {
        "id": "_x3Zbc1YDZFN"
      },
      "outputs": [],
      "source": [
        "# Time needed to grow 1 unit to 2.718 units\n",
        "# ln e = 1\n",
        "np.log(2.718281828459) # very close to previous value"
      ]
    },
    {
      "cell_type": "code",
      "execution_count": null,
      "metadata": {
        "id": "ZHsfFNfPDZFN"
      },
      "outputs": [],
      "source": [
        "np.log(e)"
      ]
    },
    {
      "cell_type": "markdown",
      "metadata": {
        "id": "CGyrP5iJDZFN"
      },
      "source": [
        "It is also the inverse of the exponential function:"
      ]
    },
    {
      "cell_type": "code",
      "execution_count": null,
      "metadata": {
        "id": "0niJsE5RDZFN"
      },
      "outputs": [],
      "source": [
        "# e^5\n",
        "np.exp(5)"
      ]
    },
    {
      "cell_type": "code",
      "execution_count": null,
      "metadata": {
        "id": "W0wUfKP1DZFO"
      },
      "outputs": [],
      "source": [
        "# np.exp(5)\n",
        "2.7182818**5"
      ]
    },
    {
      "cell_type": "code",
      "execution_count": null,
      "metadata": {
        "id": "bkoqBKrPDZFO"
      },
      "outputs": [],
      "source": [
        "# Taking the log of the exponential returns back to original input\n",
        "np.log(np.exp(5))"
      ]
    },
    {
      "cell_type": "markdown",
      "metadata": {
        "id": "Lh_f90bLDZFO"
      },
      "source": [
        "Lets take one of our odds from out table and walk through how it works."
      ]
    },
    {
      "cell_type": "code",
      "execution_count": null,
      "metadata": {
        "id": "3GWwalWlDZFO"
      },
      "outputs": [],
      "source": [
        "# Odds = 0.25\n",
        "# ln 0.25 = -1.38629436\n",
        "np.log(0.25)"
      ]
    },
    {
      "cell_type": "code",
      "execution_count": null,
      "metadata": {
        "id": "YW8jBfrBDZFP"
      },
      "outputs": [],
      "source": [
        "print(e**-1.3862943611198906)\n",
        "print(np.exp(-1.3862943611198906))"
      ]
    },
    {
      "cell_type": "markdown",
      "metadata": {
        "id": "yQMHHuJYDZFP"
      },
      "source": [
        "<img src=\"https://www.dropbox.com/scl/fi/3s5btre5ofls0efzbmj93/log_vs_ols.jpg?rlkey=bc6wf7ejoygrdbk1bqqsn6851&raw=1\"  align=\"Center\"/>"
      ]
    },
    {
      "cell_type": "markdown",
      "metadata": {
        "id": "vpPj1uWXDZFP"
      },
      "source": [
        "<a id=\"what-is-logistic-regression\"></a>\n",
        "## What Is Logistic Regression?\n",
        "---"
      ]
    },
    {
      "cell_type": "markdown",
      "metadata": {
        "id": "XrK6RX4lDZFP"
      },
      "source": [
        "Linear regression: Continuous response is modeled as a linear combination of the features.\n",
        "\n",
        "$$y = \\beta_0 + \\beta_1x$$\n",
        "\n",
        "Logistic regression: Log odds of a categorical response being \"true\" (1) is modeled as a linear combination of the features.\n",
        "\n",
        "$$\\log \\left({p\\over 1-p}\\right) = \\beta_0 + \\beta_1x$$\n",
        "\n",
        "This is called the logit function.\n",
        "\n",
        "Probability is sometimes written as pi.\n",
        "\n",
        "$$\\log \\left({\\pi\\over 1-\\pi}\\right) = \\beta_0 + \\beta_1x$$\n",
        "\n",
        "The equation can be rearranged into the logistic function.\n",
        "\n",
        "$$\\hat{p} = \\frac{e^{\\beta_0 + \\beta_1x}} {1 + e^{\\beta_0 + \\beta_1x}}$$"
      ]
    },
    {
      "cell_type": "markdown",
      "metadata": {
        "id": "Vd7H_ciJDZFP"
      },
      "source": [
        "In other words:\n",
        "\n",
        "- Logistic regression outputs the probabilities of a specific class.\n",
        "- Those probabilities can be converted into class predictions.\n",
        "\n",
        "The logistic function has some nice properties:\n",
        "\n",
        "- Takes on an \"s\" shape\n",
        "- Output is bounded by 0 and 1\n",
        "\n",
        "We have covered how this works for binary classification problems (two response classes). But what about multi-class classification problems (more than two response classes)?\n",
        "\n",
        "- The most common solution for classification models is \"one-vs-all\" (also known as \"one-vs-rest\"): Decompose the problem into multiple binary classification problems.\n",
        "- Multinomial logistic regression, on the other hand, can solve this as a single problem, but how this works is beyond the scope of this lesson."
      ]
    },
    {
      "cell_type": "markdown",
      "metadata": {
        "id": "xuXFOX62DZFQ"
      },
      "source": [
        "<a id=\"interpreting-logistic-regression-coefficients\"></a>\n",
        "## Interpreting Logistic Regression Coefficients\n",
        "\n",
        "---\n",
        "\n",
        "Logistic regression coefficients are not as immediately interpretable as the coefficients from a linear regression. To interpret the coefficients we need to remember how the formulation for logistic regression differs from linear regression.\n",
        "\n",
        "**First let's plot our logistic regression predicted probability line again.**"
      ]
    },
    {
      "cell_type": "code",
      "execution_count": null,
      "metadata": {
        "id": "7QXgi7zPDZFQ"
      },
      "outputs": [],
      "source": [
        "# Plot the predicted probabilities again.\n",
        "plt.scatter(glass.al, glass.household)\n",
        "plt.plot(glass.al, glass.household_pred_prob, color='red')\n",
        "plt.xlabel('al')\n",
        "plt.ylabel('household')"
      ]
    },
    {
      "cell_type": "markdown",
      "metadata": {
        "id": "tdbiDEimDZFQ"
      },
      "source": [
        "Remember:\n",
        "\n",
        "$$\\log \\left({p\\over 1-p}\\right) = \\beta_0 + \\beta_1x$$\n",
        "\n",
        "That means we'll get out the log odds if we compute the intercept plus the coefficient times a value for `al`.\n",
        "\n",
        "**Compute the log odds of `household` when `al=2`.**"
      ]
    },
    {
      "cell_type": "code",
      "execution_count": null,
      "metadata": {
        "id": "eke8NzibDZFQ"
      },
      "outputs": [],
      "source": [
        "# Compute predicted log odds for al=2 using the equation.\n",
        "logodds = logreg.intercept_ + logreg.coef_[0] * 2\n",
        "logodds"
      ]
    },
    {
      "cell_type": "markdown",
      "metadata": {
        "id": "jaJuYoMQDZFQ"
      },
      "source": [
        "Now that we have the log odds, we will need to go through the process of converting these log odds to probability.\n",
        "\n",
        "**Convert the log odds to odds, then the odds to probability.**"
      ]
    },
    {
      "cell_type": "code",
      "execution_count": null,
      "metadata": {
        "id": "6Fhk9OKqDZFQ"
      },
      "outputs": [],
      "source": [
        "# Convert log odds to odds.\n",
        "odds = np.exp(logodds)\n",
        "odds"
      ]
    },
    {
      "cell_type": "code",
      "execution_count": null,
      "metadata": {
        "id": "hIAeLJifDZFR"
      },
      "outputs": [],
      "source": [
        "# Convert odds to probability.\n",
        "prob = odds/(1 + odds)\n",
        "prob"
      ]
    },
    {
      "cell_type": "markdown",
      "metadata": {
        "id": "rwnjgSIkDZFR"
      },
      "source": [
        "This finally gives us the predicted probability of `household=1` when `al=2`. You can confirm this is the same as the value you would get out of the `.predict_proba()` method of the sklearn object."
      ]
    },
    {
      "cell_type": "code",
      "execution_count": null,
      "metadata": {
        "id": "8bNrMts6DZFR"
      },
      "outputs": [],
      "source": [
        "# Compute predicted probability for al=2 using the predict_proba method.\n",
        "logreg.predict_proba([[2]])[:, 1]"
      ]
    },
    {
      "cell_type": "code",
      "execution_count": null,
      "metadata": {
        "id": "8LCcjOxvDZFS"
      },
      "outputs": [],
      "source": [
        "# Examine the coefficient for al.\n",
        "logreg.coef_[0]"
      ]
    },
    {
      "cell_type": "code",
      "execution_count": null,
      "metadata": {
        "id": "6VAx66GwDZFS"
      },
      "outputs": [],
      "source": [
        "# Print the intercept.\n",
        "logreg.intercept_"
      ]
    },
    {
      "cell_type": "markdown",
      "metadata": {
        "id": "1DujDsc-DZFT"
      },
      "source": [
        "**Interpretation:** A 1-unit increase in `al` is associated with a 2.01-unit increase in the log odds of `household`."
      ]
    },
    {
      "cell_type": "code",
      "execution_count": null,
      "metadata": {
        "id": "kq3GyWdJDZFT"
      },
      "outputs": [],
      "source": [
        "# Increasing al by 1 (so that al=3)\n",
        "logodds = -6 + 3.1109909641729442*3\n",
        "odds = np.exp(logodds)\n",
        "prob = odds/(1 + odds)\n",
        "prob"
      ]
    },
    {
      "cell_type": "code",
      "execution_count": null,
      "metadata": {
        "id": "LpgbzF8tDZFT"
      },
      "outputs": [],
      "source": [
        "# Compute predicted probability for al=3 using the predict_proba method.\n",
        "logreg.predict_proba([[3]])[:, 1]"
      ]
    },
    {
      "cell_type": "markdown",
      "metadata": {
        "id": "jtoYmAm4DZFU"
      },
      "source": [
        "**Bottom line:** Positive coefficients increase the log odds of the response (and thus increase the probability), and negative coefficients decrease the log odds of the response (and thus decrease the probability)."
      ]
    },
    {
      "cell_type": "code",
      "execution_count": null,
      "metadata": {
        "id": "5s_Slw1dDZFU"
      },
      "outputs": [],
      "source": [
        "# Examine the intercept.\n",
        "logreg.intercept_"
      ]
    },
    {
      "cell_type": "markdown",
      "metadata": {
        "id": "8on3JclSDZFU"
      },
      "source": [
        "**Intercept interpretation:** For an `al` value of 0, the log-odds of `household` is -4.12790736."
      ]
    },
    {
      "cell_type": "code",
      "execution_count": null,
      "metadata": {
        "id": "1Osp66n6DZFV"
      },
      "outputs": [],
      "source": [
        "# Convert log odds to probability.\n",
        "logodds = logreg.intercept_\n",
        "odds = np.exp(logodds)\n",
        "prob = odds/(1 + odds)\n",
        "prob"
      ]
    },
    {
      "cell_type": "markdown",
      "metadata": {
        "id": "Y-LGa9LrDZFV"
      },
      "source": [
        "That makes sense from the plot above, because the probability of `household=1` should be very low for such a low `al` value."
      ]
    },
    {
      "cell_type": "markdown",
      "metadata": {
        "id": "7BIuQYz9DZFV"
      },
      "source": [
        "![Logistic regression beta values](./images/logistic_betas.png)"
      ]
    },
    {
      "cell_type": "markdown",
      "metadata": {
        "id": "hUHmyOcsDZFV"
      },
      "source": [
        "Changing the $\\beta_0$ value shifts the curve horizontally, whereas changing the $\\beta_1$ value changes the slope of the curve."
      ]
    },
    {
      "cell_type": "markdown",
      "metadata": {
        "id": "eWMi1wPpDZFV"
      },
      "source": [
        "<a id=\"comparing-logistic-regression-to-other-models\"></a>\n",
        "## Comparing Logistic Regression to Other Models\n",
        "---\n",
        "\n",
        "Advantages of logistic regression:\n",
        "\n",
        "- Highly interpretable (if you remember how).\n",
        "- Model training and prediction are fast.\n",
        "- No tuning is required (excluding regularization).\n",
        "- Features don't need scaling.\n",
        "- Can perform well with a small number of observations.\n",
        "- Outputs well-calibrated predicted probabilities.\n",
        "\n",
        "Disadvantages of logistic regression:\n",
        "\n",
        "- Presumes a linear relationship between the features and the log odds of the response.\n",
        "- Performance is (generally) not competitive with the best supervised learning methods.\n",
        "- Can't automatically learn feature interactions."
      ]
    },
    {
      "cell_type": "markdown",
      "metadata": {
        "id": "njA99V0cDZFV"
      },
      "source": [
        "# Lets build a Tree to classify\n",
        "\n",
        "<img src=\"https://www.dropbox.com/scl/fi/z6xbyrn4phkxcr4ca1qyd/tree.jpg?rlkey=we02at2ie3dmnssyxtiadw7yv&raw=1\"  align=\"center\"/>"
      ]
    },
    {
      "cell_type": "code",
      "execution_count": null,
      "metadata": {
        "id": "HTSzq1pnDZFW"
      },
      "outputs": [],
      "source": [
        "glass.head(2)"
      ]
    },
    {
      "cell_type": "code",
      "execution_count": null,
      "metadata": {
        "scrolled": true,
        "id": "INZEAUr6DZFW"
      },
      "outputs": [],
      "source": [
        "X = glass[['na','fe','al','k']]\n",
        "y = glass.household\n",
        "X.head()"
      ]
    },
    {
      "cell_type": "code",
      "execution_count": null,
      "metadata": {
        "id": "zM1Ht6PsDZFW"
      },
      "outputs": [],
      "source": [
        "y.head()"
      ]
    },
    {
      "cell_type": "code",
      "execution_count": null,
      "metadata": {
        "id": "NUtbt8gmDZFW"
      },
      "outputs": [],
      "source": [
        "!pip install pydotplus"
      ]
    },
    {
      "cell_type": "code",
      "execution_count": null,
      "metadata": {
        "id": "4FPDY3TgDZFW"
      },
      "outputs": [],
      "source": [
        "from sklearn.tree import DecisionTreeClassifier\n",
        "from sklearn import tree\n",
        "# for vizualizing the tree\n",
        "import pydotplus\n",
        "from IPython.display import Image\n",
        "from sklearn.model_selection import train_test_split\n",
        "# Create decision tree classifer object\n",
        "tree_model = DecisionTreeClassifier(random_state=0,max_depth=7)\n",
        "\n",
        "X_train, X_test, y_train, y_test = train_test_split(X,y, test_size=0.2, random_state=99)\n",
        "\n",
        "# logistic regression model fit\n",
        "tree_model.fit(X_train,y_train)\n",
        "\n",
        "# do prediction on test Data\n",
        "y_pred=tree_model.predict(X_test)\n",
        "print(y_pred)\n",
        "\n",
        "# Calculate score\n",
        "tree_model.score(X_test,y_test)"
      ]
    },
    {
      "cell_type": "code",
      "execution_count": null,
      "metadata": {
        "id": "_i9etHplDZFW"
      },
      "outputs": [],
      "source": [
        "X.columns.values"
      ]
    },
    {
      "cell_type": "code",
      "execution_count": null,
      "metadata": {
        "id": "XSS4WxHdDZFW"
      },
      "outputs": [],
      "source": [
        "# Create DOT data\n",
        "dot_data = tree.export_graphviz(tree_model, out_file=None,\n",
        "                                feature_names=X.columns.values,\n",
        "                                class_names=['yes','no'])\n",
        "\n",
        "# Draw graph\n",
        "graph = pydotplus.graph_from_dot_data(dot_data)\n",
        "\n",
        "# Show graph\n",
        "Image(graph.create_png())"
      ]
    },
    {
      "cell_type": "markdown",
      "metadata": {
        "id": "83KSDjoaDZFX"
      },
      "source": [
        "----\n",
        "\n",
        "## Is accuracy is good metric?\n",
        "<img src=\"https://www.dropbox.com/scl/fi/ppmtzavh3ot6jinkb35vd/accuracy.png?rlkey=32gfvubdwn1p4i9anwut7ug39&raw=1\" align=\"center\"/>"
      ]
    },
    {
      "cell_type": "markdown",
      "metadata": {
        "id": "mTI1xQwHDZFX"
      },
      "source": [
        "### The Accuracy Paradox\n",
        "\n",
        "Accuracy is a very intuitive metric — it's a lot like an exam score where you get total correct/total attempted. However, accuracy is often a poor metric in application. There are many reasons for this:\n",
        "- Imbalanced problems problems with 95% positives in the baseline will have 95% accuracy even with no predictive power.\n",
        "  - This is the paradox; pursuing accuracy often means predicting the most common class rather than doing the most useful work.\n",
        "- Applications often have uneven penalties and rewards for true positives and false positives.\n",
        "- Ranking predictions in the correct order be more important than getting them correct.\n",
        "- In many case we need to know the exact probability of a positives and negatives.\n",
        "  - To calculate an expected return.\n",
        "  - To triage observations that are borderline positive."
      ]
    },
    {
      "cell_type": "markdown",
      "metadata": {
        "id": "v09lZ926DZFX"
      },
      "source": [
        "<a id=\"advanced-classification-metrics\"></a>\n",
        "## Advanced Classification Metrics\n",
        "\n",
        "---\n",
        "\n",
        "When we evaluate the performance of a logistic regression (or any classifier model), the standard metric to use is accuracy: How many class labels did we guess correctly? However, accuracy is only one of several metrics we could use when evaluating a classification model.\n",
        "\n",
        "$$Accuracy = \\frac{total~predicted~correct}{total~predicted}$$\n",
        "\n",
        "Accuracy alone doesn’t always give us a full picture.\n",
        "\n",
        "If we know a model is 75% accurate, it doesn’t provide any insight into why the 25% was wrong."
      ]
    },
    {
      "cell_type": "markdown",
      "metadata": {
        "id": "kd-BGJ2RDZFX"
      },
      "source": [
        "Consider a binary classification problem where we have 165 observations/rows of people who are either smokers or nonsmokers.\n",
        "\n",
        "<table style=\"border: none\">\n",
        "<tr style=\"border: none\">\n",
        "    <td style=\"border: none; vertical-align: bottom\">n = 165</td>\n",
        "    <td style=\"\"><b>Predicted: No</b></td>\n",
        "    <td style=\"\"><b>Predicted: Yes</b></td>\n",
        "</tr>\n",
        "<tr>\n",
        "    <td><b>Actual: No</b></td>\n",
        "    <td style=\"text-align: center\"></td>\n",
        "    <td style=\"text-align: center\"></td>\n",
        "    <td style=\"text-align: center\"></td>\n",
        "</tr>\n",
        "<tr>\n",
        "    <td><b>Actual: Yes</b></td>\n",
        "    <td style=\"text-align: center\"></td>\n",
        "    <td style=\"text-align: center\"></td>\n",
        "    <td style=\"text-align: center\"></td>\n",
        "</tr>\n",
        "<tr style=\"border: none\">\n",
        "    <td style=\"border: none\"></td>\n",
        "    <td style=\"text-align: center\"></td>\n",
        "    <td style=\"text-align: center\"></td>\n",
        "</tr>\n",
        "\n",
        "</table>"
      ]
    },
    {
      "cell_type": "markdown",
      "metadata": {
        "id": "ISPBHi9iDZFX"
      },
      "source": [
        "There are 60 in class 0, nonsmokers, and 105 observations in class 1, smokers\n",
        "<table style=\"border: none\">\n",
        "<tr style=\"border: none\">\n",
        "    <td style=\"border: none; vertical-align: bottom\">n = 165</td>\n",
        "    <td style=\"\"><b>Predicted: No</b></td>\n",
        "    <td style=\"\"><b>Predicted: Yes</b></td>\n",
        "</tr>\n",
        "<tr>\n",
        "    <td><b>Actual: No</b></td>\n",
        "    <td style=\"text-align: center\"></td>\n",
        "    <td style=\"text-align: center\"></td>\n",
        "    <td style=\"text-align: center\">60</td>\n",
        "</tr>\n",
        "<tr>\n",
        "    <td><b>Actual: Yes</b></td>\n",
        "    <td style=\"text-align: center\"></td>\n",
        "    <td style=\"text-align: center\"></td>\n",
        "    <td style=\"text-align: center\">105</td>\n",
        "</tr>\n",
        "<tr style=\"border: none\">\n",
        "    <td style=\"border: none\"></td>\n",
        "    <td style=\"text-align: center\"></td>\n",
        "    <td style=\"text-align: center\"></td>\n",
        "</tr>\n",
        "\n",
        "</table>"
      ]
    },
    {
      "cell_type": "markdown",
      "metadata": {
        "id": "AyYVW8SFDZFY"
      },
      "source": [
        "We have 55 predictions of class, predicted as nonsmokers, and 110 of class 1, predicted to be smokers.\n",
        "\n",
        "<table style=\"border: none\">\n",
        "<tr style=\"border: none\">\n",
        "    <td style=\"border: none; vertical-align: bottom\">n = 165</td>\n",
        "    <td style=\"\"><b>Predicted: No</b></td>\n",
        "    <td style=\"\"><b>Predicted: Yes</b></td>\n",
        "</tr>\n",
        "<tr>\n",
        "    <td><b>Actual: No</b></td>\n",
        "    <td style=\"text-align: center\"></td>\n",
        "    <td style=\"text-align: center\"></td>\n",
        "    <td style=\"text-align: center\">60</td>\n",
        "</tr>\n",
        "<tr>\n",
        "    <td><b>Actual: Yes</b></td>\n",
        "    <td style=\"text-align: center\"></td>\n",
        "    <td style=\"text-align: center\"></td>\n",
        "    <td style=\"text-align: center\">105</td>\n",
        "</tr>\n",
        "<tr style=\"border: none\">\n",
        "    <td style=\"border: none\"></td>\n",
        "    <td style=\"text-align: center\">55</td>\n",
        "    <td style=\"text-align: center\">110</td>\n",
        "</tr>\n",
        "\n",
        "</table>"
      ]
    },
    {
      "cell_type": "markdown",
      "metadata": {
        "id": "PM99UbK9DZFY"
      },
      "source": [
        "- **True positives (TP):** These are cases in which we predicted yes (smokers), and they actually are smokers.\n",
        "- **True negatives (TN):** We predicted no, and they are nonsmokers.\n",
        "- **False positives (FP):** We predicted yes, but they were not actually smokers. (This is also known as a \"Type I error.\")\n",
        "- **False negatives (FN):** We predicted no, but they are smokers. (This is also known as a \"Type II error.\")\n",
        "<table style=\"border: none\">\n",
        "<tr style=\"border: none\">\n",
        "    <td style=\"border: none; vertical-align: bottom\">n = 165</td>\n",
        "    <td style=\"\"><b>Predicted: No</b></td>\n",
        "    <td style=\"\"><b>Predicted: Yes</b></td>\n",
        "</tr>\n",
        "<tr>\n",
        "    <td><b>Actual: No</b></td>\n",
        "    <td style=\"text-align: center\">TN = 50</td>\n",
        "    <td style=\"text-align: center\">FP = 10</td>\n",
        "    <td style=\"text-align: center\">60</td>\n",
        "</tr>\n",
        "<tr>\n",
        "    <td><b>Actual: Yes</b></td>\n",
        "    <td style=\"text-align: center\">FN = 5</td>\n",
        "    <td style=\"text-align: center\">TP = 100</td>\n",
        "    <td style=\"text-align: center\">105</td>\n",
        "</tr>\n",
        "<tr style=\"border: none\">\n",
        "    <td style=\"border: none\"></td>\n",
        "    <td style=\"text-align: center\">55</td>\n",
        "    <td style=\"text-align: center\">110</td>\n",
        "</tr>\n",
        "\n",
        "</table>"
      ]
    },
    {
      "cell_type": "markdown",
      "metadata": {
        "id": "x-lO1xwODZFY"
      },
      "source": [
        "**Categorize these as TP, TN, FP, or FN:**\n",
        "\n",
        "Try not to look at the answers above.\n",
        "    \n",
        "- We predict nonsmoker, but the person is a smoker.\n",
        "- We predict nonsmoker, and the person is a nonsmoker.\n",
        "- We predict smoker and the person is a smoker.\n",
        "- We predict smoker and the person is a nonsmoker.\n",
        "\n",
        "<!--ANSWER\n",
        "- FN\n",
        "- TN\n",
        "- TP\n",
        "- FP\n",
        "-->"
      ]
    },
    {
      "cell_type": "markdown",
      "metadata": {
        "id": "aMeUyp51DZFY"
      },
      "source": [
        "<a id=\"accuracy-true-positive-rate-and-false-negative-rate\"></a>\n",
        "### Accuracy, True Positive Rate, and False Negative Rate"
      ]
    },
    {
      "cell_type": "markdown",
      "metadata": {
        "id": "SieqyeN-DZFZ"
      },
      "source": [
        "**Accuracy:** Overall, how often is the classifier correct?\n",
        "\n",
        "<span>\n",
        "    (<span style=\"color: green\">TP</span>+<span style=\"color: red\">TN</span>)/<span style=\"color: blue\">total</span> = (<span style=\"color: green\">100</span>+<span style=\"color: red\">50</span>)/<span style=\"color: blue\">165</span> = 0.91\n",
        "</span>\n",
        "\n",
        "<table style=\"border: none\">\n",
        "<tr style=\"border: none\">\n",
        "    <td style=\"border: none; vertical-align: bottom; color: blue\">n = 165</td>\n",
        "    <td style=\"\"><b>Predicted: No</b></td>\n",
        "    <td style=\"\"><b>Predicted: Yes</b></td>\n",
        "</tr>\n",
        "<tr>\n",
        "    <td><b>Actual: No</b></td>\n",
        "    <td style=\"text-align: center; background-color: red\">TN = 50</td>\n",
        "    <td style=\"text-align: center\">FP = 10</td>\n",
        "    <td style=\"text-align: center\">60</td>\n",
        "</tr>\n",
        "<tr>\n",
        "    <td><b>Actual: Yes</b></td>\n",
        "    <td style=\"text-align: center\">FN = 5</td>\n",
        "    <td style=\"text-align: center; background-color: green\">TP = 100</td>\n",
        "    <td style=\"text-align: center\">105</td>\n",
        "</tr>\n",
        "<tr style=\"border: none\">\n",
        "    <td style=\"border: none\"></td>\n",
        "    <td style=\"text-align: center\">55</td>\n",
        "    <td style=\"text-align: center\">110</td>\n",
        "</tr>\n",
        "\n",
        "</table>"
      ]
    },
    {
      "cell_type": "markdown",
      "metadata": {
        "id": "cR3LWzfeDZFZ"
      },
      "source": [
        "**True positive rate (TPR)** asks, “Out of all of the target class labels, how many were accurately predicted to belong to that class?”\n",
        "\n",
        "For example, given a medical exam that tests for cancer, how often does it correctly identify patients with cancer?\n",
        "\n",
        "<span>\n",
        "<span style=\"color: green\">TP</span>/<span style=\"color: blue\">actual yes</span> = <span style=\"color: green\">100</span>/<span style=\"color: blue\">105</span> = 0.95\n",
        "</span>\n",
        "\n",
        "<table style=\"border: none\">\n",
        "<tr style=\"border: none\">\n",
        "    <td style=\"border: none; vertical-align: bottom\">n = 165</td>\n",
        "    <td style=\"\"><b>Predicted: No</b></td>\n",
        "    <td style=\"\"><b>Predicted: Yes</b></td>\n",
        "</tr>\n",
        "<tr>\n",
        "    <td><b>Actual: No</b></td>\n",
        "    <td style=\"text-align: center\">TN = 50</td>\n",
        "    <td style=\"text-align: center\">FP = 10</td>\n",
        "    <td style=\"text-align: center\">60</td>\n",
        "</tr>\n",
        "<tr>\n",
        "    <td><b>Actual: Yes</b></td>\n",
        "    <td style=\"text-align: center\">FN = 5</td>\n",
        "    <td style=\"text-align: center;background-color: green\">TP = 100</td>\n",
        "    <td style=\"text-align: center;color: blue\">105</td>\n",
        "</tr>\n",
        "<tr style=\"border: none\">\n",
        "    <td style=\"border: none\"></td>\n",
        "    <td style=\"text-align: center\">55</td>\n",
        "    <td style=\"text-align: center\">110</td>\n",
        "</tr>\n",
        "\n",
        "</table>"
      ]
    },
    {
      "cell_type": "markdown",
      "metadata": {
        "id": "t9HL15gIDZFa"
      },
      "source": [
        "**False positive rate (FPR)** asks, “Out of all items not belonging to a class label, how many were predicted as belonging to that target class label?”\n",
        "\n",
        "For example, given a medical exam that tests for cancer, how often does it trigger a “false alarm” by incorrectly saying a patient has cancer?\n",
        "\n",
        "<span>\n",
        "<span style=\"color: orange\">FP</span>/<span style=\"color: blue\">actual no</span> = <span style=\"color: orange\">10</span>/<span style=\"color: blue\">60</span> = 0.17\n",
        "</span>\n",
        "\n",
        "<table style=\"border: none\">\n",
        "<tr style=\"border: none\">\n",
        "    <td style=\"border: none; vertical-align: bottom\">n = 165</td>\n",
        "    <td style=\"\"><b>Predicted: No</b></td>\n",
        "    <td style=\"\"><b>Predicted: Yes</b></td>\n",
        "</tr>\n",
        "<tr>\n",
        "    <td><b>Actual: No</b></td>\n",
        "    <td style=\"text-align: center\">TN = 50</td>\n",
        "    <td style=\"text-align: center;background-color: orange\">FP = 10</td>\n",
        "    <td style=\"text-align: center;color:blue\">60</td>\n",
        "</tr>\n",
        "<tr>\n",
        "    <td><b>Actual: Yes</b></td>\n",
        "    <td style=\"text-align: center\">FN = 5</td>\n",
        "    <td style=\"text-align: center\">TP = 100</td>\n",
        "    <td style=\"text-align: center\">105</td>\n",
        "</tr>\n",
        "<tr style=\"border: none\">\n",
        "    <td style=\"border: none\"></td>\n",
        "    <td style=\"text-align: center\">55</td>\n",
        "    <td style=\"text-align: center\">110</td>\n",
        "</tr>\n",
        "\n",
        "</table>"
      ]
    },
    {
      "cell_type": "markdown",
      "metadata": {
        "id": "Lkl1IVcaDZFa"
      },
      "source": [
        "**Can you see that we might weigh TPR AND FPR differently depending on the situation?**\n",
        "\n",
        "- Give an example when we care about TPR, but not FPR.\n",
        "- Give an example when we care about FPR, but not TPR.\n",
        "\n",
        "<!--\n",
        "ANSWER:\n",
        "- During an initial medical diagnosis, we want to be sensitive. We want initial screens to come up with a lot of true positives, even if we get a lot of false positives.\n",
        "- If we are doing spam detection, we want to be precise. Anything that we remove from an inbox must be spam, which may mean accepting fewer true positives.\n",
        "-->"
      ]
    },
    {
      "cell_type": "markdown",
      "metadata": {
        "id": "LQWWtaJSDZFa"
      },
      "source": [
        "## The Confusion Matrix\n",
        "<img src=\"https://www.dropbox.com/scl/fi/eaig0g63lct0r7dzt6qit/confusion.png?rlkey=edw4kjneymt6q0hl6r48512py&raw=1\" align=\"center\"/>"
      ]
    },
    {
      "cell_type": "markdown",
      "metadata": {
        "id": "uxI0_HRuDZFa"
      },
      "source": [
        "# What is precison and recall?\n",
        "<img src=\"https://www.dropbox.com/scl/fi/yf2rcxzstnz6p4ef11xj0/recall.png?rlkey=mmbfwbgvzadrwpgqwi44gxhnk&raw=1\"  align=\"center\"/>"
      ]
    },
    {
      "cell_type": "markdown",
      "metadata": {
        "id": "uMujXYITDZFa"
      },
      "source": [
        "## Lets review the Matrix for above example"
      ]
    },
    {
      "cell_type": "code",
      "execution_count": null,
      "metadata": {
        "id": "lWuI3sjIDZFa"
      },
      "outputs": [],
      "source": [
        "metrics.confusion_matrix(y_test, y_pred)"
      ]
    },
    {
      "cell_type": "code",
      "execution_count": null,
      "metadata": {
        "id": "6Kly6eBzDZFb"
      },
      "outputs": [],
      "source": [
        "from sklearn.metrics import classification_report\n",
        "\n",
        "print(classification_report(y_test, y_pred))"
      ]
    },
    {
      "cell_type": "code",
      "execution_count": null,
      "metadata": {
        "id": "gb0xzBzWDZFb"
      },
      "outputs": [],
      "source": []
    },
    {
      "cell_type": "markdown",
      "metadata": {
        "id": "oBewUUZ5DZFb"
      },
      "source": [
        "---"
      ]
    },
    {
      "cell_type": "markdown",
      "metadata": {
        "id": "0VpXzUUODZFb"
      },
      "source": [
        "## Lesson Review\n",
        "- **Logistic regression**\n",
        "  - What kind of machine learning problems does logistic regression address?\n",
        "  - What do the coefficients in a logistic regression represent? How does the interpretation differ from ordinary least squares? How is it similar?\n",
        "  \n",
        "- **The confusion matrix**\n",
        "  - How do true positive rate and false positive rate help explain accuracy?\n",
        "  - Why might one classification metric be more important to tune than another? Give an example of a business problem or project where this would be the case."
      ]
    },
    {
      "cell_type": "markdown",
      "metadata": {
        "id": "PO8tm64fDZFb"
      },
      "source": [
        "# Now you do it\n",
        "\n",
        "Predicted who gets admitted or not?\n",
        "\n",
        ">  test_size : 0.25   and random_state = 99\n",
        "\n",
        "<img src=\"https://www.dropbox.com/scl/fi/qt7g1wgsnpne43cfwumu0/hands_on.jpg?rlkey=q1zyeuoiuvofnzux4iylfo6ax&raw=1\" width=\"100\" height=\"100\" align=\"right\"/>"
      ]
    },
    {
      "cell_type": "markdown",
      "metadata": {
        "id": "ydFyaS6KDZFc"
      },
      "source": [
        "**Below we will load in some data on admissions to college.**"
      ]
    },
    {
      "cell_type": "code",
      "execution_count": null,
      "metadata": {
        "id": "E03DlArUDZFc"
      },
      "outputs": [],
      "source": [
        "import pandas as pd\n",
        "from sklearn import linear_model, model_selection, metrics\n",
        "\n",
        "admissions = pd.read_csv('data/admissions.csv')\n",
        "admissions.head()"
      ]
    },
    {
      "cell_type": "code",
      "execution_count": null,
      "metadata": {
        "id": "pqXDgY4bDZFc"
      },
      "outputs": [],
      "source": [
        "admissions.isnull().sum()"
      ]
    },
    {
      "cell_type": "code",
      "execution_count": null,
      "metadata": {
        "id": "kmqxRiUUDZFc"
      },
      "outputs": [],
      "source": [
        "admissions.dropna(inplace=True)\n",
        "admissions.isnull().sum()"
      ]
    },
    {
      "cell_type": "code",
      "execution_count": null,
      "metadata": {
        "id": "d8swJSjtDZFd"
      },
      "outputs": [],
      "source": []
    }
  ],
  "metadata": {
    "kernelspec": {
      "display_name": "Python 3 (ipykernel)",
      "language": "python",
      "name": "python3"
    },
    "language_info": {
      "codemirror_mode": {
        "name": "ipython",
        "version": 3
      },
      "file_extension": ".py",
      "mimetype": "text/x-python",
      "name": "python",
      "nbconvert_exporter": "python",
      "pygments_lexer": "ipython3",
      "version": "3.9.1"
    },
    "colab": {
      "provenance": [],
      "include_colab_link": true
    }
  },
  "nbformat": 4,
  "nbformat_minor": 0
}