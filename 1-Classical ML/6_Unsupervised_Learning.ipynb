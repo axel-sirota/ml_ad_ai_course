{
  "nbformat": 4,
  "nbformat_minor": 0,
  "metadata": {
    "colab": {
      "provenance": [],
      "authorship_tag": "ABX9TyNJimfKt4anZrS3UXYxYSvp",
      "include_colab_link": true
    },
    "kernelspec": {
      "name": "python3",
      "display_name": "Python 3"
    },
    "language_info": {
      "name": "python"
    }
  },
  "cells": [
    {
      "cell_type": "markdown",
      "metadata": {
        "id": "view-in-github",
        "colab_type": "text"
      },
      "source": [
        "<a href=\"https://colab.research.google.com/github/axel-sirota/ml_ad_ai_course/blob/main/Classical%20ML/6_Unsupervised_Learning.ipynb\" target=\"_parent\"><img src=\"https://colab.research.google.com/assets/colab-badge.svg\" alt=\"Open In Colab\"/></a>"
      ]
    },
    {
      "cell_type": "markdown",
      "source": [
        "# Unsupervised Learning"
      ],
      "metadata": {
        "id": "roZe4RLA8WaU"
      }
    },
    {
      "cell_type": "markdown",
      "source": [
        "## Clustering"
      ],
      "metadata": {
        "id": "MbwlFBil8ooj"
      }
    },
    {
      "cell_type": "markdown",
      "source": [
        "In this lab, we will use the [Iris](https://scikit-learn.org/stable/datasets/index.html#iris-dataset) open dataset and scikit-learn clustering algorithms to effectively return the species of all those flowers!\n",
        "\n",
        "The objective of this lab is to understand how clustering can help us identify \"potential\" labels of our dataset, which we can later on feed to supervised algorithms."
      ],
      "metadata": {
        "id": "sEs6KNnC8fOZ"
      }
    },
    {
      "cell_type": "markdown",
      "source": [
        "As we know, only 0.1% of real-world data has a label of each item (imagine an image and, next to it, a list of all the animals represented). This is what we call *annotated data*. However, annotation is often:\n",
        "\n",
        "- Expensive\n",
        "- Difficult to standardize\n",
        "- Difficult to scale\n",
        "- Sensitive to design changes\n",
        "- Hard to do right\n",
        "\n"
      ],
      "metadata": {
        "id": "0sftvEbc8yVy"
      }
    },
    {
      "cell_type": "markdown",
      "source": [
        "<img src=\"https://www.dropbox.com/scl/fi/g5lkwhrbsod6xps2b9fus/unlabeled-data-car.jpg?rlkey=rqe4ge1ctchi5z28epalgusdo&raw=1\"  align=\"center\"/>\n",
        "\n",
        "\n"
      ],
      "metadata": {
        "id": "pIVzG82494HY"
      }
    },
    {
      "cell_type": "markdown",
      "source": [
        "Examples of non-annotated data include:\n",
        "\n",
        "- Chats\n",
        "- Audio\n",
        "- Medical histories\n",
        "\n",
        "So what can we do in that case? One of the common algorithms to attack this problem is _clustering_.\n",
        "\n",
        "Clustering is a set of algorithms that find intrinsic associations in our data to end up with something like this:\n",
        "\n",
        "![Clustering example](https://raw.githubusercontent.com/axel-sirota/getting-started-unsupervised-learning/master/clustering-example.png)\n",
        "\n",
        "There are two fundamental techniques for this: *hierarchical* and *non-hierarchical* clustering."
      ],
      "metadata": {
        "id": "RpqssLLd-C0g"
      }
    },
    {
      "cell_type": "markdown",
      "source": [
        "### Hierarchical Clustering"
      ],
      "metadata": {
        "id": "pDnjgea0-JIT"
      }
    },
    {
      "cell_type": "markdown",
      "source": [
        "In Hierarchical clustering, which is also called agglomerative, we add elements in a nested way. For example:\n",
        "\n",
        "![Hierarchical clustering example](https://raw.githubusercontent.com/axel-sirota/getting-started-unsupervised-learning/master/hierarchiecal-clustering.png)\n",
        "\n",
        "To do this, we do the following:\n",
        "\n",
        "1. Start first cluster with the two elements closest to each other\n",
        "2. Calculate the distance between this cluster and the other elements\n",
        "3. Create a new cluster or append to existing one, based on which have the least distance (we append, by treating the new cluster as another element, if it is closest to the element)\n",
        "4. Continue\n",
        "\n",
        "Easy right?\n",
        "\n",
        "Let's do it in Python! First we will import all the necessary packages:"
      ],
      "metadata": {
        "id": "BUqBVPh5-OWG"
      }
    },
    {
      "cell_type": "code",
      "source": [
        "import numpy as np\n",
        "from scipy.cluster.hierarchy import dendrogram\n",
        "from sklearn.datasets import load_iris\n",
        "from sklearn.cluster import AgglomerativeClustering\n",
        "import matplotlib.pyplot as plt\n",
        "np.random.seed(42)"
      ],
      "metadata": {
        "id": "2iHw61vt8ejx"
      },
      "execution_count": null,
      "outputs": []
    },
    {
      "cell_type": "markdown",
      "source": [
        "We will now load the dataset, which is trivial in scikit-learn given its dataset loading abilities, and fit the hierarchical clustering model:"
      ],
      "metadata": {
        "id": "YqZIYYpJ-VV6"
      }
    },
    {
      "cell_type": "code",
      "source": [
        "iris = load_iris()\n",
        "X = iris.data\n",
        "model = AgglomerativeClustering(n_clusters=3, compute_distances=True)\n",
        "model.fit_predict(X)"
      ],
      "metadata": {
        "colab": {
          "base_uri": "https://localhost:8080/"
        },
        "id": "EVBhqTMi-W78",
        "outputId": "98c8281a-5271-4015-b1f5-8531bf100b80"
      },
      "execution_count": null,
      "outputs": [
        {
          "output_type": "execute_result",
          "data": {
            "text/plain": [
              "array([1, 1, 1, 1, 1, 1, 1, 1, 1, 1, 1, 1, 1, 1, 1, 1, 1, 1, 1, 1, 1, 1,\n",
              "       1, 1, 1, 1, 1, 1, 1, 1, 1, 1, 1, 1, 1, 1, 1, 1, 1, 1, 1, 1, 1, 1,\n",
              "       1, 1, 1, 1, 1, 1, 0, 0, 0, 0, 0, 0, 0, 0, 0, 0, 0, 0, 0, 0, 0, 0,\n",
              "       0, 0, 0, 0, 0, 0, 0, 0, 0, 0, 0, 2, 0, 0, 0, 0, 0, 0, 0, 0, 0, 0,\n",
              "       0, 0, 0, 0, 0, 0, 0, 0, 0, 0, 0, 0, 2, 0, 2, 2, 2, 2, 0, 2, 2, 2,\n",
              "       2, 2, 2, 0, 0, 2, 2, 2, 2, 0, 2, 0, 2, 0, 2, 2, 0, 0, 2, 2, 2, 2,\n",
              "       2, 0, 0, 2, 2, 2, 0, 2, 2, 2, 0, 2, 2, 2, 0, 2, 2, 0])"
            ]
          },
          "metadata": {},
          "execution_count": 64
        }
      ]
    },
    {
      "cell_type": "markdown",
      "source": [
        "It is *THAT* easy! Let's see how well we performed:\n"
      ],
      "metadata": {
        "id": "MLLivXZY_S1E"
      }
    },
    {
      "cell_type": "code",
      "source": [
        "print(f'As expected, the number of clusters predicted by the models are {model.n_clusters_}')\n",
        "\n",
        "predicted_labels = model.labels_\n",
        "corrected_predicted_labels = np.where((predicted_labels==0)|(predicted_labels==1), predicted_labels^1, predicted_labels) # Hierarchiecal starts labels with 1 and the dataset with 0\n",
        "real_labels = iris.target\n",
        "equal = 0\n",
        "for predicted_label, real_label in zip(corrected_predicted_labels, real_labels):\n",
        "    if  predicted_label == real_label:\n",
        "        equal += 1\n",
        "\n",
        "\n",
        "print(f'Accuracy of hierarchiecal clustering with clusters specified is {100*equal / len(corrected_predicted_labels)} %')\n"
      ],
      "metadata": {
        "colab": {
          "base_uri": "https://localhost:8080/"
        },
        "id": "eMKeWgZj_REk",
        "outputId": "3c249f1f-13b6-46d0-d058-38914c81b05a"
      },
      "execution_count": null,
      "outputs": [
        {
          "output_type": "stream",
          "name": "stdout",
          "text": [
            "As expected, the number of clusters predicted by the models are 3\n",
            "Accuracy of hierarchiecal clustering with clusters specified is 89.33333333333333 %\n"
          ]
        }
      ]
    },
    {
      "cell_type": "markdown",
      "source": [
        "Not so bad for a split second operation, right?! What this will do is:\n",
        "\n",
        "1. Get a random flower\n",
        "2. Calculate the distance of it against all other elements\n",
        "3. Create a \"cluster\" of size 2 with the shortest sample\n",
        "4. Iterate until all elements are in a cluster\n",
        "\n",
        "What if we wanted to plot this? This would be as easy as:\n"
      ],
      "metadata": {
        "id": "TFgHYogX_a8c"
      }
    },
    {
      "cell_type": "code",
      "source": [
        "def plot_dendrogram(model, **kwargs):\n",
        "    # Create linkage matrix and then plot the dendrogram\n",
        "    # create the counts of samples under each node\n",
        "    counts = np.zeros(model.children_.shape[0])\n",
        "    n_samples = len(model.labels_)\n",
        "    for i, merge in enumerate(model.children_):\n",
        "        current_count = 0\n",
        "        for child_idx in merge:\n",
        "            if child_idx < n_samples:\n",
        "                current_count += 1  # leaf node\n",
        "            else:\n",
        "                current_count += counts[child_idx - n_samples]\n",
        "        counts[i] = current_count\n",
        "    linkage_matrix = np.column_stack([model.children_, model.distances_, counts]).astype(float)\n",
        "    # Plot the corresponding dendrogram\n",
        "    dendrogram(linkage_matrix, **kwargs)\n",
        "\n",
        "plt.title('Hierarchical Clustering Dendrogram')\n",
        "# plot the top three levels of the dendrogram\n",
        "plot_dendrogram(model, truncate_mode='level', p=3)\n",
        "plt.xlabel(\"Number of points in node (or index of point if no parenthesis).\")\n",
        "plt.show()"
      ],
      "metadata": {
        "colab": {
          "base_uri": "https://localhost:8080/",
          "height": 54
        },
        "id": "BazaMRra_WvK",
        "outputId": "16b7dc4a-55f8-425f-be64-a13863cdcbbb"
      },
      "execution_count": null,
      "outputs": [
        {
          "output_type": "display_data",
          "data": {
            "text/plain": [
              "<Figure size 640x480 with 1 Axes>"
            ],
            "image/png": "[encoded data removed]"
          },
          "metadata": {}
        }
      ]
    },
    {
      "cell_type": "markdown",
      "source": [
        "Of course you may point out that it's easy when you know *ahead of time* that there are three clusters! And you would be right, but this example is just for you to get your feet wet and start learning.\n",
        "\n",
        "There are multiple ways of optimizing the number of clusters hyperparameter, but that is out of scope for this introduction. If you're curious, I recommend checking out [_Hands-On Unsupervised Learning Using Python_](https://learning.oreilly.com/library/view/hands-on-unsupervised-learning/9781492035633/) by Ankur A. Patel (O'Reilly).\n",
        "\n",
        "For know, lets move on to non-hierarchical clustering and its most prominent example: _k_-means!"
      ],
      "metadata": {
        "id": "oIMMaJ0eAQfW"
      }
    },
    {
      "cell_type": "markdown",
      "source": [
        "### Non-Hierarchiechal Clustering"
      ],
      "metadata": {
        "id": "ZfMWB6iAAUiY"
      }
    },
    {
      "cell_type": "markdown",
      "source": [
        "_k_-means is the most famous clustering algorithm of all, and for a good reason:\n",
        "\n",
        "- It is stable\n",
        "- It scales\n",
        "- It is reliable\n",
        "- It is well studied\n",
        "\n",
        "In a nutshell, the objective of _k_-means is to find inherent clusters using the following recipe:\n",
        "\n",
        "1. Start with _k_ randomly chosen landmarks for starting our clusters.\n",
        "1. Assign every element to a cluster based on minimum distance (which can be anything we chose!).\n",
        "1. Now that there are _k_ clusters, optimize them.\n",
        "1. Calculate the centers of each cluster. This is done by averaging them out. These are the new landmarks for the next iteration.\n",
        "1. Continue until there is no reassignment in step 2.\n",
        "\n",
        "This process is represented by the following:\n",
        "\n",
        "![_k_-means Example](https://raw.githubusercontent.com/axel-sirota/getting-started-unsupervised-learning/master/kmeans.png )\n",
        "\n",
        "First to perform _k_-means, we need to perform our imports:"
      ],
      "metadata": {
        "id": "NiGuQiXBAb9U"
      }
    },
    {
      "cell_type": "code",
      "source": [
        "import numpy as np\n",
        "from sklearn.datasets import load_iris\n",
        "from sklearn.cluster import KMeans\n",
        "from sklearn import datasets\n",
        "np.random.seed(42)\n",
        "del predicted_labels\n",
        "del model\n",
        "del predicted_label\n",
        "del corrected_predicted_labels"
      ],
      "metadata": {
        "id": "jetXSoHB_hys"
      },
      "execution_count": null,
      "outputs": []
    },
    {
      "cell_type": "markdown",
      "source": [
        "We will now load the dataset, which is trivial in scikit-learn with its dataset loading abilities, and then fit the _k_-means model:"
      ],
      "metadata": {
        "id": "dtZe2UvTAjDu"
      }
    },
    {
      "cell_type": "code",
      "source": [
        "iris = load_iris()\n",
        "X = iris.data\n",
        "model = KMeans(n_clusters=3, init='random', max_iter=2000, tol=10**-7, random_state=42, n_init='auto')\n",
        "model.fit_predict(X)"
      ],
      "metadata": {
        "colab": {
          "base_uri": "https://localhost:8080/"
        },
        "id": "rqivnRzXAg2D",
        "outputId": "33e70261-a5ca-4309-f53e-c90f501e87c3"
      },
      "execution_count": null,
      "outputs": [
        {
          "output_type": "execute_result",
          "data": {
            "text/plain": [
              "array([1, 1, 1, 1, 1, 1, 1, 1, 1, 1, 1, 1, 1, 1, 1, 1, 1, 1, 1, 1, 1, 1,\n",
              "       1, 1, 1, 1, 1, 1, 1, 1, 1, 1, 1, 1, 1, 1, 1, 1, 1, 1, 1, 1, 1, 1,\n",
              "       1, 1, 1, 1, 1, 1, 0, 0, 2, 0, 0, 0, 0, 0, 0, 0, 0, 0, 0, 0, 0, 0,\n",
              "       0, 0, 0, 0, 0, 0, 0, 0, 0, 0, 0, 2, 0, 0, 0, 0, 0, 0, 0, 0, 0, 0,\n",
              "       0, 0, 0, 0, 0, 0, 0, 0, 0, 0, 0, 0, 2, 0, 2, 2, 2, 2, 0, 2, 2, 2,\n",
              "       2, 2, 2, 0, 0, 2, 2, 2, 2, 0, 2, 0, 2, 0, 2, 2, 0, 0, 2, 2, 2, 2,\n",
              "       2, 0, 2, 2, 2, 2, 0, 2, 2, 2, 0, 2, 2, 2, 0, 2, 2, 0], dtype=int32)"
            ]
          },
          "metadata": {},
          "execution_count": 68
        }
      ]
    },
    {
      "cell_type": "markdown",
      "source": [
        "Let's compare it for a second with the clustering method we saw before by checking it's accuracy:"
      ],
      "metadata": {
        "id": "DFIss4mSAqr2"
      }
    },
    {
      "cell_type": "code",
      "source": [
        "predicted_labels = model.labels_\n",
        "where_0 = np.where(predicted_labels == 0)\n",
        "where_1 = np.where(predicted_labels == 1)\n",
        "\n",
        "predicted_labels[where_0] = 1\n",
        "predicted_labels[where_1] = 0\n",
        "real_labels = iris.target\n",
        "equal = 0\n",
        "for predicted_label, real_label in zip(predicted_labels, real_labels):\n",
        "    if  predicted_label == real_label:\n",
        "        equal += 1\n",
        "\n",
        "\n",
        "print(f'Accuracy of _k_-means clustering with clusters specified is {100*equal / len(predicted_labels)} %')"
      ],
      "metadata": {
        "colab": {
          "base_uri": "https://localhost:8080/"
        },
        "id": "CgPr-tCKAkhA",
        "outputId": "783c0fef-8f94-438b-b102-9c3b0e7e42f1"
      },
      "execution_count": null,
      "outputs": [
        {
          "output_type": "stream",
          "name": "stdout",
          "text": [
            "Accuracy of _k_-means clustering with clusters specified is 89.33333333333333 %\n"
          ]
        }
      ]
    },
    {
      "cell_type": "markdown",
      "source": [
        "#### Figuring out the number of clusters\n",
        "\n",
        "We can see that it doesn't seem like we have much difference! However, there _is_ a difference, because in _k_-means we have an analytical way of analyzing how to optimize it! Basically, we can calculate for each parameter the inertia of the resulting cluster, so we can optimize over it. This way, we can get the optimum number of clusters *without* knowing them ahead of time!\n",
        "\n",
        "Let's try to do the same as before, but with an increasing number of clusters, and then compare the inertias:"
      ],
      "metadata": {
        "id": "ILhF7rOjA2vl"
      }
    },
    {
      "cell_type": "code",
      "source": [
        "n_clusters = [1,2,3,4,5,6,7,8]\n",
        "inertias = []\n",
        "for cluster in n_clusters:\n",
        "    del model  # So we remove previous references\n",
        "    model = KMeans(n_clusters=cluster, random_state=42, n_init=10)\n",
        "    model.fit(X)\n",
        "    inertias.append(model.inertia_)\n",
        "\n",
        "print(f'The inertias were: {inertias}')"
      ],
      "metadata": {
        "colab": {
          "base_uri": "https://localhost:8080/"
        },
        "id": "a8wIn92TAuqs",
        "outputId": "0571cca0-60f0-4a81-b8d9-addc9172aa35"
      },
      "execution_count": null,
      "outputs": [
        {
          "output_type": "stream",
          "name": "stdout",
          "text": [
            "The inertias were: [681.3706, 152.3479517603579, 78.851441426146, 57.22847321428572, 46.446182051282065, 39.03998724608726, 34.46949589883801, 30.1865551948052]\n"
          ]
        }
      ]
    },
    {
      "cell_type": "markdown",
      "source": [
        "If you check closely, the inertias decrease over time. There is a point, however, where the decrease isn't as steep. This means that we aren't gaining too much information by adding more clusters.\n",
        "\n",
        "The *Elbow method* dictates that the point where the decrease in inertia starts to be \"low\" is the optimal number of clusters. So for our example:"
      ],
      "metadata": {
        "id": "S-MK5wbQBcPS"
      }
    },
    {
      "cell_type": "code",
      "source": [
        "print(f'The differences in each step are: {[(i-j) for i, j in zip(inertias[:-1], inertias[1:])]}')"
      ],
      "metadata": {
        "colab": {
          "base_uri": "https://localhost:8080/"
        },
        "id": "BgTkx8dpBc2v",
        "outputId": "73ed9885-d916-48cd-d711-6fbf21fecde0"
      },
      "execution_count": null,
      "outputs": [
        {
          "output_type": "stream",
          "name": "stdout",
          "text": [
            "The differences in each step are: [529.0226482396421, 73.49651033421189, 21.622968211860275, 10.782291163003656, 7.406194805194808, 4.570491347249245, 4.282940704032811]\n"
          ]
        }
      ]
    },
    {
      "cell_type": "markdown",
      "source": [
        "We can see that going from one cluster to two reduced the inertia by 77%, then we reduced it by another 48% but later on it only reduced by a bit (20 or less); so, we could say the optimal number of clusters is three. What we do then is a hierarchical clustering and confirm this in a dendrogram, as we did before.\n",
        "\n",
        "However, _k_-means is not always the best algorithm since it expects clusters to be globular and of equal shape. Let's quickly analyze this in the next step!"
      ],
      "metadata": {
        "id": "IYqn0GB8BkY3"
      }
    },
    {
      "cell_type": "markdown",
      "source": [
        "### DBScan"
      ],
      "metadata": {
        "id": "TIyy7GDEBpdc"
      }
    },
    {
      "cell_type": "markdown",
      "source": [
        "If you find that _k_-means is not working for you, it might be because your data is not equivariant or globular; if so, there are other alternatives! One famous algorithm to revisit is *DB Scan*.\n",
        "\n",
        "The idea behind DB Scan is to not form clusters by assigning all members and later on reduce a metric (inertia in _k_-means), but to check a cluster by the *density of its members*, characterized by the minimum number of elements needed to perform a cluster and the radius of the search space.\n",
        "\n",
        "This way, DB Scan \"scans\" the whole map looking for neighbors and assigns in case there are sufficient, and sufficiently close! Check out this [video][dbscan] for an example.\n",
        "\n",
        "[dbscan]:  http://primo.ai/index.php?title=Density-Based_Spatial_Clustering_of_Applications_with_Noise_(DBSCAN) \"DB Scan Example\"\n",
        "\n",
        "So to get a handle on this in code, first we do our imports:"
      ],
      "metadata": {
        "id": "r4UxF_leBr8G"
      }
    },
    {
      "cell_type": "code",
      "source": [
        "import numpy as np\n",
        "\n",
        "from sklearn.cluster import DBSCAN\n",
        "from sklearn import metrics\n",
        "from sklearn.datasets import make_blobs\n",
        "from sklearn.preprocessing import StandardScaler"
      ],
      "metadata": {
        "id": "h8OyN4bHBfhQ"
      },
      "execution_count": null,
      "outputs": []
    },
    {
      "cell_type": "markdown",
      "source": [
        "Later on we might create artificial data, but for this we use the super useful `make_blobs` method from scikit-learn:"
      ],
      "metadata": {
        "id": "xl2p7fcIBy-O"
      }
    },
    {
      "cell_type": "code",
      "source": [
        "centers = [[1, 1], [-1, -1], [1, -1]]\n",
        "X, labels_true = make_blobs(n_samples=750, centers=centers, cluster_std=0.4,\n",
        "                            random_state=0)\n",
        "\n",
        "X = StandardScaler().fit_transform(X)"
      ],
      "metadata": {
        "id": "WJEGOzd7BxX5"
      },
      "execution_count": null,
      "outputs": []
    },
    {
      "cell_type": "markdown",
      "source": [
        "Next we'll perform the scan, setting the ratio as 0.3 and the minimum elements to create a cluster as 10:"
      ],
      "metadata": {
        "id": "80_cC2A1B2DP"
      }
    },
    {
      "cell_type": "code",
      "source": [
        "db = DBSCAN(eps=0.3, min_samples=10).fit(X)\n",
        "labels = db.labels_\n",
        "# Number of clusters in labels, ignoring noise if present.\n",
        "n_clusters_ = len(set(labels)) - (1 if -1 in labels else 0)\n",
        "n_noise_ = list(labels).count(-1)"
      ],
      "metadata": {
        "id": "0NR8GqOXB0ft"
      },
      "execution_count": null,
      "outputs": []
    },
    {
      "cell_type": "markdown",
      "source": [
        "Finally, let's see how it goes! Run the following:\n"
      ],
      "metadata": {
        "id": "5wVCZsD8B7hJ"
      }
    },
    {
      "cell_type": "code",
      "source": [
        "print('Estimated number of clusters: %d' % n_clusters_)\n",
        "print('Estimated number of noise points: %d' % n_noise_)\n",
        "print(\"Homogeneity: %0.3f\" % metrics.homogeneity_score(labels_true, labels))\n",
        "print(\"Completeness: %0.3f\" % metrics.completeness_score(labels_true, labels))\n",
        "print(\"V-measure: %0.3f\" % metrics.v_measure_score(labels_true, labels))\n",
        "print(\"Adjusted Rand Index: %0.3f\"\n",
        "      % metrics.adjusted_rand_score(labels_true, labels))\n",
        "print(\"Adjusted Mutual Information: %0.3f\"\n",
        "      % metrics.adjusted_mutual_info_score(labels_true, labels))\n",
        "print(\"Silhouette Coefficient: %0.3f\"\n",
        "      % metrics.silhouette_score(X, labels))\n"
      ],
      "metadata": {
        "colab": {
          "base_uri": "https://localhost:8080/"
        },
        "id": "0BcwUqytB5-O",
        "outputId": "f7450761-4789-418c-fb96-3d5d5a92752a"
      },
      "execution_count": null,
      "outputs": [
        {
          "output_type": "stream",
          "name": "stdout",
          "text": [
            "Estimated number of clusters: 3\n",
            "Estimated number of noise points: 18\n",
            "Homogeneity: 0.953\n",
            "Completeness: 0.883\n",
            "V-measure: 0.917\n",
            "Adjusted Rand Index: 0.952\n",
            "Adjusted Mutual Information: 0.916\n",
            "Silhouette Coefficient: 0.626\n"
          ]
        }
      ]
    },
    {
      "cell_type": "markdown",
      "source": [
        "Not too shabby! DB Scan automatically discovered the three clusters and also removed the 18 outliers, setting them as not being in any cluster!\n",
        "\n",
        "DB Scan is a bit slower than _k_-means and does not parallelize as the latter does, but it is extremely good at finding the \"correct clusters.\" Using the three tools we have seen, we have a perfect toolkit to find the correct number of tentative labels for our data!\n"
      ],
      "metadata": {
        "id": "bHN84zZLCB5M"
      }
    },
    {
      "cell_type": "markdown",
      "source": [
        "To recap, we did the following:\n",
        "\n",
        "- Learned about unsupervised learning and the types of clustering\n",
        "- Performed a hierarchical clustering, finding out how to visually represent our clusters\n",
        "- Migrated into non hierarchical clustering checking out the most famous algorithm of all, _k_-means, and look at its assumptions and how to find out the number of clusters to set\n",
        "- Finally, we briefly explored DB Scan to analyze density based clustering and how it helps us find, intrinsically, any outliers and the correct number of clusters\n"
      ],
      "metadata": {
        "id": "Q2pnyqh2CI3P"
      }
    },
    {
      "cell_type": "code",
      "source": [],
      "metadata": {
        "id": "gHsXCm1qB-Z4"
      },
      "execution_count": null,
      "outputs": []
    },
    {
      "cell_type": "markdown",
      "source": [
        "## PCA"
      ],
      "metadata": {
        "id": "dcwgbaBICLFD"
      }
    },
    {
      "cell_type": "markdown",
      "source": [
        "In this section we will use the [Labeled Faces in the Wild](http://vis-www.cs.umass.edu/lfw/) open dataset and scikit-learn to effectively classify the correct famous person from our images!\n",
        "\n",
        "The objective of this section is to understand how PCA can help us identify representative new curated features that allow for easier calculations."
      ],
      "metadata": {
        "id": "udaCVvaNCtsJ"
      }
    },
    {
      "cell_type": "markdown",
      "source": [
        "In the previous section, we learned how we can find aggregations of our non-annotated dataset with clustering. However, as the number of dimensions increases drastically, that operation becomes more complex and less robust, since in a highly dimensional space, outliers are more difficult to find! A collection of images presents a good example of the number of dimensions we may need to treat.\n",
        "\n",
        "A normal, super low definition color image has the following axes: width x height x length x color scale. This means that a simple RGB image has 256 x 256 x 256 x 3, or _50 million_ different values! That is incredibly large, and we aren't even talking about 4k videos or audio!\n",
        " <!-- (which have even more values, since this is only one frame and a low definition video has 30 of those PER second) -->\n",
        "\n",
        "As a result, you may guess that we need to reduce this dimensionality into key numbers that contain \"most\" of the information: and now we are in the domain of *dimensionality reduction*.\n"
      ],
      "metadata": {
        "id": "1Diu14dRC8BE"
      }
    },
    {
      "cell_type": "markdown",
      "source": [
        "The basic idea of dimensionality reduction can be described as:\n",
        "\n",
        "- Given a dataset with n variables, probably correlated\n",
        "- Find a new new dataset with _p_ variables that “explain the same”\n",
        "- Have a way of going back!\n",
        "\n",
        "Here is an illustration of this idea:\n",
        "\n",
        "![PCA example](https://raw.githubusercontent.com/axel-sirota/getting-started-unsupervised-learning/master/pca.png)\n",
        "\n",
        "Why is this useful? It's useful for many, many reasons:\n",
        "\n",
        "- We can compress data to be able to send it easily\n",
        "- We can use this technique before any other supervised learning in order to make our computations faster\n",
        "- It's cool!\n",
        "\n",
        "Let's see how to do this in Python, first with a simple Iris lab. As always, let's first import the necessary modules:\n"
      ],
      "metadata": {
        "id": "wGbX2oHlC8Ik"
      }
    },
    {
      "cell_type": "code",
      "source": [
        "import numpy as np\n",
        "from sklearn import decomposition\n",
        "from sklearn import datasets\n",
        "np.random.seed(42)"
      ],
      "metadata": {
        "id": "lrfVcloQCm28"
      },
      "execution_count": null,
      "outputs": []
    },
    {
      "cell_type": "markdown",
      "source": [
        "Later on, we define the dataset and we perform the PCA algorithm, specifying the number of components we want to retain (i.e., the number of dimensions we want to keep):\n"
      ],
      "metadata": {
        "id": "sUgmBcQXDIba"
      }
    },
    {
      "cell_type": "code",
      "source": [
        "iris = datasets.load_iris()\n",
        "X = iris.data\n",
        "y = iris.target\n",
        "pca = decomposition.PCA(n_components=1)\n",
        "pca.fit(X)"
      ],
      "metadata": {
        "colab": {
          "base_uri": "https://localhost:8080/",
          "height": 95
        },
        "id": "Hjdq9oSVDHOb",
        "outputId": "519b0f52-f762-446e-f68a-9c19b03f9e83"
      },
      "execution_count": null,
      "outputs": [
        {
          "output_type": "execute_result",
          "data": {
            "text/plain": [
              "PCA(n_components=1)"
            ],
            "text/html": [
              "<style>#sk-container-id-2 {color: black;background-color: white;}#sk-container-id-2 pre{padding: 0;}#sk-container-id-2 div.sk-toggleable {background-color: white;}#sk-container-id-2 label.sk-toggleable__label {cursor: pointer;display: block;width: 100%;margin-bottom: 0;padding: 0.3em;box-sizing: border-box;text-align: center;}#sk-container-id-2 label.sk-toggleable__label-arrow:before {content: \"▸\";float: left;margin-right: 0.25em;color: #696969;}#sk-container-id-2 label.sk-toggleable__label-arrow:hover:before {color: black;}#sk-container-id-2 div.sk-estimator:hover label.sk-toggleable__label-arrow:before {color: black;}#sk-container-id-2 div.sk-toggleable__content {max-height: 0;max-width: 0;overflow: hidden;text-align: left;background-color: #f0f8ff;}#sk-container-id-2 div.sk-toggleable__content pre {margin: 0.2em;color: black;border-radius: 0.25em;background-color: #f0f8ff;}#sk-container-id-2 input.sk-toggleable__control:checked~div.sk-toggleable__content {max-height: 200px;max-width: 100%;overflow: auto;}#sk-container-id-2 input.sk-toggleable__control:checked~label.sk-toggleable__label-arrow:before {content: \"▾\";}#sk-container-id-2 div.sk-estimator input.sk-toggleable__control:checked~label.sk-toggleable__label {background-color: #d4ebff;}#sk-container-id-2 div.sk-label input.sk-toggleable__control:checked~label.sk-toggleable__label {background-color: #d4ebff;}#sk-container-id-2 input.sk-hidden--visually {border: 0;clip: rect(1px 1px 1px 1px);clip: rect(1px, 1px, 1px, 1px);height: 1px;margin: -1px;overflow: hidden;padding: 0;position: absolute;width: 1px;}#sk-container-id-2 div.sk-estimator {font-family: monospace;background-color: #f0f8ff;border: 1px dotted black;border-radius: 0.25em;box-sizing: border-box;margin-bottom: 0.5em;}#sk-container-id-2 div.sk-estimator:hover {background-color: #d4ebff;}#sk-container-id-2 div.sk-parallel-item::after {content: \"\";width: 100%;border-bottom: 1px solid gray;flex-grow: 1;}#sk-container-id-2 div.sk-label:hover label.sk-toggleable__label {background-color: #d4ebff;}#sk-container-id-2 div.sk-serial::before {content: \"\";position: absolute;border-left: 1px solid gray;box-sizing: border-box;top: 0;bottom: 0;left: 50%;z-index: 0;}#sk-container-id-2 div.sk-serial {display: flex;flex-direction: column;align-items: center;background-color: white;padding-right: 0.2em;padding-left: 0.2em;position: relative;}#sk-container-id-2 div.sk-item {position: relative;z-index: 1;}#sk-container-id-2 div.sk-parallel {display: flex;align-items: stretch;justify-content: center;background-color: white;position: relative;}#sk-container-id-2 div.sk-item::before, #sk-container-id-2 div.sk-parallel-item::before {content: \"\";position: absolute;border-left: 1px solid gray;box-sizing: border-box;top: 0;bottom: 0;left: 50%;z-index: -1;}#sk-container-id-2 div.sk-parallel-item {display: flex;flex-direction: column;z-index: 1;position: relative;background-color: white;}#sk-container-id-2 div.sk-parallel-item:first-child::after {align-self: flex-end;width: 50%;}#sk-container-id-2 div.sk-parallel-item:last-child::after {align-self: flex-start;width: 50%;}#sk-container-id-2 div.sk-parallel-item:only-child::after {width: 0;}#sk-container-id-2 div.sk-dashed-wrapped {border: 1px dashed gray;margin: 0 0.4em 0.5em 0.4em;box-sizing: border-box;padding-bottom: 0.4em;background-color: white;}#sk-container-id-2 div.sk-label label {font-family: monospace;font-weight: bold;display: inline-block;line-height: 1.2em;}#sk-container-id-2 div.sk-label-container {text-align: center;}#sk-container-id-2 div.sk-container {/* jupyter's `normalize.less` sets `[hidden] { display: none; }` but bootstrap.min.css set `[hidden] { display: none !important; }` so we also need the `!important` here to be able to override the default hidden behavior on the sphinx rendered scikit-learn.org. See: https://github.com/scikit-learn/scikit-learn/issues/21755 */display: inline-block !important;position: relative;}#sk-container-id-2 div.sk-text-repr-fallback {display: none;}</style><div id=\"sk-container-id-2\" class=\"sk-top-container\"><div class=\"sk-text-repr-fallback\"><pre>PCA(n_components=1)</pre><b>In a Jupyter environment, please rerun this cell to show the HTML representation or trust the notebook. <br />On GitHub, the HTML representation is unable to render, please try loading this page with nbviewer.org.</b></div><div class=\"sk-container\" hidden><div class=\"sk-item\"><div class=\"sk-estimator sk-toggleable\"><input class=\"sk-toggleable__control sk-hidden--visually\" id=\"sk-estimator-id-2\" type=\"checkbox\" checked><label for=\"sk-estimator-id-2\" class=\"sk-toggleable__label sk-toggleable__label-arrow\">PCA</label><div class=\"sk-toggleable__content\"><pre>PCA(n_components=1)</pre></div></div></div></div></div>"
            ]
          },
          "metadata": {},
          "execution_count": 77
        }
      ]
    },
    {
      "cell_type": "markdown",
      "source": [
        "That's it, we did it! In one line, we did that super complex operation. Incredible, right?!\n",
        "\n",
        "Up to this point, we *trained* a PCA algorithm on the directions we want to keep, and now we will *project* our values (which can have many dimensions) into the one that the algorithm found!\n",
        "\n",
        "You can see an example in the following, where projecting the original values into the first two components (PC1, PC2) retained most of the information:\n",
        "\n",
        "![PCA example 2](https://raw.githubusercontent.com/axel-sirota/getting-started-unsupervised-learning/master/pca2.png)\n"
      ],
      "metadata": {
        "id": "kMLLR75FDPDE"
      }
    },
    {
      "cell_type": "code",
      "source": [
        "new_X = pca.transform(X)\n",
        "print(f'Shape of old values are {np.shape(X)}')\n",
        "print(f'Shape of new transformed values are {np.shape(new_X)}')"
      ],
      "metadata": {
        "colab": {
          "base_uri": "https://localhost:8080/"
        },
        "id": "-r8Bdv8TDKUY",
        "outputId": "3255afff-04b5-48d7-cd7b-8c404ce4c949"
      },
      "execution_count": null,
      "outputs": [
        {
          "output_type": "stream",
          "name": "stdout",
          "text": [
            "Shape of old values are (150, 4)\n",
            "Shape of new transformed values are (150, 1)\n"
          ]
        }
      ]
    },
    {
      "cell_type": "markdown",
      "source": [
        "As we can imagine, now the dimension of the new `X` is `number_of_samples` times 1, because we retained one component!\n",
        "\n",
        "You might be wondering: how much of the information we retained? For that, we have the percent of explained variance, which measures how much we \"lost\" in transforming our original data to this new dataset (the mathematics about this are really complex, so just trust me here):"
      ],
      "metadata": {
        "id": "ERkRSsSeDVRS"
      }
    },
    {
      "cell_type": "code",
      "source": [
        "print(f'We only lost {100-100*sum(pca.explained_variance_ratio_)}% of information')"
      ],
      "metadata": {
        "colab": {
          "base_uri": "https://localhost:8080/"
        },
        "id": "CaCHvPhTDR90",
        "outputId": "d33ac2d8-1c54-4136-8675-c6252ea3a814"
      },
      "execution_count": null,
      "outputs": [
        {
          "output_type": "stream",
          "name": "stdout",
          "text": [
            "We only lost 7.538127679827284% of information\n"
          ]
        }
      ]
    },
    {
      "cell_type": "markdown",
      "source": [
        "Pretty incredible, right?\n",
        "\n",
        "And now we can do whatever we want! For example, we can perform _k_-means and check if we can do better than before:"
      ],
      "metadata": {
        "id": "o-xQP8LQDbZX"
      }
    },
    {
      "cell_type": "code",
      "source": [
        "from sklearn.cluster import KMeans\n",
        "model = KMeans(n_clusters=3, init='random', max_iter=2000, tol=10**-7, random_state=42, n_init=10)\n",
        "model.fit_predict(new_X)\n",
        "predicted_labels = model.labels_\n",
        "print(predicted_labels)\n",
        "# where_2 = np.where(predicted_labels == 2)\n",
        "where_1 = np.where(predicted_labels == 1)\n",
        "where_0 = np.where(predicted_labels == 0)\n",
        "\n",
        "# predicted_labels[where_2] = 1\n",
        "predicted_labels[where_0] = 1\n",
        "predicted_labels[where_1] = 0\n",
        "real_labels = iris.target\n",
        "equal = 0\n",
        "for predicted_label, real_label in zip(predicted_labels, real_labels):\n",
        "    if  predicted_label == real_label:\n",
        "        equal += 1\n",
        "\n",
        "print(f'Accuracy of K Means clustering with clusters specified is {100*equal / len(predicted_labels)} %')"
      ],
      "metadata": {
        "colab": {
          "base_uri": "https://localhost:8080/"
        },
        "id": "y4vk31C2DYVB",
        "outputId": "e6ec10c3-a5f6-440c-cf8a-6cb19b343b31"
      },
      "execution_count": null,
      "outputs": [
        {
          "output_type": "stream",
          "name": "stdout",
          "text": [
            "[1 1 1 1 1 1 1 1 1 1 1 1 1 1 1 1 1 1 1 1 1 1 1 1 1 1 1 1 1 1 1 1 1 1 1 1 1\n",
            " 1 1 1 1 1 1 1 1 1 1 1 1 1 0 0 0 0 0 0 0 0 0 0 0 0 0 0 0 0 0 0 0 0 0 0 0 0\n",
            " 0 0 0 2 0 0 0 0 0 0 0 0 0 0 0 0 0 0 0 0 0 0 0 0 0 0 2 0 2 2 2 2 0 2 2 2 2\n",
            " 2 2 0 2 2 2 2 2 0 2 0 2 0 2 2 0 0 2 2 2 2 2 0 2 2 2 2 0 2 2 2 0 2 2 2 2 2\n",
            " 2 0]\n",
            "Accuracy of K Means clustering with clusters specified is 91.33333333333333 %\n"
          ]
        }
      ]
    },
    {
      "cell_type": "markdown",
      "source": [
        "By squashing into a single component, the whole clustering just got WAY easier! And of course, we can revert and go back, so it is _that_ incredible!"
      ],
      "metadata": {
        "id": "07SJ3gfvDuj1"
      }
    },
    {
      "cell_type": "markdown",
      "source": [
        "### Playing with images"
      ],
      "metadata": {
        "id": "HAGVsxwhDxcV"
      }
    },
    {
      "cell_type": "markdown",
      "source": [
        "Now that we know about PCA and how it leverages the reduction of dimensionality, let's look at best way to use this knowledge that play around with images!\n",
        "Images are a perfect case for PCA, since we can reduce those terrible 50 million points to just a few.\n",
        "\n",
        "We will create what is known as a *Machine Learning Pipeline* that will use PCA to make images more tractable, which will then help us pass them through a classifier to predict faces. Note that it is *not* the objective of this lab to explain all the parts of the classifier, so don't worry about that!\n",
        "\n",
        "This example comes from the excellent [scikit-learn docs](https://scikit-learn.org/stable/auto_examples/applications/plot_face_recognition.html#sphx-glr-auto-examples-applications-plot-face-recognition-py), and I highly recommend taking a look at them.\n",
        "\n",
        "First, as always, let's import everything:"
      ],
      "metadata": {
        "id": "ELm_Yo6dDz6j"
      }
    },
    {
      "cell_type": "code",
      "source": [
        "import numpy as np\n",
        "import logging\n",
        "import matplotlib.pyplot as plt\n",
        "from sklearn.model_selection import train_test_split\n",
        "from sklearn.model_selection import GridSearchCV\n",
        "from sklearn.datasets import fetch_lfw_people\n",
        "from sklearn.metrics import classification_report\n",
        "from sklearn.metrics import confusion_matrix\n",
        "from sklearn.decomposition import PCA\n",
        "from sklearn.svm import SVC\n",
        "np.random.seed(42)\n",
        "logging.basicConfig(level=logging.INFO, format='%(asctime)s %(message)s')"
      ],
      "metadata": {
        "id": "ggtFHexUDhuY"
      },
      "execution_count": null,
      "outputs": []
    },
    {
      "cell_type": "markdown",
      "source": [
        "Next, we will load the [Labeled Faces in the Wild](http://vis-www.cs.umass.edu/lfw/) dataset:"
      ],
      "metadata": {
        "id": "fyugRp1wD4Ao"
      }
    },
    {
      "cell_type": "code",
      "source": [
        "lfw_people = fetch_lfw_people(min_faces_per_person=70, resize=0.4)\n",
        "\n",
        "# introspect the images arrays to find the shapes (for plotting)\n",
        "n_samples, h, w = lfw_people.images.shape\n",
        "\n",
        "# for machine learning we use the 2 data directly (as relative pixel\n",
        "# positions info is ignored by this model)\n",
        "X = lfw_people.data\n",
        "n_features = X.shape[1]\n",
        "\n",
        "# the label to predict is the id of the person\n",
        "y = lfw_people.target\n",
        "target_names = lfw_people.target_names\n",
        "n_classes = target_names.shape[0]\n",
        "\n",
        "print(\"Total dataset size:\")\n",
        "print(\"n_samples: %d\" % n_samples)\n",
        "print(\"n_features: %d\" % n_features)\n",
        "print(\"n_classes: %d\" % n_classes)"
      ],
      "metadata": {
        "colab": {
          "base_uri": "https://localhost:8080/"
        },
        "id": "SI45eZ7zD2MW",
        "outputId": "6f7a70f5-42d2-4925-b8d7-81954d118187"
      },
      "execution_count": null,
      "outputs": [
        {
          "output_type": "stream",
          "name": "stdout",
          "text": [
            "Total dataset size:\n",
            "n_samples: 1288\n",
            "n_features: 1850\n",
            "n_classes: 7\n"
          ]
        }
      ]
    },
    {
      "cell_type": "markdown",
      "source": [
        "Note that we have around 1,200 images with 1,850 dimensions (so images will be a bit blurry), and 7 different people!\n",
        "\n",
        "What we will do now is split our dataset between training, test, and validation sets so we can check the performance of our pipeline later on. This is a normal practice in Supervised Learning (since the labels already exist!), because we may want to compare multiple classifiers.\n",
        "\n",
        "As that can take a bunch of time, we will first reduce the dimension to 150 components with PCA:"
      ],
      "metadata": {
        "id": "clBbDtzrEB3f"
      }
    },
    {
      "cell_type": "code",
      "source": [
        "X_train, X_test, y_train, y_test = train_test_split(\n",
        "    X, y, test_size=0.25, random_state=42)\n",
        "n_components = 150\n",
        "\n",
        "print(\"Extracting the top %d eigenfaces from %d faces\"\n",
        "      % (n_components, X_train.shape[0]))\n",
        "pca = PCA(n_components=n_components, svd_solver='randomized',\n",
        "          whiten=True).fit(X_train)\n",
        "\n",
        "eigenfaces = pca.components_.reshape((n_components, h, w))\n",
        "\n",
        "print(\"Projecting the input data on the eigenfaces orthonormal basis\")\n",
        "X_train_pca = pca.transform(X_train)\n",
        "X_test_pca = pca.transform(X_test)"
      ],
      "metadata": {
        "colab": {
          "base_uri": "https://localhost:8080/"
        },
        "id": "-M8-D9NvD6Pv",
        "outputId": "d45f225c-f70c-4af2-c028-223ebeae425e"
      },
      "execution_count": null,
      "outputs": [
        {
          "output_type": "stream",
          "name": "stdout",
          "text": [
            "Extracting the top 150 eigenfaces from 966 faces\n",
            "Projecting the input data on the eigenfaces orthonormal basis\n"
          ]
        }
      ]
    },
    {
      "cell_type": "markdown",
      "source": [
        "A key factor is that we trained our PCA with the training set, and later on transformed the other sets with *that exact trained PCA*; we did not train another one! Let's try to debug how much of the variance remained by keeping only 150 components:\n"
      ],
      "metadata": {
        "id": "SWOr1ebgEJXd"
      }
    },
    {
      "cell_type": "code",
      "source": [
        "print(f'We only lost {100-100*sum(pca.explained_variance_ratio_)}% of information')"
      ],
      "metadata": {
        "colab": {
          "base_uri": "https://localhost:8080/"
        },
        "id": "wpMHqsijEGcF",
        "outputId": "90770bc1-ac27-4bae-a29f-be9c53147e74"
      },
      "execution_count": null,
      "outputs": [
        {
          "output_type": "stream",
          "name": "stdout",
          "text": [
            "We only lost 5.330208141822368% of information\n"
          ]
        }
      ]
    },
    {
      "cell_type": "markdown",
      "source": [
        "Finally, we train an SVM classifier with multiple possible hyperparameters using cross validation (a common supervised learning technique) to get the final classifier and check its performance:"
      ],
      "metadata": {
        "id": "c5dy6J5lELcp"
      }
    },
    {
      "cell_type": "code",
      "source": [
        "param_grid = {'C': [1e3, 5e3, 1e4, 5e4, 1e5],\n",
        "              'gamma': [0.0001, 0.0005, 0.001, 0.005, 0.01, 0.1], }\n",
        "clf = GridSearchCV(\n",
        "    SVC(kernel='rbf', class_weight='balanced'), param_grid\n",
        ")\n",
        "clf = clf.fit(X_train_pca, y_train)\n",
        "y_pred = clf.predict(X_test_pca)  # Check that we use the transofrmed test set on the PCA trained on the TRAIN set!\n",
        "\n",
        "print(classification_report(y_test, y_pred, target_names=target_names))"
      ],
      "metadata": {
        "colab": {
          "base_uri": "https://localhost:8080/"
        },
        "id": "Bv3AzfQPEK2H",
        "outputId": "543e6073-63cf-460e-9120-493edd04bb5a"
      },
      "execution_count": null,
      "outputs": [
        {
          "output_type": "stream",
          "name": "stdout",
          "text": [
            "                   precision    recall  f1-score   support\n",
            "\n",
            "     Ariel Sharon       0.88      0.54      0.67        13\n",
            "     Colin Powell       0.80      0.88      0.84        60\n",
            "  Donald Rumsfeld       0.94      0.63      0.76        27\n",
            "    George W Bush       0.85      0.98      0.91       146\n",
            "Gerhard Schroeder       0.95      0.80      0.87        25\n",
            "      Hugo Chavez       1.00      0.53      0.70        15\n",
            "       Tony Blair       0.91      0.83      0.87        36\n",
            "\n",
            "         accuracy                           0.86       322\n",
            "        macro avg       0.91      0.74      0.80       322\n",
            "     weighted avg       0.87      0.86      0.86       322\n",
            "\n"
          ]
        }
      ]
    },
    {
      "cell_type": "markdown",
      "source": [
        "We can verify that we have really high accuracy (>85%), considering we just took two seconds to run this! The magic lies in the PCA algorithms that allowed us to reduce much of the \"clutter\" into valuable information. I encourage you to try it out at home with greater or fewer components to see how it differs!"
      ],
      "metadata": {
        "id": "7K8TgXowESxv"
      }
    },
    {
      "cell_type": "markdown",
      "source": [
        "To recap, we did the following:\n",
        "\n",
        "- Learned about dimensionality reduction\n",
        "- Performed PCA on the Iris dataset and verified that with less dimensions we can easily distinguish information like the clusters\n",
        "- Performed a _Machine Learning Pipeline_ by first compressing images in order to set an SVM classifier later on; we retained a lot of the information and quickly got to an >85% classifier\n"
      ],
      "metadata": {
        "id": "r-ev5ucGEY7M"
      }
    },
    {
      "cell_type": "markdown",
      "source": [
        "## Anomaly Detection"
      ],
      "metadata": {
        "id": "vr26iDcsEj7g"
      }
    },
    {
      "cell_type": "markdown",
      "source": [
        "In this section, we will explore both outlier and anomaly detection algorithms to improve our estimates.\n",
        "\n",
        "The objective of this section is to understand how outliers can be detected in several ways. By removing them from the training set, we can obtain better models."
      ],
      "metadata": {
        "id": "1n0DX8h2Encg"
      }
    },
    {
      "cell_type": "markdown",
      "source": [
        "Many applications require being able to decide whether a new observation belongs to the same distribution as existing observations (i.e., an _inlier_), or should be considered as different (i.e., an _outlier_). However, we must distinguish between:\n",
        "\n",
        "- Outlier detection: when we try to find spurious data in our dataset\n",
        "- Novelty detection: when we try to determine if a new datapoint belongs to the same distribution as ours\n",
        "\n",
        "The main differentiator is that in the former case, we can assume that outliers are in low density regions (since they are \"odd\"), however in the latter, we may have a new \"cluster\" of new data points, which makes the problem way harder!"
      ],
      "metadata": {
        "id": "tv7ceuZMEsX0"
      }
    },
    {
      "cell_type": "markdown",
      "source": [
        "### Outlier Detection\n",
        "\n",
        "One of the most common outlier detection algorithms is Local Outlier Factor (LOF), which basically calculates the \"amount of neighbors per unit of distance\" to determine a density per datapoint, and then, with a given threshold, it determines whether each datapoint is an inlier or outlier. It is quite powerful for such a simple idea!\n",
        "\n",
        "Let's take a look at the code:"
      ],
      "metadata": {
        "id": "GBSbBvB-EvR8"
      }
    },
    {
      "cell_type": "code",
      "source": [
        "import numpy as np\n",
        "from sklearn.neighbors import LocalOutlierFactor\n",
        "np.random.seed(42)"
      ],
      "metadata": {
        "id": "ByRSq94ZExgr"
      },
      "execution_count": null,
      "outputs": []
    },
    {
      "cell_type": "markdown",
      "source": [
        "Now we will generate some data with outliers to verify how it performs:"
      ],
      "metadata": {
        "id": "1a0luWv4E1As"
      }
    },
    {
      "cell_type": "code",
      "source": [
        "X_inliers = 0.3 * np.random.randn(100, 2)\n",
        "X_inliers = np.r_[X_inliers + 2, X_inliers - 2]\n",
        "X_outliers = np.random.uniform(low=-4, high=4, size=(20, 2))\n",
        "X = np.r_[X_inliers, X_outliers]\n",
        "n_outliers = len(X_outliers)\n",
        "ground_truth = np.ones(len(X), dtype=int)\n",
        "ground_truth[-n_outliers:] = -1"
      ],
      "metadata": {
        "id": "geYpY1pSEzpy"
      },
      "execution_count": null,
      "outputs": []
    },
    {
      "cell_type": "markdown",
      "source": [
        "We then train our model to classify correctly the outliers:\n"
      ],
      "metadata": {
        "id": "qyKkdcy3E4OZ"
      }
    },
    {
      "cell_type": "code",
      "source": [
        "clf = LocalOutlierFactor(n_neighbors=20, contamination=0.1)\n",
        "y_pred = clf.fit_predict(X)\n",
        "print(f'The accuracy on finding outliers is {100*(y_pred == ground_truth).sum()/len(X)} %')"
      ],
      "metadata": {
        "colab": {
          "base_uri": "https://localhost:8080/"
        },
        "id": "iGOsk9RaE2sE",
        "outputId": "48a6b0d5-6978-43ed-c4f0-f36e592bfc13"
      },
      "execution_count": null,
      "outputs": [
        {
          "output_type": "stream",
          "name": "stdout",
          "text": [
            "The accuracy on finding outliers is 96.36363636363636 %\n"
          ]
        }
      ]
    },
    {
      "cell_type": "markdown",
      "source": [
        "It's pretty amazing how easy it is! For example, if we get the final datapoint, let's calculate its score:"
      ],
      "metadata": {
        "id": "Ws6TwE5LE8XU"
      }
    },
    {
      "cell_type": "code",
      "source": [
        "print(f'The difference in density score between the last datapoint (which was outlier) and the first datapoint (which was inlier) is {-100*(clf.negative_outlier_factor_[0] - clf.negative_outlier_factor_[-1])/clf.negative_outlier_factor_[0]} %')"
      ],
      "metadata": {
        "colab": {
          "base_uri": "https://localhost:8080/"
        },
        "id": "pmHg2hKEE6lQ",
        "outputId": "9b459aaf-09a3-4000-bec5-8a404a2e9f77"
      },
      "execution_count": null,
      "outputs": [
        {
          "output_type": "stream",
          "name": "stdout",
          "text": [
            "The difference in density score between the last datapoint (which was outlier) and the first datapoint (which was inlier) is 384.58157325255985 %\n"
          ]
        }
      ]
    },
    {
      "cell_type": "markdown",
      "source": [
        "Of course, there are multiple other algorithms for outlier finding. I recommend reading the [scikit-learn docs](https://scikit-learn.org/stable/modules/outlier_detection.html#outlier-detection). But for now, let's switch to another efficient algorithm is good to have in mind: Isolation Forests!"
      ],
      "metadata": {
        "id": "XgvcvhGPFBhk"
      }
    },
    {
      "cell_type": "markdown",
      "source": [
        "### Isolation Forests\n",
        "\n",
        "Now that we know how to find outliers with LOF, let's discover another method that is highly stable in high dimensions: Isolation Forests.\n",
        "\n",
        "The idea is quite complex but the implementation is dead easy!\n",
        "\n",
        "The idea is that if we select a feature by random, and create a decision tree over it then we would split our data. If we do this recursively then we have a decision tree to split our data points; however it is seen that outliers have shorter paths to be split from the rest, since they are spatially separated; ergo we can calculate the average path over all possible decision trees and the ones with lower scores are outliers.\n",
        "\n",
        "In code it looks like this, where 100 is obviously an outlier:"
      ],
      "metadata": {
        "id": "q8rT_I1TFFDB"
      }
    },
    {
      "cell_type": "code",
      "source": [
        "from sklearn.ensemble import IsolationForest\n",
        "X = [[-1.1], [0.3], [0.5], [100]]\n",
        "clf = IsolationForest(random_state=42).fit(X)\n",
        "clf.predict([[0.1], [0], [90]])"
      ],
      "metadata": {
        "colab": {
          "base_uri": "https://localhost:8080/"
        },
        "id": "vzrj_dYAE-Ql",
        "outputId": "f20d6ffc-178e-4b67-85a0-090f0dc6e7ff"
      },
      "execution_count": null,
      "outputs": [
        {
          "output_type": "execute_result",
          "data": {
            "text/plain": [
              "array([ 1,  1, -1])"
            ]
          },
          "metadata": {},
          "execution_count": 90
        }
      ]
    },
    {
      "cell_type": "markdown",
      "source": [
        "We can verify that the forest correctly assigned a -1 to 90, marking it as an outlier. Let's see how it compares with LOF in the example from before! As always, we first import everything and create the dataset:"
      ],
      "metadata": {
        "id": "kZjH68bNFMoA"
      }
    },
    {
      "cell_type": "code",
      "source": [
        "import numpy as np\n",
        "from sklearn.neighbors import LocalOutlierFactor\n",
        "from sklearn.ensemble import IsolationForest\n",
        "np.random.seed(42)\n",
        "\n",
        "X_inliers = 0.3 * np.random.randn(100, 2)\n",
        "X_inliers = np.r_[X_inliers + 2, X_inliers - 2]\n",
        "X_outliers = np.random.uniform(low=-4, high=4, size=(20, 2))\n",
        "X = np.r_[X_inliers, X_outliers]\n",
        "n_outliers = len(X_outliers)\n",
        "ground_truth = np.ones(len(X), dtype=int)\n",
        "ground_truth[-n_outliers:] = -1"
      ],
      "metadata": {
        "id": "X7lbP8AqFK9X"
      },
      "execution_count": null,
      "outputs": []
    },
    {
      "cell_type": "code",
      "source": [
        "clf = IsolationForest(random_state=42).fit(X)\n",
        "y_pred = clf.predict(X)\n",
        "print(f'The accuracy on finding outliers is {100*(y_pred == ground_truth).sum()/len(X)} %')"
      ],
      "metadata": {
        "colab": {
          "base_uri": "https://localhost:8080/"
        },
        "id": "nxA9PBHwFPFY",
        "outputId": "048c6afd-62af-4eb1-84e4-1f09307cd181"
      },
      "execution_count": null,
      "outputs": [
        {
          "output_type": "stream",
          "name": "stdout",
          "text": [
            "The accuracy on finding outliers is 96.36363636363636 %\n"
          ]
        }
      ]
    },
    {
      "cell_type": "markdown",
      "source": [
        "Again we got a remarkably high accuracy! Next, let's compare both methods in a more complex dataset.\n",
        "\n",
        "### Comparing LOF and Isolation Forests\n",
        "\n",
        "First let's import everything:"
      ],
      "metadata": {
        "id": "Ud05YfTlFUdS"
      }
    },
    {
      "cell_type": "code",
      "source": [
        "import numpy as np\n",
        "from sklearn.datasets import make_moons, make_blobs\n",
        "from sklearn.ensemble import IsolationForest\n",
        "from sklearn.neighbors import LocalOutlierFactor\n",
        "np.random.seed(42)\n",
        "rng = np.random.RandomState(42)"
      ],
      "metadata": {
        "id": "WKDXo7XlFRrL"
      },
      "execution_count": null,
      "outputs": []
    },
    {
      "cell_type": "markdown",
      "source": [
        "Now we create the datasets. We will create a unimodal, bimodal, bimodal with different variance, and a moon dataset:\n"
      ],
      "metadata": {
        "id": "BE4eGNnDFaVA"
      }
    },
    {
      "cell_type": "code",
      "source": [
        "n_samples = 300\n",
        "outliers_fraction = 0.15\n",
        "n_outliers = int(outliers_fraction * n_samples)\n",
        "n_inliers = n_samples - n_outliers\n",
        "blobs_params = dict(random_state=0, n_samples=n_inliers, n_features=2)\n",
        "datasets = {'unimodal':\n",
        "    make_blobs(centers=[[0, 0], [0, 0]], cluster_std=0.5,\n",
        "               **blobs_params)[0],\n",
        "    'bimodal': make_blobs(centers=[[2, 2], [-2, -2]], cluster_std=[0.5, 0.5],\n",
        "               **blobs_params)[0],\n",
        "    'bimodal and not equivariant': make_blobs(centers=[[2, 2], [-2, -2]], cluster_std=[1.5, .3],\n",
        "               **blobs_params)[0],\n",
        "    'moon shaped': 4. * (make_moons(n_samples=n_samples, noise=.05, random_state=0)[0] -\n",
        "          np.array([0.5, 0.25]))}\n"
      ],
      "metadata": {
        "id": "qZqnyIqsFYQx"
      },
      "execution_count": null,
      "outputs": []
    },
    {
      "cell_type": "markdown",
      "source": [
        "Now we will compare the efficiency of both algorithms in all settings:\n"
      ],
      "metadata": {
        "id": "eej_WSV6Fevo"
      }
    },
    {
      "cell_type": "code",
      "source": [
        "for name, X in datasets.items():\n",
        "    X = np.concatenate([X, rng.uniform(low=-6, high=6, size=(n_outliers, 2))], axis=0)\n",
        "    ground_truth = np.ones(len(X), dtype=int)\n",
        "    ground_truth[-n_outliers:] = -1\n",
        "    isolation = IsolationForest(contamination=outliers_fraction, random_state=42)\n",
        "    isolation.fit(X)\n",
        "    lof = LocalOutlierFactor(n_neighbors=35, contamination=outliers_fraction)\n",
        "    lof.fit(X)\n",
        "    y_pred_lof = lof.fit_predict(X)\n",
        "    y_pred_isol = isolation.fit(X).predict(X)\n",
        "    print(f'The accuracy on finding outliers with LOF and dataset {name} is {round(100*(y_pred_lof == ground_truth).sum()/len(X),2)} %')\n",
        "    print(f'The accuracy on finding outliers with Isolation Forests and dataset {name} is {round(100*(y_pred_isol == ground_truth).sum()/len(X),2)} %')\n",
        "\n",
        "print('Comparison done!')"
      ],
      "metadata": {
        "colab": {
          "base_uri": "https://localhost:8080/"
        },
        "id": "_AkoBywFFdDg",
        "outputId": "557735b6-46fe-4f4c-b5a7-6bd91107409c"
      },
      "execution_count": null,
      "outputs": [
        {
          "output_type": "stream",
          "name": "stdout",
          "text": [
            "The accuracy on finding outliers with LOF and dataset unimodal is 100.0 %\n",
            "The accuracy on finding outliers with Isolation Forests and dataset unimodal is 100.0 %\n",
            "The accuracy on finding outliers with LOF and dataset bimodal is 99.33 %\n",
            "The accuracy on finding outliers with Isolation Forests and dataset bimodal is 99.33 %\n",
            "The accuracy on finding outliers with LOF and dataset bimodal and not equivariant is 89.33 %\n",
            "The accuracy on finding outliers with Isolation Forests and dataset bimodal and not equivariant is 90.67 %\n",
            "The accuracy on finding outliers with LOF and dataset moon shaped is 85.8 %\n",
            "The accuracy on finding outliers with Isolation Forests and dataset moon shaped is 87.54 %\n",
            "Comparison done!\n"
          ]
        }
      ]
    },
    {
      "cell_type": "markdown",
      "source": [
        "We can verify that Isolation Forests was slightly better in \"weirder data\" and LOF was better in data coming from a known distribution.\n"
      ],
      "metadata": {
        "id": "PHZOwUGwFmhb"
      }
    },
    {
      "cell_type": "markdown",
      "source": [
        "### Novelty Detection"
      ],
      "metadata": {
        "id": "g0AvaWu0FzcO"
      }
    },
    {
      "cell_type": "markdown",
      "source": [
        "As a closing section, let's try to do novelty detection! The harder part in this topic is that there may be clusters of new data that correspond to a novel distribution, but our old algorithms wouldn't detect them.\n",
        "\n",
        "In more formal terms, the idea is to learn a rough, close frontier delimiting the contour of the initial observations distribution plotted in embedding *p*-dimensional space. Then, if further observations are within the frontier-delimited subspace, they are considered as coming from the same population as the initial observations. Otherwise, if they are outside the frontier, we can say that they are abnormal with a given confidence in our assessment.\n",
        "\n",
        "We can use LOF for novelty detection, since we may estimate that a new datapoint is probably anomalous if it is far from all the other clusters. It is not the most famous anomaly detection algorithm, but it is a nice start since we already know how to play with it!\n",
        "\n",
        "First we do our imports:"
      ],
      "metadata": {
        "id": "H4UNblPkF1eN"
      }
    },
    {
      "cell_type": "code",
      "source": [
        "import numpy as np\n",
        "from sklearn.neighbors import LocalOutlierFactor\n",
        "from sklearn import svm\n",
        "np.random.seed(42)"
      ],
      "metadata": {
        "id": "zC_Hm1E8FghK"
      },
      "execution_count": null,
      "outputs": []
    },
    {
      "cell_type": "code",
      "source": [
        "X = 0.3 * np.random.randn(100, 2)\n",
        "X_train = np.r_[X + 2, X - 2]\n",
        "X = 0.3 * np.random.randn(20, 2)\n",
        "X_test = np.r_[X + 2, X - 2]\n",
        "X_novel = np.random.uniform(low=-4, high=4, size=(20, 2))"
      ],
      "metadata": {
        "id": "LQ7p2PlFF3cN"
      },
      "execution_count": null,
      "outputs": []
    },
    {
      "cell_type": "markdown",
      "source": [
        "Now we train our LOF with the training data, and then verify with the test data (not novel) and the novel dataset (novel) and see how it performs:"
      ],
      "metadata": {
        "id": "gv4XVRhPF8D8"
      }
    },
    {
      "cell_type": "code",
      "source": [
        "clf = LocalOutlierFactor(n_neighbors=20, novelty=True, contamination=0.1)\n",
        "clf.fit(X_train)\n",
        "\n",
        "y_pred_test = clf.predict(X_test)\n",
        "y_pred_novel = clf.predict(X_outliers)\n",
        "n_error_test = y_pred_test[y_pred_test == -1].size\n",
        "n_error_novel = y_pred_novel[y_pred_novel == 1].size\n",
        "\n",
        "print(f'Accuracy on non-novel distributions: {round(100*(1- (n_error_test/len(X_test))),2)} ')\n",
        "print(f'Accuracy on novel distributions: {round(100*(1- (n_error_novel/len(X_novel))),2)} ')"
      ],
      "metadata": {
        "colab": {
          "base_uri": "https://localhost:8080/"
        },
        "id": "6amsjPbXF6KR",
        "outputId": "903a21b8-547d-42e6-965f-1841aa5a827a"
      },
      "execution_count": null,
      "outputs": [
        {
          "output_type": "stream",
          "name": "stdout",
          "text": [
            "Accuracy on non-novel distributions: 80.0 \n",
            "Accuracy on novel distributions: 95.0 \n"
          ]
        }
      ]
    },
    {
      "cell_type": "markdown",
      "source": [
        "Not so shabby for a simple outlier detection used as novelty!\n",
        "\n",
        "Let's now learn about another algorithm that was designed for this task: one class SVM with RBF kernels. This is best described in the original paper: Schölkopf, Bernhard, et al., \"Estimating the support of a high-dimensional distribution,\" *Neural Computation* 13.7 (2001): 1443-1471.\n",
        "\n",
        "One class SVM with kernel learns a decision function, like all SVM algorithms do, to maximize the margin of our training data in a robust way. When we mix this with non-linear kernels, we end up with really interesting decision boundaries to determine if new data is novel or not! Here's an illustration:\n",
        "\n",
        "![SVM example](https://raw.githubusercontent.com/axel-sirota/getting-started-unsupervised-learning/master/svm.png)\n",
        "\n",
        "On the same dataset as before, we now run:"
      ],
      "metadata": {
        "id": "AtWnB-_xGG16"
      }
    },
    {
      "cell_type": "code",
      "source": [
        "clf = svm.OneClassSVM(nu=0.1, kernel=\"rbf\", gamma=0.1)\n",
        "clf.fit(X_train)\n",
        "y_pred_train = clf.predict(X_train)\n",
        "y_pred_test = clf.predict(X_test)\n",
        "y_pred_novel = clf.predict(X_novel)\n",
        "n_error_train = y_pred_train[y_pred_train == -1].size\n",
        "n_error_test = y_pred_test[y_pred_test == -1].size\n",
        "n_error_novel = y_pred_novel[y_pred_novel == 1].size\n",
        "\n",
        "print(f'Accuracy on training data: {round(100*(1- (n_error_train/len(X_train))),2)} ')\n",
        "print(f'Accuracy on non-novel distributions: {round(100*(1- (n_error_test/len(X_test))),2)} ')\n",
        "print(f'Accuracy on novel distributions: {round(100*(1- (n_error_novel/len(X_novel))),2)} ')"
      ],
      "metadata": {
        "colab": {
          "base_uri": "https://localhost:8080/"
        },
        "id": "dXwdSkjcF9ze",
        "outputId": "45d0c7a1-8d4a-4d99-bc02-ecf006564cd3"
      },
      "execution_count": null,
      "outputs": [
        {
          "output_type": "stream",
          "name": "stdout",
          "text": [
            "Accuracy on training data: 89.5 \n",
            "Accuracy on non-novel distributions: 82.5 \n",
            "Accuracy on novel distributions: 100.0 \n"
          ]
        }
      ]
    },
    {
      "cell_type": "markdown",
      "source": [
        "As we can check by comparison, SVM with RBF kernel is pretty good at detecting novel data!"
      ],
      "metadata": {
        "id": "EPVgTbcgGPVf"
      }
    },
    {
      "cell_type": "markdown",
      "source": [
        "To recap, we did the following:\n",
        "\n",
        "- Learned about outlier and novelty detection\n",
        "- Performed outlier detection both with LOF as well as Isolation Forests, comparing the optimality of each method in each case\n",
        "- Learned about novelty detection with both LOF and SVM with RBF kernels"
      ],
      "metadata": {
        "id": "H5TrXVsvGRyq"
      }
    },
    {
      "cell_type": "markdown",
      "source": [
        "# Now you do it\n",
        "<img src=\"https://www.dropbox.com/scl/fi/76r2mea69m6mdinnaqweh/hands_on.jpg?rlkey=bchhotvwfjzgb7hc35igxxphs&raw=1\" width=\"100\" height=\"100\" align=\"right\"/>"
      ],
      "metadata": {
        "id": "mjZFi840Go0A"
      }
    },
    {
      "cell_type": "markdown",
      "source": [
        "We will work with the [breast cancer proteomes](https://www.dropbox.com/scl/fi/1lmsdumz7wbpi041o2wq6/77_cancer_proteomes_CPTAC_itraq.csv?rlkey=6xl7ozj88z2iwv607xhxc70kx&dl=0) and [clinical data](https://www.dropbox.com/scl/fi/0w1ir24w99b06azh3uspu/clinical_data_breast_cancer.csv?rlkey=j71xv3qbdickar92pfjff3om2&dl=0)\n",
        "The objective of this exercise is to understand how unsupervised learning can provide insights to later merge in the pipeline before finalizing with supervised techniques to solve a machine learning problem."
      ],
      "metadata": {
        "id": "BNdbGXQ4GquU"
      }
    },
    {
      "cell_type": "code",
      "source": [
        "%%writefile get_data.sh\n",
        "if [ ! -f ./77_cancer_proteomes_CPTAC_itraq.csv ]; then\n",
        "  wget -O ./77_cancer_proteomes_CPTAC_itraq.csv https://www.dropbox.com/scl/fi/1lmsdumz7wbpi041o2wq6/77_cancer_proteomes_CPTAC_itraq.csv?rlkey=6xl7ozj88z2iwv607xhxc70kx&dl=0\n",
        "fi\n",
        "if [ ! -f ./clinical_data_breast_cancer.csv ]; then\n",
        "  wget -O ./clinical_data_breast_cancer.csv https://www.dropbox.com/scl/fi/0w1ir24w99b06azh3uspu/clinical_data_breast_cancer.csv?rlkey=j71xv3qbdickar92pfjff3om2&dl=0\n",
        "fi"
      ],
      "metadata": {
        "colab": {
          "base_uri": "https://localhost:8080/"
        },
        "id": "-9Q9T9p_IIB4",
        "outputId": "d2209dac-46e9-449a-e199-c726e9118927"
      },
      "execution_count": null,
      "outputs": [
        {
          "output_type": "stream",
          "name": "stdout",
          "text": [
            "Overwriting get_data.sh\n"
          ]
        }
      ]
    },
    {
      "cell_type": "code",
      "source": [
        "!bash get_data.sh"
      ],
      "metadata": {
        "id": "mcdJvCyXIcS2"
      },
      "execution_count": null,
      "outputs": []
    },
    {
      "cell_type": "code",
      "source": [
        "import numpy as np\n",
        "import matplotlib.pyplot as plt\n",
        "import pandas as pd\n",
        "from scipy.cluster.hierarchy import ward, dendrogram\n",
        "from sklearn.ensemble import IsolationForest\n",
        "import sklearn\n",
        "from sklearn.cluster import AgglomerativeClustering\n",
        "from sklearn.linear_model import LogisticRegression\n",
        "from sklearn import decomposition\n",
        "import re\n",
        "np.random.seed(42)\n",
        "\n",
        "\n",
        "split_name=re.compile('[.-]')\n",
        "\n",
        "def rename_patients(name):\n",
        "    components=split_name.split(name)\n",
        "    return '-'.join(('TCGA',components[0],components[1]))\n",
        "\n",
        "protein_activity=pd.read_csv(\"./77_cancer_proteomes_CPTAC_itraq.csv\")\n",
        "protein_activity.set_index(['RefSeq_accession_number','gene_symbol','gene_name'],inplace=True)\n",
        "protein_activity.fillna(protein_activity.median(),inplace=True)\n",
        "protein_activity.rename(columns=rename_patients,inplace=True)\n",
        "clinical_data=pd.read_csv(\"./clinical_data_breast_cancer.csv\").set_index('Complete TCGA ID')"
      ],
      "metadata": {
        "id": "V63EAvN-GMsm"
      },
      "execution_count": null,
      "outputs": []
    },
    {
      "cell_type": "code",
      "source": [],
      "metadata": {
        "id": "c4tkTa0mH870"
      },
      "execution_count": null,
      "outputs": []
    }
  ]
}