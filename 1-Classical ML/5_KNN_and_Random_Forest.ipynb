{
  "cells": [
    {
      "cell_type": "markdown",
      "metadata": {
        "id": "view-in-github",
        "colab_type": "text"
      },
      "source": [
        "<a href=\"https://colab.research.google.com/github/axel-sirota/ml_ad_ai_course/blob/main/Classical%20ML/5_KNN_and_Random_Forest.ipynb\" target=\"_parent\"><img src=\"https://colab.research.google.com/assets/colab-badge.svg\" alt=\"Open In Colab\"/></a>"
      ]
    },
    {
      "cell_type": "markdown",
      "metadata": {
        "id": "w9d1X5mOKxe4"
      },
      "source": [
        "#  K-Nearest Neighbors and Random Forest\n",
        "\n",
        "© Data Trainers LLC. GPL v 3.0.\n",
        "\n",
        "Author: Axel Sirota\n",
        "\n",
        "<img src=\"https://www.dropbox.com/scl/fi/esem47f0n5rc37bxrrogw/knn.png?rlkey=c30sk3cn5d7tw65xl2qmha6ag&raw=1\"  align=\"center\"/>"
      ]
    },
    {
      "cell_type": "markdown",
      "metadata": {
        "id": "dko2Q9TiKxe4"
      },
      "source": [
        "<a id=\"learning-objectives\"></a>\n",
        "## Learning Objectives\n",
        "\n",
        "1. Utilize the KNN model on the iris data set.\n",
        "2. Implement scikit-learn's KNN model.\n",
        "3. Assess the fit of a KNN Model using scikit-learn."
      ]
    },
    {
      "cell_type": "markdown",
      "metadata": {
        "id": "QivUTKWcKxe5"
      },
      "source": [
        "In this lesson, we will get an intuitive and practical feel for the **k-Nearest Neighbors** model. kNN is a **non-parametric model**. So, the model is not represented as an equation with parameters (e.g. the $\\beta$ values in linear regression).\n",
        "\n",
        "First, we will make a model by hand to classify iris flower data. Next, we will automatedly make a model using kNN.\n",
        "\n",
        "> You may have heard of the clustering algorithm **k-Means Clustering**. These techniques have nothing in common, aside from both having a parameter k!"
      ]
    },
    {
      "cell_type": "markdown",
      "metadata": {
        "id": "qkkhlEEZKxe6"
      },
      "source": [
        "<img src=\"https://www.dropbox.com/scl/fi/tkh2nmcaitcott0h41024/iris.jpeg?rlkey=623t4kmn606z74fwtqitlzbg6&raw=1\"  align=\"center\"/>"
      ]
    },
    {
      "cell_type": "markdown",
      "metadata": {
        "id": "2MyEAVnnKxe6"
      },
      "source": [
        "<a id=\"overview-of-the-iris-dataset\"></a>\n",
        "## Loading the Iris Data Set\n",
        "---\n",
        "\n",
        "#### Read the iris data into a pandas DataFrame, including column names."
      ]
    },
    {
      "cell_type": "code",
      "source": [
        "%%writefile get_data.sh\n",
        "mkdir -p data\n",
        "if [ ! -f data/cell_phone_churn.csv ]; then\n",
        "  wget -O data/cell_phone_churn.csv https://www.dropbox.com/scl/fi/qutq3sa7dge9vx133to6o/cell_phone_churn.csv?rlkey=1jpwo0ork58254lzxxy0qz4kf&dl=0\n",
        "fi\n",
        "if [ ! -f data/churn_missing.csv ]; then\n",
        "  wget -O data/churn_missing.csv https://www.dropbox.com/scl/fi/rab18zeo6bq58fz1tadwc/churn_missing.csv?rlkey=32tcp05gaj8rgnpc76vh2dbca&dl=0\n",
        "fi\n",
        "if [ ! -f data/iris.data ]; then\n",
        "  wget -O data/iris.data https://www.dropbox.com/scl/fi/0vpbcxsiesofpknnkz1mo/iris.data?rlkey=8lz6biaoccef8ggvpx4kebrbm&dl=0\n",
        "fi\n",
        "if [ ! -f data/NBA_players_2015.csv ]; then\n",
        "  wget -O data/NBA_players_2015.csv https://www.dropbox.com/scl/fi/0jgo8u5lbphvwwl2btq1w/NBA_players_2015.csv?rlkey=q86m5lp3ycndh5jbegvjewwzu&dl=0\n",
        "fi\n",
        "if [ ! -f data/NHL_Data_GA.csv ]; then\n",
        "  wget -O data/NHL_Data_GA.csv https://www.dropbox.com/scl/fi/lf41hb2tfe212dfqof9w8/NHL_Data_GA.csv?rlkey=jzgi8133t53wk6ybmjay1duig&dl=0\n",
        "fi\n",
        "\n"
      ],
      "metadata": {
        "id": "i3awsjHdLCTS"
      },
      "execution_count": null,
      "outputs": []
    },
    {
      "cell_type": "code",
      "source": [
        "!bash get_data.sh"
      ],
      "metadata": {
        "id": "LLcfGYUVLC6m"
      },
      "execution_count": null,
      "outputs": []
    },
    {
      "cell_type": "code",
      "execution_count": null,
      "metadata": {
        "id": "Kdu6vYWHKxe7"
      },
      "outputs": [],
      "source": [
        "# Read the iris data into a DataFrame.\n",
        "import pandas as pd\n",
        "import numpy as np\n",
        "import matplotlib.pyplot as plt\n",
        "import warnings\n",
        "warnings.filterwarnings('ignore')\n",
        "\n",
        "# Display plots in-notebook\n",
        "%matplotlib inline\n",
        "\n",
        "# Increase default figure and font sizes for easier viewing.\n",
        "plt.rcParams['figure.figsize'] = (8, 6)\n",
        "plt.rcParams['font.size'] = 14\n",
        "\n",
        "data = 'data/iris.data'\n",
        "iris = pd.read_csv(data)"
      ]
    },
    {
      "cell_type": "code",
      "execution_count": null,
      "metadata": {
        "id": "8PHLACRiKxe7"
      },
      "outputs": [],
      "source": [
        "iris.head()"
      ]
    },
    {
      "cell_type": "code",
      "execution_count": null,
      "metadata": {
        "id": "LLkt5zxQKxe8"
      },
      "outputs": [],
      "source": [
        "iris.species.unique()"
      ]
    },
    {
      "cell_type": "code",
      "execution_count": null,
      "metadata": {
        "id": "i17eLtJuKxe8"
      },
      "outputs": [],
      "source": [
        "iris[iris['species']=='Iris-versicolor']"
      ]
    },
    {
      "cell_type": "markdown",
      "metadata": {
        "id": "AE_73vGxKxe9"
      },
      "source": [
        "<a id=\"terminology\"></a>\n",
        "### Terminology\n",
        "\n",
        "- **150 observations** (n=150): Each observation is one iris flower.\n",
        "- **Four features** (p=4): sepal length, sepal width, petal length, and petal width.\n",
        "- **Response**: One of three possible iris species (setosa, versicolor, or virginica)\n",
        "- **Classification problem** because response is categorical."
      ]
    },
    {
      "cell_type": "code",
      "execution_count": null,
      "metadata": {
        "id": "_c2wYfPPKxe9"
      },
      "outputs": [],
      "source": [
        "iris.head(2)"
      ]
    },
    {
      "cell_type": "markdown",
      "metadata": {
        "collapsed": true,
        "id": "jhdnmuQ0Kxe-"
      },
      "source": [
        "<a id=\"exercise-human-learning-with-iris-data\"></a>\n",
        "## Guided Practice: \"Human Learning\" With Iris Data\n",
        "\n",
        "**Question:** Can we predict the species of an iris using petal and sepal measurements? Together, we will:\n",
        "\n",
        "1. Read the iris data into a Pandas DataFrame, including column names.\n",
        "2. Gather some basic information about the data.\n",
        "3. Use sorting, split-apply-combine, and/or visualization to look for differences between species.\n",
        "4. Write down a set of rules that could be used to predict species based on iris measurements.\n",
        "\n",
        "**BONUS:** Define a function that accepts a row of data and returns a predicted species. Then, use that function to make predictions for all existing rows of data and check the accuracy of your predictions."
      ]
    },
    {
      "cell_type": "markdown",
      "metadata": {
        "collapsed": true,
        "id": "vciY_2bxKxe-"
      },
      "source": [
        "#### Gather some basic information about the data."
      ]
    },
    {
      "cell_type": "code",
      "execution_count": null,
      "metadata": {
        "id": "5h4Gb5g5Kxe-"
      },
      "outputs": [],
      "source": [
        "# 150 observations, 5 columns (the 4 features & response)\n",
        "iris.shape"
      ]
    },
    {
      "cell_type": "code",
      "execution_count": null,
      "metadata": {
        "id": "6znLzNMgKxe_"
      },
      "outputs": [],
      "source": [
        "iris.dtypes"
      ]
    },
    {
      "cell_type": "code",
      "execution_count": null,
      "metadata": {
        "id": "8DsV3NhzKxe_"
      },
      "outputs": [],
      "source": [
        "# Verify the basic stats look appropriate\n",
        "iris.describe()"
      ]
    },
    {
      "cell_type": "code",
      "execution_count": null,
      "metadata": {
        "id": "qUfXbsXgKxfA"
      },
      "outputs": [],
      "source": [
        "# Test for imbalanced classes\n",
        "iris.species.value_counts()"
      ]
    },
    {
      "cell_type": "code",
      "execution_count": null,
      "metadata": {
        "id": "QwpvFspeKxfA"
      },
      "outputs": [],
      "source": [
        "# Verify we are not missing any data\n",
        "iris.isnull().sum()"
      ]
    },
    {
      "cell_type": "markdown",
      "metadata": {
        "collapsed": true,
        "id": "bdtSH4H6KxfA"
      },
      "source": [
        "#### Use sorting, split-apply-combine, and/or visualization to look for differences between species."
      ]
    },
    {
      "cell_type": "code",
      "execution_count": null,
      "metadata": {
        "id": "4OGmjQF_KxfB"
      },
      "outputs": [],
      "source": [
        "iris.head()"
      ]
    },
    {
      "cell_type": "code",
      "execution_count": null,
      "metadata": {
        "id": "UF3SRzi-KxfB"
      },
      "outputs": [],
      "source": [
        "# Sort the DataFrame by petal_width.\n",
        "iris.sort_values(by='petal_width', ascending=True, inplace=True)\n",
        "iris.head()"
      ]
    },
    {
      "cell_type": "code",
      "execution_count": null,
      "metadata": {
        "id": "ETG8EcLXKxfB"
      },
      "outputs": [],
      "source": [
        "# Sort the DataFrame by petal_width and display the NumPy array.\n",
        "iris.sort_values(by='petal_width', ascending=True).values[0:5]"
      ]
    },
    {
      "cell_type": "markdown",
      "metadata": {
        "collapsed": true,
        "id": "RgsaOnRaKxfB"
      },
      "source": [
        "#### Split-apply-combine: Explore the data while using a `groupby` on `'species'`."
      ]
    },
    {
      "cell_type": "code",
      "execution_count": null,
      "metadata": {
        "id": "oHXVUTOfKxfC"
      },
      "outputs": [],
      "source": [
        "# Mean of sepal_length, grouped by species.\n",
        "iris.groupby(by='species', axis=0).sepal_length.mean()"
      ]
    },
    {
      "cell_type": "code",
      "execution_count": null,
      "metadata": {
        "id": "mCi9Nv-xKxfC"
      },
      "outputs": [],
      "source": [
        "# Mean of all numeric columns, grouped by species.\n",
        "iris.groupby('species').mean()"
      ]
    },
    {
      "cell_type": "code",
      "execution_count": null,
      "metadata": {
        "id": "7HATTYVwKxfC"
      },
      "outputs": [],
      "source": [
        "# describe() of all numeric columns, grouped by species.\n",
        "iris.groupby('species').describe()"
      ]
    },
    {
      "cell_type": "code",
      "execution_count": null,
      "metadata": {
        "id": "FY3fx8IeKxfC"
      },
      "outputs": [],
      "source": [
        "# Box plot of petal_width, grouped by species.\n",
        "iris.boxplot(column='petal_width', by='species');"
      ]
    },
    {
      "cell_type": "code",
      "execution_count": null,
      "metadata": {
        "id": "TzgzsR6tKxfD"
      },
      "outputs": [],
      "source": [
        "# Box plot of all numeric columns, grouped by species.\n",
        "iris.boxplot(by='species', rot=45);"
      ]
    },
    {
      "cell_type": "code",
      "execution_count": null,
      "metadata": {
        "id": "9kq03PsUKxfD"
      },
      "outputs": [],
      "source": [
        "# Map species to a numeric value so that plots can be colored by species.\n",
        "iris['species_num'] = iris.species.map({'Iris-setosa':0, 'Iris-versicolor':1, 'Iris-virginica':2})\n",
        "\n",
        "# Alternative method:\n",
        "iris['species_num'] = iris.species.factorize()[0]"
      ]
    },
    {
      "cell_type": "code",
      "execution_count": null,
      "metadata": {
        "id": "1QW1VFirKxfD"
      },
      "outputs": [],
      "source": [
        "iris"
      ]
    },
    {
      "cell_type": "code",
      "execution_count": null,
      "metadata": {
        "id": "EXpsQnlFKxfD"
      },
      "outputs": [],
      "source": [
        "# Scatterplot of petal_length vs. petal_width, colored by species\n",
        "iris.plot(kind='scatter', x='petal_length', y='petal_width', c='species_num', colormap='brg');\n"
      ]
    },
    {
      "cell_type": "code",
      "execution_count": null,
      "metadata": {
        "id": "J2NTdNGdKxfD"
      },
      "outputs": [],
      "source": [
        "# Scatter matrix of all features, colored by species.\n",
        "pd.plotting.scatter_matrix(iris.drop('species_num', axis=1), c=iris.species_num, figsize=(12, 10));"
      ]
    },
    {
      "cell_type": "markdown",
      "metadata": {
        "collapsed": true,
        "id": "hUbHuNU2KxfE"
      },
      "source": [
        "#### Class Exercise: Using the graphs above, can you write down a set of rules that can accurately predict species based on iris measurements?"
      ]
    },
    {
      "cell_type": "code",
      "execution_count": null,
      "metadata": {
        "id": "Sckcd1_2KxfE"
      },
      "outputs": [],
      "source": [
        "# Feel free to do more analysis if needed to make good rules!"
      ]
    },
    {
      "cell_type": "code",
      "execution_count": null,
      "metadata": {
        "id": "3mHIDpX8KxfE"
      },
      "outputs": [],
      "source": [
        "iris.head()"
      ]
    },
    {
      "cell_type": "markdown",
      "metadata": {
        "collapsed": true,
        "id": "MKPYifsSKxfE"
      },
      "source": [
        "#### Bonus: Try to implement these rules to make your own classifier!\n",
        "\n",
        "Write a function that accepts a row of data and returns a predicted species. Then, use that function to make predictions for all existing rows of data and check the accuracy of your predictions."
      ]
    },
    {
      "cell_type": "code",
      "execution_count": null,
      "metadata": {
        "id": "eFx8B5O7KxfF"
      },
      "outputs": [],
      "source": [
        "def predict_flower(df):\n",
        "    pass\n",
        "\n",
        "\n",
        "predict_flower(iris)"
      ]
    },
    {
      "cell_type": "code",
      "execution_count": null,
      "metadata": {
        "id": "mhgM7YS9KxfF"
      },
      "outputs": [],
      "source": [
        "iris.head()"
      ]
    },
    {
      "cell_type": "code",
      "execution_count": null,
      "metadata": {
        "id": "CMgLI0XcKxfF"
      },
      "outputs": [],
      "source": [
        "# Let's see what percentage your manual classifier gets correct!\n",
        "# 0.3333 means 1/3 are classified correctly\n",
        "\n",
        "sum(iris.species == iris.prediction) / 150."
      ]
    },
    {
      "cell_type": "markdown",
      "metadata": {
        "id": "4DcAzOUEKxfG"
      },
      "source": [
        "<a id=\"human-learning-on-the-iris-dataset\"></a>\n",
        "## Human Learning on the Iris Data Set\n",
        "---\n",
        "\n",
        "How did we (as humans) predict the species of an iris?\n",
        "\n",
        "1. We observed that the different species had (somewhat) dissimilar measurements.\n",
        "2. We focused on features that seemed to correlate with the response.\n",
        "3. We created a set of rules (using those features) to predict the species of an unknown iris.\n",
        "\n",
        "We assumed that if an **unknown iris** had measurements similar to **previous irises**, then its species was most likely the same as those previous irises."
      ]
    },
    {
      "cell_type": "code",
      "execution_count": null,
      "metadata": {
        "id": "U7ysBWfoKxfG"
      },
      "outputs": [],
      "source": [
        "# Allow plots to appear in the notebook.\n",
        "%matplotlib inline\n",
        "import matplotlib.pyplot as plt\n",
        "\n",
        "# Increase default figure and font sizes for easier viewing.\n",
        "plt.rcParams['figure.figsize'] = (10, 8)\n",
        "plt.rcParams['font.size'] = 14\n",
        "\n",
        "# Create a custom color map.\n",
        "from matplotlib.colors import ListedColormap\n",
        "cmap_bold = ListedColormap(['#FF0000', '#00FF00', '#0000FF'])"
      ]
    },
    {
      "cell_type": "code",
      "execution_count": null,
      "metadata": {
        "id": "nwYXE0CFKxfG"
      },
      "outputs": [],
      "source": [
        "# Map each iris species to a number.\n",
        "iris['species_num'] = iris.species.map({'Iris-setosa':0, 'Iris-versicolor':1, 'Iris-virginica':2})"
      ]
    },
    {
      "cell_type": "code",
      "execution_count": null,
      "metadata": {
        "id": "sh-um0IGKxfG"
      },
      "outputs": [],
      "source": [
        "# Box plot of all numeric columns, grouped by species.\n",
        "iris.drop('species_num', axis=1).boxplot(by='species', rot=45);"
      ]
    },
    {
      "cell_type": "code",
      "execution_count": null,
      "metadata": {
        "id": "-gE9icQBKxfH"
      },
      "outputs": [],
      "source": [
        "# Create a scatterplot of PETAL LENGTH versus PETAL WIDTH and color by SPECIES.\n",
        "iris.plot(kind='scatter', x='petal_length', y='petal_width', c='species_num', colormap=cmap_bold);"
      ]
    },
    {
      "cell_type": "code",
      "execution_count": null,
      "metadata": {
        "id": "H9xhD9wUKxfH"
      },
      "outputs": [],
      "source": [
        "iris['pred_num'] = iris.prediction.map({'Iris-setosa':0, 'Iris-versicolor':1, 'Iris-virginica':2})\n",
        "\n",
        "\n",
        "\n",
        "# Create a scatter plot of PETAL LENGTH versus PETAL WIDTH and color by PREDICTION.\n",
        "iris.plot(kind='scatter', x='petal_length', y='petal_width', c='pred_num', colormap=cmap_bold);"
      ]
    },
    {
      "cell_type": "markdown",
      "metadata": {
        "id": "pBANMeUVKxfH"
      },
      "source": [
        "---"
      ]
    },
    {
      "cell_type": "markdown",
      "metadata": {
        "id": "idAubZMHKxfH"
      },
      "source": [
        "<a id=\"k-nearest-neighbors-knn-classification\"></a>\n",
        "## K-Nearest Neighbors (KNN) Classification\n",
        "---\n",
        "\n",
        "K-nearest neighbors classification is (as its name implies) a classification model that uses the \"K\" most similar observations in order to make a prediction.\n",
        "\n",
        "KNN is a supervised learning method; therefore, the training data must have known target values.\n",
        "\n",
        "The process of of prediction using KNN is fairly straightforward:\n",
        "\n",
        "1. Pick a value for K.\n",
        "2. Search for the K observations in the data that are \"nearest\" to the measurements of the unknown iris.\n",
        "    - Euclidian distance is often used as the distance metric, but other metrics are allowed.\n",
        "3. Use the most popular response value from the K \"nearest neighbors\" as the predicted response value for the unknown iris."
      ]
    },
    {
      "cell_type": "markdown",
      "metadata": {
        "id": "sq2WjsnpKxfH"
      },
      "source": [
        "The visualizations below show how a given area can change in its prediction as K changes.\n",
        "\n",
        "- Colored points represent true values and colored areas represent a **prediction space**. (This is called a Voronoi Diagram.)\n",
        "- Each prediction space is wgere the majority of the \"K\" nearest points are the color of the space.\n",
        "- To predict the class of a new point, we guess the class corresponding to the color of the space it lies in."
      ]
    },
    {
      "cell_type": "markdown",
      "metadata": {
        "id": "VP-4iwvWKxfI"
      },
      "source": [
        "<a id=\"knn-classification-map-for-iris-k\"></a>\n",
        "### KNN Classification Map for Iris (K=1)\n",
        "\n",
        "![1NN classification map](https://www.dropbox.com/scl/fi/naecsufoh5sqnow7lqhgg/iris_01nn_map.png?rlkey=zn4v66l3rnzfhlgzzd48u85sc&raw=1)"
      ]
    },
    {
      "cell_type": "markdown",
      "metadata": {
        "id": "Ri7SIIEhKxfI"
      },
      "source": [
        "### KNN Classification Map for Iris (K=5)\n",
        "\n",
        "![5NN classification map](https://www.dropbox.com/scl/fi/65fyukmy6l2hj23yaosr2/iris_05nn_map.png?rlkey=hdfwixb6ox7kx9v1vku16jk9d&raw=1)"
      ]
    },
    {
      "cell_type": "markdown",
      "metadata": {
        "id": "uBUxQ0-cKxfI"
      },
      "source": [
        "### KNN Classification Map for Iris (K=15)\n",
        "\n",
        "![15NN classification map](https://www.dropbox.com/scl/fi/33zv70b54knrepc0avexh/iris_15nn_map.png?rlkey=n0wb383pg2md4hc7gk1n8j26d&raw=1)"
      ]
    },
    {
      "cell_type": "markdown",
      "metadata": {
        "id": "u-M_jFFEKxfI"
      },
      "source": [
        "<a id=\"knn-classification-map-for-iris-k\"></a>\n",
        "### KNN Classification Map for Iris (K=50)\n",
        "\n",
        "![50NN classification map](https://www.dropbox.com/scl/fi/wfaobmeanl0xzt7hq4en2/iris_50nn_map.png?rlkey=1w1dnj6n3i1f5o5r6zv79g1ws&raw=1)"
      ]
    },
    {
      "cell_type": "markdown",
      "metadata": {
        "id": "Ec0HxHf2KxfI"
      },
      "source": [
        "We can see that, as K increases, the classification spaces' borders become more distinct. However, you can also see that the spaces are not perfectly pure when it comes to the known elements within them.\n",
        "\n",
        "**How are outliers affected by K?** As K increases, outliers are \"smoothed out\". Look at the above three plots and notice how outliers strongly affect the prediction space when K=1. When K=50, outliers no longer affect region boundaries. This is a classic bias-variance tradeoff -- with increasing K, the bias decreases but the variance increases."
      ]
    },
    {
      "cell_type": "markdown",
      "metadata": {
        "id": "MBf3JkNAKxfJ"
      },
      "source": [
        "**Question:** What's the \"best\" value for K in this case?\n",
        "\n",
        "**Answer:** ..."
      ]
    },
    {
      "cell_type": "markdown",
      "metadata": {
        "id": "Wn937o7mKxfJ"
      },
      "source": [
        "## Lets build a Knn Model"
      ]
    },
    {
      "cell_type": "code",
      "execution_count": null,
      "metadata": {
        "id": "hNRJ1Ea0KxfJ"
      },
      "outputs": [],
      "source": [
        "iris.head()"
      ]
    },
    {
      "cell_type": "code",
      "execution_count": null,
      "metadata": {
        "id": "aKEPfkqcKxfJ"
      },
      "outputs": [],
      "source": [
        "iris.columns"
      ]
    },
    {
      "cell_type": "code",
      "execution_count": null,
      "metadata": {
        "id": "Q0bpTFSxKxfK"
      },
      "outputs": [],
      "source": [
        "from sklearn.neighbors import KNeighborsClassifier\n",
        "from sklearn.model_selection import train_test_split\n",
        "from sklearn import metrics\n",
        "\n",
        "feature_cols = ['sepal_length', 'sepal_width', 'petal_length', 'petal_width']\n",
        "X = iris[feature_cols]\n",
        "y = iris.species_num\n",
        "\n",
        "X_train, X_test, y_train, y_test = train_test_split(X, y, test_size=0.25, random_state=99)\n",
        "\n",
        "\n",
        "knn = KNeighborsClassifier(n_neighbors=11)\n",
        "knn.fit(X_train, y_train)\n",
        "\n",
        "y_pred_class = knn.predict(X_test)\n",
        "print((metrics.accuracy_score(y_test, y_pred_class)))"
      ]
    },
    {
      "cell_type": "markdown",
      "metadata": {
        "id": "RfcAi86sKxfK"
      },
      "source": [
        "## Guided Intro to KNN: NBA Position KNN Classifier\n",
        "\n",
        "For the rest of the lesson, we will be using a dataset containing the 2015 season statistics for ~500 NBA players. This dataset leads to a nice choice of K, as we'll see below. The columns we'll use for features (and the target 'pos') are:\n",
        "\n",
        "\n",
        "| Column | Meaning |\n",
        "| ---    | ---     |\n",
        "| pos | C: Center. F: Front. G: Guard |\n",
        "| ast | Assists per game |\n",
        "| stl | Steals per game |\n",
        "| blk | Blocks per game |\n",
        "| tov | Turnovers per game |\n",
        "| pf  | Personal fouls per game |\n",
        "\n",
        "For information about the other columns, see [this glossary](https://www.basketball-reference.com/about/glossary.html).\n",
        "\n",
        "<img src=\"https://www.dropbox.com/scl/fi/igomtyzq4ubk5y9otx1fy/basketball.png?rlkey=3q03bh6jhx7yg36s4mtnzeusf&raw=1\"  align=\"center\"/>"
      ]
    },
    {
      "cell_type": "code",
      "execution_count": null,
      "metadata": {
        "id": "Awl-hM0fKxfK"
      },
      "outputs": [],
      "source": [
        "# Read the NBA data into a DataFrame.\n",
        "import pandas as pd\n",
        "\n",
        "path = 'data/NBA_players_2015.csv'\n",
        "nba = pd.read_csv(path, index_col=0)"
      ]
    },
    {
      "cell_type": "code",
      "execution_count": null,
      "metadata": {
        "scrolled": true,
        "id": "lZigDoM_KxfK"
      },
      "outputs": [],
      "source": [
        "nba.head()"
      ]
    },
    {
      "cell_type": "code",
      "execution_count": null,
      "metadata": {
        "id": "-n-ZqX_xKxfL"
      },
      "outputs": [],
      "source": [
        "nba.columns"
      ]
    },
    {
      "cell_type": "code",
      "execution_count": null,
      "metadata": {
        "id": "9GuU-CZkKxfL"
      },
      "outputs": [],
      "source": [
        "nba.pos.factorize()"
      ]
    },
    {
      "cell_type": "code",
      "execution_count": null,
      "metadata": {
        "id": "uYs6MhxzKxfL"
      },
      "outputs": [],
      "source": [
        "# Map positions to numbers\n",
        "nba['pos_num'] = nba.pos.factorize()[0]"
      ]
    },
    {
      "cell_type": "code",
      "execution_count": null,
      "metadata": {
        "id": "lknXhcSdKxfM"
      },
      "outputs": [],
      "source": [
        "nba.head()"
      ]
    },
    {
      "cell_type": "code",
      "execution_count": null,
      "metadata": {
        "id": "gMbQI6PKKxfM"
      },
      "outputs": [],
      "source": [
        "# Create feature matrix (X).\n",
        "feature_cols = ['ast', 'stl', 'blk', 'tov', 'pf']\n",
        "X = nba[feature_cols]"
      ]
    },
    {
      "cell_type": "code",
      "execution_count": null,
      "metadata": {
        "id": "LleNmlX-KxfM"
      },
      "outputs": [],
      "source": [
        "X.head()"
      ]
    },
    {
      "cell_type": "code",
      "execution_count": null,
      "metadata": {
        "id": "HgRT134SKxfM"
      },
      "outputs": [],
      "source": [
        "# Create response vector (y).\n",
        "y = nba.pos_num\n",
        "y"
      ]
    },
    {
      "cell_type": "markdown",
      "metadata": {
        "collapsed": true,
        "id": "hPbhJOi1KxfM"
      },
      "source": [
        "<a id=\"using-the-traintest-split-procedure-k\"></a>\n",
        "### Using the Train/Test Split Procedure (K=1)"
      ]
    },
    {
      "cell_type": "code",
      "execution_count": null,
      "metadata": {
        "id": "9qrzXPiiKxfM"
      },
      "outputs": [],
      "source": [
        "from sklearn.neighbors import KNeighborsClassifier\n",
        "from sklearn.model_selection import train_test_split\n",
        "from sklearn import metrics"
      ]
    },
    {
      "cell_type": "markdown",
      "metadata": {
        "id": "UYytu_vtKxfN"
      },
      "source": [
        "#### Step 1: Split X and y into training and testing sets(test_size = 0.25) (using `random_state = 99` for reproducibility)."
      ]
    },
    {
      "cell_type": "code",
      "execution_count": null,
      "metadata": {
        "id": "7f20VwWOKxfN"
      },
      "outputs": [],
      "source": [
        "X_train, X_test, y_train, y_test = train_test_split(X, y, test_size=0.25, random_state=99)"
      ]
    },
    {
      "cell_type": "code",
      "execution_count": null,
      "metadata": {
        "id": "5qBMPyPXKxfN"
      },
      "outputs": [],
      "source": [
        "y.shape"
      ]
    },
    {
      "cell_type": "code",
      "execution_count": null,
      "metadata": {
        "id": "jtUboMIkKxfN"
      },
      "outputs": [],
      "source": [
        "y_train.shape"
      ]
    },
    {
      "cell_type": "code",
      "execution_count": null,
      "metadata": {
        "id": "Jh4g893yKxfO"
      },
      "outputs": [],
      "source": [
        "y_test.shape"
      ]
    },
    {
      "cell_type": "markdown",
      "metadata": {
        "id": "Xt0H6Yo6KxfO"
      },
      "source": [
        "#### Step 2: Train the model on the training set (using K=1)."
      ]
    },
    {
      "cell_type": "code",
      "execution_count": null,
      "metadata": {
        "id": "k93jX0BAKxfO"
      },
      "outputs": [],
      "source": [
        "knn = KNeighborsClassifier(n_neighbors=1)\n",
        "knn.fit(X_train, y_train)"
      ]
    },
    {
      "cell_type": "markdown",
      "metadata": {
        "id": "bgNxJZWyKxfP"
      },
      "source": [
        "#### Step 3: Test the model on the testing set and check the accuracy."
      ]
    },
    {
      "cell_type": "code",
      "execution_count": null,
      "metadata": {
        "id": "g5gdPYDXKxfP"
      },
      "outputs": [],
      "source": [
        "y_pred_class = knn.predict(X_test)\n",
        "accuracy = metrics.accuracy_score(y_test, y_pred_class)\n",
        "print(accuracy)"
      ]
    },
    {
      "cell_type": "markdown",
      "metadata": {
        "id": "SEL865tHKxfP"
      },
      "source": [
        "**Question:** If we had trained on the entire dataset and tested on the entire dataset, using 1-KNN what accuracy would we likely get? If the resulting accuracy is not this number, what must some data points look like?\n",
        "\n",
        "**Answer:** ..."
      ]
    },
    {
      "cell_type": "markdown",
      "metadata": {
        "collapsed": true,
        "id": "qNnJi-p-KxfP"
      },
      "source": [
        "#### Repeating for K=50."
      ]
    },
    {
      "cell_type": "code",
      "execution_count": null,
      "metadata": {
        "id": "7jiYcSVUKxfQ"
      },
      "outputs": [],
      "source": [
        "knn = None\n",
        "accuracy_50 = None\n",
        "print(accuracy_50)"
      ]
    },
    {
      "cell_type": "markdown",
      "metadata": {
        "collapsed": true,
        "id": "qr4kmfaaKxfQ"
      },
      "source": [
        "#### Comparing Testing Accuracy With Null Accuracy"
      ]
    },
    {
      "cell_type": "markdown",
      "metadata": {
        "collapsed": true,
        "id": "cV9U2T_KKxfQ"
      },
      "source": [
        "Null accuracy is the accuracy that can be achieved by **always predicting the most frequent class**. For example, if most players are Centers, we would always predict Center.\n",
        "\n",
        "The null accuracy is a benchmark against which you may want to measure every classification model."
      ]
    },
    {
      "cell_type": "markdown",
      "metadata": {
        "id": "uVdA89sDKxfQ"
      },
      "source": [
        "#### Examine the class distribution from the training set.\n",
        "\n",
        "Remember that we are comparing KNN to this simpler model. So, we must find the most frequent class **of the training set**."
      ]
    },
    {
      "cell_type": "code",
      "execution_count": null,
      "metadata": {
        "id": "eekXXKVxKxfQ"
      },
      "outputs": [],
      "source": [
        "most_freq_class = y_train.value_counts().index[0]\n",
        "\n",
        "print(y_train.value_counts())\n",
        "most_freq_class"
      ]
    },
    {
      "cell_type": "markdown",
      "metadata": {
        "id": "sXRmxStuKxfR"
      },
      "source": [
        "#### Compute null accuracy."
      ]
    },
    {
      "cell_type": "code",
      "execution_count": null,
      "metadata": {
        "id": "qbTl8vuLKxfR"
      },
      "outputs": [],
      "source": [
        "y_test.value_counts()[most_freq_class] / len(y_test)"
      ]
    },
    {
      "cell_type": "markdown",
      "metadata": {
        "id": "ttwk7xcsKxfR"
      },
      "source": [
        "<a id=\"tuning-a-knn-model\"></a>\n",
        "## Tuning a KNN Model\n",
        "---"
      ]
    },
    {
      "cell_type": "code",
      "execution_count": null,
      "metadata": {
        "id": "8rS7tsJ1KxfR"
      },
      "outputs": [],
      "source": [
        "# Instantiate the model (using the value K=5).\n",
        "knn = None\n",
        "\n",
        "# Fit the model with data.\n",
        "knn.fit(X, y)\n",
        "\n",
        "# Store the predicted response values.\n",
        "y_pred_class = None"
      ]
    },
    {
      "cell_type": "code",
      "execution_count": null,
      "metadata": {
        "id": "GaspYPjhKxfR"
      },
      "outputs": [],
      "source": [
        "# Calculate predicted probabilities of class membership.\n",
        "# Each row sums to one and contains the probabilities of the point being a 0-Center, 1-Front, 2-Guard.\n",
        "knn.predict_proba(X)"
      ]
    },
    {
      "cell_type": "markdown",
      "metadata": {
        "collapsed": true,
        "id": "96MnEAj-KxfS"
      },
      "source": [
        "## What is the \"best\" value of K?"
      ]
    },
    {
      "cell_type": "code",
      "execution_count": null,
      "metadata": {
        "id": "u0SEOxHkKxfS"
      },
      "outputs": [],
      "source": [
        "# Calculate TRAINING ERROR and TESTING ERROR for K=1 through 100.\n",
        "\n",
        "k_range = list(range(1, 101))\n",
        "training_error = []\n",
        "testing_error = []\n",
        "\n",
        "# Find test accuracy for all values of K between 1 and 100 (inclusive).\n",
        "for k in k_range:\n",
        "\n",
        "    # Instantiate the model with the current K value.\n",
        "    knn = None\n",
        "\n",
        "    # Calculate training error (error = 1 - accuracy).\n",
        "    y_pred_class = None\n",
        "    training_accuracy = None\n",
        "    training_error.append(1 - training_accuracy)\n",
        "\n",
        "    # Calculate testing error.\n",
        "    y_pred_class = None\n",
        "    testing_accuracy = None\n",
        "    testing_error.append(1 - testing_accuracy)"
      ]
    },
    {
      "cell_type": "code",
      "execution_count": null,
      "metadata": {
        "id": "_AmbQX8AKxfS"
      },
      "outputs": [],
      "source": [
        "# Allow plots to appear in the notebook.\n",
        "%matplotlib inline\n",
        "import matplotlib.pyplot as plt\n",
        "plt.style.use('fivethirtyeight')"
      ]
    },
    {
      "cell_type": "code",
      "execution_count": null,
      "metadata": {
        "id": "5Jsr1btmKxfT"
      },
      "outputs": [],
      "source": [
        "# Create a DataFrame of K, training error, and testing error.\n",
        "column_dict = {'K': k_range, 'training error':training_error, 'testing error':testing_error}\n",
        "df = pd.DataFrame(column_dict).set_index('K').sort_index(ascending=False)\n",
        "df.head()"
      ]
    },
    {
      "cell_type": "code",
      "execution_count": null,
      "metadata": {
        "id": "k69SRg0oKxfT"
      },
      "outputs": [],
      "source": [
        "# Plot the relationship between K (HIGH TO LOW) and TESTING ERROR.\n",
        "df.plot(y='testing error');\n",
        "plt.xlabel('Value of K for KNN');\n",
        "plt.ylabel('Error (lower is better)');"
      ]
    },
    {
      "cell_type": "code",
      "execution_count": null,
      "metadata": {
        "id": "W9LsCwWhKxfT"
      },
      "outputs": [],
      "source": [
        "# Find the minimum testing error and the associated K value.\n",
        "df.sort_values('testing error').head()"
      ]
    },
    {
      "cell_type": "code",
      "execution_count": null,
      "metadata": {
        "id": "aLh9uAXvKxfT"
      },
      "outputs": [],
      "source": [
        "# Alternative method:\n",
        "min(list(zip(testing_error, k_range)))"
      ]
    },
    {
      "cell_type": "markdown",
      "metadata": {
        "id": "H9zFLKyiKxfU"
      },
      "source": [
        "<a id=\"training-error-versus-testing-error\"></a>\n",
        "### Training Error Versus Testing Error"
      ]
    },
    {
      "cell_type": "code",
      "execution_count": null,
      "metadata": {
        "id": "4MJ8ocBFKxfU"
      },
      "outputs": [],
      "source": [
        "# Plot the relationship between K (HIGH TO LOW) and both TRAINING ERROR and TESTING ERROR.\n",
        "df.plot();\n",
        "plt.xlabel('Value of K for KNN');\n",
        "plt.ylabel('Error (lower is better)');"
      ]
    },
    {
      "cell_type": "markdown",
      "metadata": {
        "id": "dWL5GKOhKxfU"
      },
      "source": [
        "- **Training error** decreases as model complexity increases (lower value of K).\n",
        "- **Testing error** is minimized at the optimum model complexity.\n",
        "\n",
        "Evaluating the training and testing error is important. For example:\n",
        "\n",
        "- If the training error is much lower than the test error, then our model is likely overfitting.\n",
        "- If the test error starts increasing as we vary a hyperparameter, we may be overfitting.\n",
        "- If either error plateaus, our model is likely underfitting (not complex enough)."
      ]
    },
    {
      "cell_type": "markdown",
      "metadata": {
        "collapsed": true,
        "id": "FuN3AerNKxfU"
      },
      "source": [
        "#### Making Predictions on Out-of-Sample Data"
      ]
    },
    {
      "cell_type": "markdown",
      "metadata": {
        "collapsed": true,
        "id": "TyCdZ3tmKxfV"
      },
      "source": [
        "Given the statistics of a (truly) unknown NBA player, how do we predict his position?"
      ]
    },
    {
      "cell_type": "code",
      "execution_count": null,
      "metadata": {
        "id": "LENb4XJGKxfV"
      },
      "outputs": [],
      "source": [
        "import numpy as np\n",
        "\n",
        "# Instantiate the model with the best-known parameters.\n",
        "knn = KNeighborsClassifier(n_neighbors=13)\n",
        "\n",
        "# Re-train the model with X and y (not X_train and y_train). Why?\n",
        "knn.fit(X, y)\n",
        "\n",
        "# Make a prediction for an out-of-sample observation.\n",
        "knn.predict_proba(np.array([2, 1, 0, 1, 2]).reshape(1, -1))"
      ]
    },
    {
      "cell_type": "markdown",
      "metadata": {
        "collapsed": true,
        "id": "osXU5DTBKxfV"
      },
      "source": [
        "What could we conclude?\n",
        "\n",
        "- When using KNN on this data set with these features, the **best value for K** is likely to be around 14.\n",
        "- Given the statistics of an **unknown player**, we estimate that we would be able to correctly predict his position about 74% of the time."
      ]
    },
    {
      "cell_type": "markdown",
      "metadata": {
        "id": "AFZ7gG8iKxfV"
      },
      "source": [
        "<a id=\"standardizing-features\"></a>\n",
        "## Standardizing Features\n",
        "---\n",
        "\n",
        "There is one major issue that applies to many machine learning models: They are sensitive to feature scale.\n",
        "\n",
        "> KNN in particular is sensitive to feature scale because it (by default) uses the Euclidean distance metric. To determine closeness, Euclidean distance sums the square difference along each axis. So, if one axis has large differences and another has small differences, the former axis will contribute much more to the distance than the latter axis.\n",
        "\n",
        "This means that it matters whether our feature are centered around zero and have similar variance to each other."
      ]
    },
    {
      "cell_type": "markdown",
      "metadata": {
        "id": "_T_FTS3uKxfW"
      },
      "source": [
        "Unfortunately, most data does not naturally start at a mean of zero and a shared variance. Other models tend to struggle with scale as well, even linear regression, when you get into more advanced methods such as regularization."
      ]
    },
    {
      "cell_type": "markdown",
      "metadata": {
        "id": "zFCkxd67KxfW"
      },
      "source": [
        "Fortuantely, this is an easy fix."
      ]
    },
    {
      "cell_type": "markdown",
      "metadata": {
        "id": "nYUwaEJZKxfW"
      },
      "source": [
        "<a id=\"use-standardscaler-to-standardize-our-data\"></a>\n",
        "### Use `StandardScaler` to Standardize our Data\n",
        "\n",
        "StandardScaler standardizes our data by subtracting the mean from each feature and dividing by its standard deviation."
      ]
    },
    {
      "cell_type": "markdown",
      "metadata": {
        "id": "63GOiLbbKxfW"
      },
      "source": [
        "#### Separate feature matrix and response for scikit-learn."
      ]
    },
    {
      "cell_type": "code",
      "execution_count": null,
      "metadata": {
        "id": "Zqh0KMfwKxfW"
      },
      "outputs": [],
      "source": [
        "# Create feature matrix (X).\n",
        "feature_cols = ['ast', 'stl', 'blk', 'tov', 'pf']\n",
        "\n",
        "X = nba[feature_cols]\n",
        "y = nba.pos_num  # Create response vector (y)."
      ]
    },
    {
      "cell_type": "code",
      "execution_count": null,
      "metadata": {
        "id": "4ovgJ1ZfKxfX"
      },
      "outputs": [],
      "source": [
        "X.head()"
      ]
    },
    {
      "cell_type": "markdown",
      "metadata": {
        "id": "cxk7p2FTKxfX"
      },
      "source": [
        "#### Create the train/test split.\n",
        "\n",
        "Notice that we create the train/test split first. This is because we will reveal information about our testing data if we standardize right away."
      ]
    },
    {
      "cell_type": "code",
      "execution_count": null,
      "metadata": {
        "id": "CPN3HNcyKxfX"
      },
      "outputs": [],
      "source": [
        "X_train, X_test, y_train, y_test = train_test_split(X, y, random_state=99)"
      ]
    },
    {
      "cell_type": "markdown",
      "metadata": {
        "collapsed": true,
        "id": "zmeffeILKxfX"
      },
      "source": [
        "#### Instantiate and fit `StandardScaler`."
      ]
    },
    {
      "cell_type": "code",
      "execution_count": null,
      "metadata": {
        "id": "opngkDDaKxfY"
      },
      "outputs": [],
      "source": [
        "from sklearn.preprocessing import StandardScaler\n",
        "\n",
        "scaler = StandardScaler()\n",
        "# We fit to figure out the distribution\n",
        "scaler.fit(X_train)\n",
        "\n",
        "# now we transform everything using that\n",
        "# if you wanted to do it all in one step ==> X_train = scaler.fit_transform(X_train)\n",
        "X_train = scaler.transform(X_train)\n",
        "X_test = scaler.transform(X_test)"
      ]
    },
    {
      "cell_type": "code",
      "execution_count": null,
      "metadata": {
        "id": "OtxfZphVKxfY"
      },
      "outputs": [],
      "source": [
        "pd.DataFrame(X_train).describe()"
      ]
    },
    {
      "cell_type": "markdown",
      "metadata": {
        "id": "HZe5hy_kKxfY"
      },
      "source": [
        "#### Fit a KNN model and look at the testing error.\n",
        "Can you find a number of neighbors that improves our results from before?"
      ]
    },
    {
      "cell_type": "code",
      "execution_count": null,
      "metadata": {
        "id": "Tz9cR0OQKxfY"
      },
      "outputs": [],
      "source": [
        "# Calculate testing error.\n",
        "knn = KNeighborsClassifier(n_neighbors=13)\n",
        "knn.fit(X_train, y_train)\n",
        "\n",
        "y_pred_class = knn.predict(X_test)\n",
        "testing_accuracy = metrics.accuracy_score(y_test, y_pred_class)\n",
        "print('the accuracy is: ',testing_accuracy)\n",
        "testing_error = 1 - testing_accuracy\n",
        "\n",
        "print('the error is: ',testing_error)"
      ]
    },
    {
      "cell_type": "markdown",
      "metadata": {
        "id": "WpElipopKxfZ"
      },
      "source": [
        "<a id=\"comparing-knn-with-other-models\"></a>\n",
        "## Comparing KNN With Other Models\n",
        "---"
      ]
    },
    {
      "cell_type": "markdown",
      "metadata": {
        "id": "w2J0ZerfKxfZ"
      },
      "source": [
        "**Advantages of KNN:**\n",
        "\n",
        "- It's simple to understand and explain.\n",
        "- Model training is fast.\n",
        "- It can be used for classification and regression (for regression, take the average value of the K nearest points!).\n",
        "- Being a non-parametric method, it is often successful in classification situations where the decision boundary is very irregular.\n",
        "\n",
        "**Disadvantages of KNN:**\n",
        "\n",
        "- It must store all of the training data.\n",
        "- Its prediction phase can be slow when n is large.\n",
        "- It is sensitive to irrelevant features.\n",
        "- It is sensitive to the scale of the data.\n",
        "- Accuracy is (generally) not competitive with the best supervised learning methods."
      ]
    },
    {
      "cell_type": "markdown",
      "metadata": {
        "id": "ZQqspiGjKxfZ"
      },
      "source": [
        "# Random Forest\n",
        "----\n",
        "Dictatorship or diplomacy?"
      ]
    },
    {
      "cell_type": "markdown",
      "metadata": {
        "id": "4vR9e-BkKxfe"
      },
      "source": [
        "<img src=\"https://www.dropbox.com/scl/fi/agihb72fdl8yozz3k3an9/rf.jpg?rlkey=yxry1ud5m2obcm2sjhhfp49fj&raw=1\"  align=\"center\"/>"
      ]
    },
    {
      "cell_type": "code",
      "execution_count": null,
      "metadata": {
        "id": "RlGzybvjKxfe"
      },
      "outputs": [],
      "source": [
        "## Lets import RF\n",
        "from sklearn.ensemble import RandomForestClassifier"
      ]
    },
    {
      "cell_type": "code",
      "execution_count": null,
      "metadata": {
        "id": "q9CXX6mBKxfe"
      },
      "outputs": [],
      "source": [
        "X.head()"
      ]
    },
    {
      "cell_type": "code",
      "execution_count": null,
      "metadata": {
        "id": "v5SR8OCeKxff"
      },
      "outputs": [],
      "source": [
        "# Calculate testing error.\n",
        "rf_model = RandomForestClassifier(n_estimators=20,max_depth=8, random_state=0)\n",
        "\n",
        "\n",
        "rf_model.fit(X_train, y_train)\n",
        "\n",
        "y_pred_class = rf_model.predict(X_test)\n",
        "testing_accuracy = metrics.accuracy_score(y_test, y_pred_class)\n",
        "print('the accuracy is: ',testing_accuracy)\n",
        "testing_error = 1 - testing_accuracy\n",
        "\n",
        "print('the error is: ',testing_error)"
      ]
    },
    {
      "cell_type": "markdown",
      "metadata": {
        "id": "b0MdUGYaKxff"
      },
      "source": [
        "# Now you do it\n",
        "<img src=\"https://www.dropbox.com/scl/fi/s9kv1dytq4qzr8g19y3r0/hands_on.jpg?rlkey=yz8kq22sfdgc7lsgmm1e0fksr&raw=1\" width=\"100\" height=\"100\" align=\"right\"/>"
      ]
    },
    {
      "cell_type": "markdown",
      "metadata": {
        "id": "hBbMbTPuKxff"
      },
      "source": [
        "The dataset is one on \"churn\" in cell phone plans. It has information on the usage of the phones by different account holders and whether or not they churned or not.\n",
        "\n",
        "Our goal is to predict whether a user will churn or not based on the other features.\n",
        "\n",
        "<img src=\"https://www.dropbox.com/scl/fi/r0di6ju7bm2pskg5nqd0n/churn.png?rlkey=xclo5ytlre63kb6o31sjub956&raw=1\"  align=\"center\"/>\n",
        "\n",
        "### Use these parameters for testing\n",
        "\n",
        "> random_state = 99\n",
        "\n",
        "> test_size = 0.2"
      ]
    },
    {
      "cell_type": "code",
      "execution_count": null,
      "metadata": {
        "id": "vjxDC6O-Kxff"
      },
      "outputs": [],
      "source": [
        "churn = pd.read_csv('./data/churn_missing.csv')\n",
        "churn.head()"
      ]
    },
    {
      "cell_type": "code",
      "execution_count": null,
      "metadata": {
        "id": "2tSJZtoZKxfg"
      },
      "outputs": [],
      "source": [
        "churn.shape"
      ]
    },
    {
      "cell_type": "code",
      "execution_count": null,
      "metadata": {
        "id": "AYs3yfc6Kxfg"
      },
      "outputs": [],
      "source": [
        "churn.isnull().sum().plot(kind='bar')"
      ]
    },
    {
      "cell_type": "code",
      "execution_count": null,
      "metadata": {
        "id": "0rlhK9Z4Kxfg"
      },
      "outputs": [],
      "source": []
    }
  ],
  "metadata": {
    "kernelspec": {
      "display_name": "Python 3 (ipykernel)",
      "language": "python",
      "name": "python3"
    },
    "language_info": {
      "codemirror_mode": {
        "name": "ipython",
        "version": 3
      },
      "file_extension": ".py",
      "mimetype": "text/x-python",
      "name": "python",
      "nbconvert_exporter": "python",
      "pygments_lexer": "ipython3",
      "version": "3.9.1"
    },
    "colab": {
      "provenance": [],
      "include_colab_link": true
    }
  },
  "nbformat": 4,
  "nbformat_minor": 0
}