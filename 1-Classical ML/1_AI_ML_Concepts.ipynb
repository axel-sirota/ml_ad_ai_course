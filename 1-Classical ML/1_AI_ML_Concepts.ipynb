{
  "cells": [
    {
      "cell_type": "markdown",
      "metadata": {
        "id": "view-in-github",
        "colab_type": "text"
      },
      "source": [
        "<a href=\"https://colab.research.google.com/github/axel-sirota/ml_ad_ai_course/blob/main/Classical%20ML/1_AI_ML_Concepts.ipynb\" target=\"_parent\"><img src=\"https://colab.research.google.com/assets/colab-badge.svg\" alt=\"Open In Colab\"/></a>"
      ]
    },
    {
      "cell_type": "markdown",
      "source": [
        "# AI and ML Concepts\n",
        "\n",
        "© Data Trainers LLC. GPL v 3.0.\n",
        "\n",
        "Author: Axel Sirota"
      ],
      "metadata": {
        "id": "p4uclGvaqAnS"
      }
    },
    {
      "cell_type": "markdown",
      "metadata": {
        "id": "6uoZljlSlVsq"
      },
      "source": [
        "<a id=\"learning-objectives\"></a>\n",
        "## Learning Objectives\n",
        "*In this lesson, we will go over the folowing:*\n",
        "\n",
        "- Jupyter Notebooks\n",
        "- Data science and the data science workflow.\n",
        "- Test train split\n",
        "- Over/underfitting concepts\n",
        "- Data Science Applications\n",
        "- AI ethics"
      ]
    },
    {
      "cell_type": "markdown",
      "metadata": {
        "id": "CqYeXrP0lVsr"
      },
      "source": [
        "### What Are Some Common Questions Asked in Data Science?\n",
        "\n",
        "**Machine learning more or less asks the following questions:**\n",
        "\n",
        "- Does X predict Y?\n",
        "- Are there any distinct groups in our data?\n",
        "- What are the key components of our data?\n",
        "- Is one of our observations “weird”?\n",
        "\n",
        "**From a business perspective, Data Science can help us with use cases such as:**\n",
        "\n",
        "- What is the likelihood that a customer will buy this product?\n",
        "- Is this a good or bad review?\n",
        "- How much demand will there be for my service tomorrow?\n",
        "- Is this the cheapest way to deliver my goods?\n",
        "- Is there a better way to segment my marketing strategies?\n",
        "- What groups of products are customers purchasing together?\n",
        "- Can we automate this simple yes/no decision?\n"
      ]
    },
    {
      "cell_type": "markdown",
      "metadata": {
        "id": "xcR697KYlVss"
      },
      "source": [
        "## Are AI and Machine Learning different things?\n",
        "\n",
        "The AI onion\n",
        "\n",
        "- Artificial intelligence is an umbrella term that covers machine learning and deep learning\n",
        "- Deep learning and neural networks are also types of machine learning algorithms  \n",
        "- What Data Science VS. (Machine Learning Engineer):\n",
        "\n",
        "\n",
        "<img src=\"https://www.dropbox.com/scl/fi/6ladp8760raprbz6yyzaj/onion.png?rlkey=up3y36ig94gmgvfa8t8ub2mzc&raw=1\" width=\"270\" height=\"270\" align=\"center\"/>\n"
      ]
    },
    {
      "cell_type": "markdown",
      "metadata": {
        "id": "Mtd7kJVmlVss"
      },
      "source": [
        "## When did this whole thing started?\n",
        "---\n",
        "AI is nothing new\n",
        "> - it started in 1950's\n",
        "> - followed by two winters\n",
        "\n",
        "<img src=\"https://www.dropbox.com/scl/fi/f8b7j7lgq6z51xr2uordj/aiml.png?rlkey=y3l1obaynqvmsmrb37nlv5m06&raw=1\"  align=\"center\"/>\n",
        "\n",
        "<img src=\"https://www.dropbox.com/scl/fi/8proe15lejtl8ov2h074g/aiwinters.png?rlkey=stil620xyvm76o4tmjkqk8rk3&raw=1\"  align=\"center\"/>"
      ]
    },
    {
      "cell_type": "markdown",
      "metadata": {
        "id": "xspzLMaGlVst"
      },
      "source": [
        "## Why now?\n",
        "\n",
        "---\n",
        "\n",
        "In the last few years there has been a lot of advancements in technologies that enable AI\n",
        "> - Compute Power\n",
        "> - Big Data\n",
        "> - Powerful Algorithms\n",
        "\n",
        "<img src=\"https://www.dropbox.com/scl/fi/v4j4hox7e5xejlvvq8afc/whynow.jpg?rlkey=sq2xi9lor2i9yj5s8mvj63c9n&raw=1\" align=\"center\"/>\n",
        "\n",
        "Read more here: https://www.mckinsey.com/business-functions/mckinsey-analytics/our-insights/an-executives-guide-to-ai\n",
        "\n",
        "Can you mention examples of advancements in the above technologies?"
      ]
    },
    {
      "cell_type": "markdown",
      "metadata": {
        "id": "Jj3QuC9RlVsu"
      },
      "source": [
        "# Data collected every minute\n",
        "<img src=\"https://www.dropbox.com/scl/fi/5qpsfu64jfjoh20hctjij/data.png?rlkey=dhkh2ihd2mk6jixn4cdo0ahlo&raw=1\"  align=\"center\"/>\n"
      ]
    },
    {
      "cell_type": "markdown",
      "metadata": {
        "id": "fmcUCZsFlVsu"
      },
      "source": [
        "## Why is AI powerful?\n",
        "\n",
        "<img src=\"https://www.dropbox.com/scl/fi/4ssv5l2sn01vihkuq04dv/ny-vs-sf.jpg?rlkey=773qeo1titheoneof6py1lt7f&raw=1\"  align=\"center\"/>\n",
        "\n",
        "\n",
        "<img src=\"https://www.dropbox.com/scl/fi/mvdks5r0awj8nazsq0gcc/nysf.png?rlkey=uk5678245d8zdqszq7s5rjy4l&raw=1\"  align=\"center\"/>\n",
        "\n",
        "\n",
        "Check the demo here:\n",
        "http://www.r2d3.us/visual-intro-to-machine-learning-part-1/"
      ]
    },
    {
      "cell_type": "markdown",
      "metadata": {
        "id": "afgfR-0ilVsv"
      },
      "source": [
        "<a id=\"dswf\"></a>\n",
        "## Introduction: The Data Science Workflow\n",
        "\n",
        "---\n",
        "- **Understand the Business Problem**: Develop a hypothesis-driven approach to your analysis.\n",
        "- **Data Acquisition and Understanding**: Select, import, explore, and clean your data.\n",
        "- **Build a Model**: engineer your data, build models, evaluate them and build the best model.\n",
        "- **Deployment**: deploy your model in production and deliver ROI!\n",
        "\n",
        "<img src=\"https://www.dropbox.com/scl/fi/z8vr41plvx98qzrn9jrgl/lifecycle.png?rlkey=ua8r1g4deepk0jq8aqgzzjd1x&raw=1\"  align=\"center\"/>\n",
        "\n"
      ]
    },
    {
      "cell_type": "markdown",
      "metadata": {
        "id": "3NOpqOIflVsw"
      },
      "source": [
        "# This is what data scientists do\n",
        "\n",
        "> They take care of the above lifecycle\n",
        "\n",
        "Effective data scientists are able to identify relevant questions, collect data from a multitude of different data sources, organize the information, translate results into solutions, and communicate their findings in a way that positively affects business decisions. These skills are required in almost all industries, causing skilled data scientists to be increasingly valuable to companies.\n",
        "\n",
        "<img src=\"https://www.dropbox.com/scl/fi/ndskcgsgpjn0dfc0merwt/timewise.png?rlkey=1dtxv6tlmj4g8kh6xrlr0omfm&raw=1\" align=\"center\"/>\n"
      ]
    },
    {
      "cell_type": "markdown",
      "metadata": {
        "id": "sVqPWesflVsw"
      },
      "source": [
        "\n",
        "### Data scientist vs. machine learning engineer\n",
        "While there’s some overlap, which is why some data scientists with software engineering backgrounds move into machine learning engineer roles, data scientists focus on analyzing data, providing business insights, and prototyping models, while machine learning engineers focus on coding and deploying complex, large-scale machine learning products."
      ]
    },
    {
      "cell_type": "markdown",
      "metadata": {
        "id": "7k5Vz8WblVsx"
      },
      "source": [
        "## What data engineers, analysts and architects do?\n",
        "\n",
        "ETL and Data Cleaning are the most time consuming steps\n",
        "\n",
        "> Data scientists work with machine learning engineers to move their models to production\n",
        "\n",
        "<img src=\"https://www.dropbox.com/scl/fi/klaur6w44cil725k3kmcz/time.jpg?rlkey=jamwgoxigtn7c7jdrk0140jun&raw=1\"  align=\"center\"/>\n",
        "\n",
        "\n",
        "\n",
        "** Times (week / month, .. ) mentioned in the chart are relative **"
      ]
    },
    {
      "cell_type": "markdown",
      "metadata": {
        "id": "4JKdZmMolVsx"
      },
      "source": [
        "# Let's Review the Data Science Lifecycle Step by Step"
      ]
    },
    {
      "cell_type": "markdown",
      "metadata": {
        "id": "TucwXMxjlVsx"
      },
      "source": [
        "# Step 1. Business Understanding\n",
        "\n",
        "---\n",
        "\n",
        "- Identify the business/product objectives.\n",
        "- Identify and hypothesize goals and criteria for success.\n",
        "- Create a set of questions to help you identify the correct data set.\n",
        "\n",
        "## An Example Use Case\n",
        "We work for a real estate company interested in using data science to determine the best properties to buy and resell. Specifically, your company would like to identify the characteristics of residential houses that estimate their sale price and the cost-effectiveness of doing renovations.\n",
        "\n",
        "> #### Identify the Business/Product Objectives\n",
        "\n",
        "The customer tells us their business goals are to accurately predict prices for houses (so that they can sell them for as large a profit as possible) and to identify which kinds of features in the housing market would be more likely to lead to foreclosure and other abnormal sales (which could represent more profitable sales for the company).\n",
        "\n",
        "> #### Identify and Hypothesize Goals and Criteria for Success\n",
        "\n",
        "Ultimately, the customer wants us to:\n",
        "* Deliver a presentation to the real estate team.\n",
        "* Write a business report discussing results, procedures used, and rationales.\n",
        "* Build an API that provides estimated returns.\n",
        "\n",
        "> #### Create a Set of Questions to Help You Identify the Correct Data Set\n",
        "\n",
        "* Can you think of questions that would help this customer deliver on their business goals?\n",
        "* What sort of features or columns would you want to see in the data?"
      ]
    },
    {
      "cell_type": "markdown",
      "metadata": {
        "id": "ZLqECb5TlVsx"
      },
      "source": [
        "> **Questions:** before going to data acquisition, you can ask questions such as\n",
        "> * What would an ideal data set look like?\n",
        "> * Describe the dataset that you think would be ideal for this use case"
      ]
    },
    {
      "cell_type": "markdown",
      "metadata": {
        "id": "W7v3l_XVlVsx"
      },
      "source": [
        "# Step 2. Data Acquisition\n",
        "\n",
        "** Ideal Data vs. Available Data**  \n",
        "\n",
        "Oftentimes, we'll start by identifying the *ideal data* we would want for a project.\n",
        "\n",
        "Then, during the data acquisition phase, we'll learn about the limitations on the types of data actually available. We have to decide if these limitations will inhibit our ability to answer our question of interest or if we can work with what we have to find a reasonable and reliable answer.\n",
        "\n",
        "For example, we provide a set of housing data for Ames, Iowa, which [includes](./extra-materials/ames_data_documentation.txt):\n",
        "\n",
        "- 20 continuous variables indicating square footage.\n",
        "- 14 discrete variables indicating number of each room type.\n",
        "- 46 categorical variables containing 2–28 classes each, e.g., street type (gravel/paved) and neighborhood (city district name).\n",
        "\n",
        "---\n"
      ]
    },
    {
      "cell_type": "markdown",
      "metadata": {
        "id": "B2yaS3xklVsy"
      },
      "source": [
        "\n",
        "### ** Review the Dataset**\n",
        "\n",
        "Take a moment to look through the data description. How closely does the set match the ideal data that you envisioned? Would it be sufficient for our purposes? What limitations does it have?\n",
        "\n",
        "<img src=\"https://www.dropbox.com/scl/fi/4ow2stqxl5i7xevaee9yg/houses.png?rlkey=vi0b77cu19zylsqkjmswb7p40&raw=1\" width=\"800\" height=\"400\" align=\"center\"/>\n",
        "\n",
        "---\n",
        "\n",
        "This is possibly the hardest step in the data science workflow. At this stage, it's common to realize that the problem you're trying to solve may not be solvable with the information available. The data could be incomplete, non-existant, or unable to meet the criteria necessary to answer your question.  \n",
        "\n",
        "That said, you now have a better feel for the data that's available and the information they could contain. You can now identify a new, answerable question that ultimately helps you solve or better understand your problem."
      ]
    },
    {
      "cell_type": "markdown",
      "metadata": {
        "id": "-AsVx62wlVsy"
      },
      "source": [
        "> **Think about the following cases**:\n",
        "> - Where are the data coming from?\n",
        "> - How do the data fit together?\n",
        "> - Are there enough data?\n",
        "> - Do our data appropriately align with the question/problem statement?\n",
        "> - Can the data set be trusted? How was it collected?\n",
        "> - Is this data set aggregated? Can we use the aggregation, or do we need to obtain it pre-aggregation?\n",
        "> - What are necessary resources, requirements, assumptions, and constraints?\n",
        "> - Can we import data from the web (Google Analytics, HTML, XML)?\n",
        "> - Can we import data from a file (CSV, XML, TXT, JSON)?\n",
        "> - Can we import data from a pre-existing database (SQL)?\n",
        "> - Can we set up local or remote data structures?\n",
        "> - What are the most appropriate tools for working with the data?\n",
        "> - Do these tools align with the format and size of the data set?"
      ]
    },
    {
      "cell_type": "markdown",
      "metadata": {
        "id": "oMlifn80lVsy"
      },
      "source": [
        "## 2.1 Data Wrangling & Cleaning\n",
        "\n",
        "This is by far the most time consuming step of Data Science Lifecyle\n",
        "\n",
        "For the Ames housing dataset we discussed,\n",
        "- What if the data are in different databases and we have to consolidate them?\n",
        "- What if the values for some columns in the dataset are missing or in wrong format?\n",
        "\n",
        "\n",
        "<img src=\"https://www.dropbox.com/scl/fi/p53eoenq24w56pm5lllbj/datac.png?rlkey=e38q6oqn4iwczhd8ho43kis5j&raw=1\" width=\"400\" height=\"400\" align=\"center\"/>\n",
        "\n",
        "\n",
        "** we will review and practice the data cleaning process as part of this course. **\n",
        "\n",
        "## AI ML algorithms are picky eaters\n",
        "### They like coockis more than flour (Raw data)\n",
        "<img src=\"https://www.dropbox.com/scl/fi/7cq43bu45ji9qabm6eoxj/coockie.jpg?rlkey=j3gl9nfe3288nusfeopzsw5f3&raw=1\" align=\"center\"/>"
      ]
    },
    {
      "cell_type": "markdown",
      "metadata": {
        "id": "Bfrxxf3flVsy"
      },
      "source": [
        "# Step 3. Modeling\n",
        "** What is a Model? **\n",
        "\n",
        "- Using Machine Learning algorithms we build a model from input data (image, text, ...)\n",
        "> - In case of housing data set discussed above we can build a model that learns how to predict price of a house\n",
        "- The resulted model is a representative of the data used for training\n",
        "\n",
        "<img src=\"https://www.dropbox.com/scl/fi/pscgatdfz6weq13hapthc/model.png?rlkey=lg35p054sus5gnvwx0me1leqa&raw=1\"  align=\"center\"/>\n",
        "\n",
        "> - The size of the output model can be alot smaller than the training data"
      ]
    },
    {
      "cell_type": "markdown",
      "metadata": {
        "id": "n67449GtlVsy"
      },
      "source": [
        "## There are many algorithms that can be used to build a model\n",
        "\n",
        "<img src=\"https://www.dropbox.com/scl/fi/vofq59kps71rei8yu5w1u/modelS.png?rlkey=nwp8ktpbh5t88kbq8hx83kcke&raw=1\"align=\"center\"/>\n",
        "\n",
        "> - Depending on the use case, requirements and available data, a model will be selected!\n",
        "\n",
        "## Data scientists use one of these available algorithms and tune it for their use case\n",
        "> - Most these algorithms are available in public and open source libraries\n",
        "\n",
        "> - Most data Scientists do no build their own algorithms, they just customize and tune an existing algorithm  "
      ]
    },
    {
      "cell_type": "markdown",
      "metadata": {
        "id": "FCxx8aQxlVsz"
      },
      "source": [
        "<a id=\"common-ml-defs\"> </a>\n",
        "## 3.1 Supervised  vs. Unsupervised Learning\n",
        "\n",
        "There are two main categories of machine learning: supervised learning and unsupervised learning.\n",
        "\n",
        "**Supervised learning (a.k.a., “predictive modeling”):**  \n",
        "_Classification and regression_\n",
        "- Predicts an outcome based on input data.\n",
        "    - Example: Predicts whether an email is spam or ham.\n",
        "- Attempts to generalize.\n",
        "- Requires past data on the element we want to predict (the target).\n",
        "\n",
        "**Unsupervised learning:**  \n",
        "_Clustering and dimensionality reduction_\n",
        "- Extracts structure from data.\n",
        "    - Example: Segmenting grocery store shoppers into “clusters” that exhibit similar behaviors.\n",
        "- Attempts to represent.\n",
        "- **Does not require** past data on the element we want to predict.\n",
        "\n",
        "<img src=\"https://www.dropbox.com/scl/fi/tj4f1kibm25fatuvwcqnf/sup.png?rlkey=jqb5opwmboqachu7p74r4i4ct&raw=1\" align=\"center\"/>\n",
        "\n",
        "\n",
        "Oftentimes, we may combine both types of machine learning in a project to reduce the cost of data collection by learning a better representation. This is referred to as transfer learning.\n",
        "\n",
        "Unsupervised learning tends to present more difficult problems because its goals are amorphous. Supervised learning has goals that are almost too clear and can lead people into the trap of optimizing metrics without considering business value."
      ]
    },
    {
      "cell_type": "markdown",
      "metadata": {
        "id": "Q3WVloIalVsz"
      },
      "source": [
        "## 3.2 Feature Engineering\n",
        "\n",
        "#### Data Enrichment\n",
        "\n",
        "- Machine learning algorithms need the data to be engineered before they consume it\n",
        "<img src=\"https://www.dropbox.com/scl/fi/er8kfuxyunsm6lqqz9wdn/garbage.png?rlkey=zl8omte7tppmdd10b3s4f6ahf&raw=1\"  align=\"center\"/>\n",
        "\n",
        "> - We need feature engineering to enrich the raw data\n",
        "\n",
        "Suppose, we want to predict the customers next purchase using a dataset looking like this:\n",
        "<img src=\"https://www.dropbox.com/scl/fi/pkt7wdewy0882mc9hwmu4/f1.png?rlkey=7vi8zvattvkmk0g52e20zqpy7&raw=1\"  align=\"center\"/>\n",
        "\n",
        "How can we enrich this data?\n",
        "\n",
        "<img src=\"https://www.dropbox.com/scl/fi/xd6hcwhotex48ozmhcyu3/f3.png?rlkey=082pzm07pq39b05um4c01t4bj&raw=1\"  align=\"center\"/>\n",
        "Here, creating the new feature “Age” is an example of feature engineering.\n",
        "\n",
        "Now, the steps to do feature engineering are as follows:\n",
        "\n",
        "> - Brainstorm features.\n",
        "> - Create features.\n",
        "> - Check how the features work with the model.\n",
        "> - Start again from first until the features work perfectly.\n",
        "\n",
        "\n",
        "So here is another definition of feature engineering:\n",
        "\n",
        "### Feature engineering is the process of transforming raw data into features that better represent the underlying problem to the predictive models, resulting in improved model accuracy on unseen data."
      ]
    },
    {
      "cell_type": "markdown",
      "metadata": {
        "id": "4VBD0vfLlVsz"
      },
      "source": [
        "## 3.3 OverFitting and UnderFitting\n",
        "\n",
        "\n",
        "What is a Good Model?\n",
        "Arguably, Machine Learning models have one sole purpose; to generalize well.\n",
        "\n",
        "> Generalization is the model’s ability to give sensible outputs to sets of input that it has never seen before.\n",
        "\n",
        "### An Example\n",
        "Let’s say we’re trying to build a Machine Learning model for the following data set.\n",
        "\n",
        "<img src=\"https://www.dropbox.com/scl/fi/580n5dcnkqxwvcziymhc5/fit1.png?rlkey=kw5hlzqrvbe2iqyyh4e6d1atu&raw=1\"  align=\"center\"/>\n",
        "\n",
        "\n",
        "\n",
        "\n",
        "\n",
        "\n"
      ]
    },
    {
      "cell_type": "markdown",
      "metadata": {
        "id": "sDxRq_8klVsz"
      },
      "source": [
        "### A fit model\n",
        "Training the Linear Regression model in our example is all about minimizing the total distance (i.e. cost) between the line we’re trying to fit and the actual data points. This goes through multiple iterations until we find the relatively “optimal” configuration of our line within the data set. This is exactly where overfitting and underfitting occur.\n",
        "\n",
        "> In Linear Regression, we would like our model to follow a line similar to the following:\n",
        "<img src=\"https://www.dropbox.com/scl/fi/nlrb8f51b8r7cuaagzc1d/fit2.png?rlkey=enqja82wcgijrs8vccy2zhzsr&raw=1\"  align=\"center\"/>\n",
        "\n",
        ">The line above could give a very likely prediction for the new input, as, in terms of Machine Learning, the outputs are expected to follow the trend seen in the training set."
      ]
    },
    {
      "cell_type": "markdown",
      "metadata": {
        "id": "7gnzPKnylVs0"
      },
      "source": [
        "### Overfitting\n",
        "When we run our training algorithm on the data set, we allow the overall cost (i.e. distance from each point to the line) to become smaller with more iterations. Leaving this training algorithm run for long leads to minimal overall cost. However, this means that the line will be fit into all the points (including noise), catching secondary patterns that may not be needed for the generalizability of the model.\n",
        "> Referring back to our example, if we leave the learning algorithm running for long, it cold end up fitting the line in the following manner:\n",
        "<img src=\"https://www.dropbox.com/scl/fi/651ac7seq2oi3yxi64d0c/over.png?rlkey=3aq7ku1phqygz4snf56nnby8q&raw=1\"  align=\"center\"/>\n",
        "\n",
        ">This looks good, right? Yes, but is it reliable? Well, not really.\n",
        "\n",
        "> If the model does not capture the dominant trend that we can all see (positively increasing, in our case), it can’t predict a likely output for an input that it has never seen before — defying the purpose of Machine Learning to begin with!\n",
        "\n",
        ">Overfitting is the case where the overall cost is really small, but the generalization of the model is unreliable. This is due to the model learning “too much” from the training data set.\n",
        "\n",
        ">> We always want to find the trend, not fit the line to all the data points."
      ]
    },
    {
      "cell_type": "markdown",
      "metadata": {
        "id": "babndRhKlVs7"
      },
      "source": [
        "### Underfitting\n",
        "We want the model to learn from the training data, but we don’t want it to learn too much (i.e. too many patterns). One solution could be to stop the training earlier. However, this could lead the model to not learn enough patterns from the training data, and possibly not even capture the dominant trend. This case is called underfitting.\n",
        "\n",
        ">Underfitting is the case where the model has “ not learned enough” from the training data, resulting in low generalization and unreliable predictions.\n",
        "\n",
        "<img src=\"https://www.dropbox.com/scl/fi/2apvby09mz4819xz4kygk/under.png?rlkey=delica28v14afowxzffbpma2u&raw=1\"  align=\"center\"/>\n",
        "\n",
        "\n",
        "\n",
        "### Bias-variance trade-off\n",
        "\n",
        "So what is the right measure? Depending on the model at hand, a performance that lies between overfitting and underfitting is more desirable. This trade-off is the most integral aspect of Machine Learning model training. As we discussed, Machine Learning models fulfill their purpose when they generalize well. Generalization is bound by the two undesirable outcomes — high bias and high variance. Detecting whether the model suffers from either one is the sole responsibility of the model developer.\n",
        "\n",
        "More on this tradeoff here: http://www.r2d3.us/visual-intro-to-machine-learning-part-2/"
      ]
    },
    {
      "cell_type": "markdown",
      "metadata": {
        "id": "73kg8U7OlVs7"
      },
      "source": [
        "## 3.4 Test Train Split\n",
        "\n",
        "Should we use all the data for training a model?\n",
        "\n",
        "\n",
        "> Data Scientists usually keep parts of the data for testing the model performance\n",
        "<img src=\"https://www.dropbox.com/scl/fi/m6v2bgb6e02167l31q059/ttsplit.jpg?rlkey=sr2ujvsrf7ia3jh841mv9tgnw&raw=1\" align=\"center\"/>\n",
        "\n",
        "> if we use all the data for training then we do not have any way of evaluating the model performance.\n",
        "\n",
        "\n",
        "\n",
        "\n",
        "\n"
      ]
    },
    {
      "cell_type": "markdown",
      "metadata": {
        "id": "4lWO_JCblVs7"
      },
      "source": [
        "### Cross Validation\n",
        "\n",
        "> why to have a fixed test and train split when we can use different combination of test and train data?\n",
        "\n",
        "<img src=\"https://www.dropbox.com/scl/fi/q5i8felgtn9ncf1n3t4yq/cross.png?rlkey=deyfgzm0vt8hwjev6ixqclgau&raw=1\"  align=\"center\"/>\n",
        "\n",
        "Instead of using one fixed set of the data for test and train we can use cross validation.\n",
        "> - In Cross Validation we use different parts of the data for test and training purposes to evaluate the model performance\n",
        "\n",
        "> - Then average performance of different test and train splits can be used as final performance"
      ]
    },
    {
      "cell_type": "markdown",
      "metadata": {
        "id": "PmYkkGoFlVs7"
      },
      "source": [
        "# Step 4. Use Cases\n",
        "** What are some of the use cases for AI/ML ? **\n",
        "\n",
        "- Nearly all occupations will be affected by automation\n",
        "> - But only about 5 percent of occupations could be fully automated by currently demonstrated technologies.\n",
        "- Many more occupations have portions of their constituent activities that are automatable:\n",
        "> - we find that about 30 percent of the activities in 60 percent of all occupations could be automated.\n",
        "\n",
        "<img src=\"https://www.dropbox.com/scl/fi/r4r6a553mu2qu0ro5ho7j/usecase.svg?rlkey=7prgetwik8extwnqxjmjeukk5&raw=1\"  align=\"center\"/>\n",
        "\n",
        "> - the size of the output model can be alot smaller than the training data"
      ]
    },
    {
      "cell_type": "markdown",
      "metadata": {
        "id": "szWOtRWvlVs7"
      },
      "source": [
        "## 4.1  Example AI Use Cases\n",
        "\n",
        "- [This Person is not real](https://thispersondoesnotexist.com/)\n",
        "- [Google Quick Draw](https://quickdraw.withgoogle.com/)\n",
        "- [Deep Dream Generator](https://deepdreamgenerator.com/)\n",
        "- Add your own!"
      ]
    },
    {
      "cell_type": "markdown",
      "metadata": {
        "id": "OuR-pNdNlVs8"
      },
      "source": [
        "## AI Ethics\n",
        "\n",
        "As an engineer or some other non-philosopher it can be very easy to forget about ethics and simply build systems for the sake of building cool things. We must, however, be aware of the potential outcomes of our build decisions when it comes to highly complex, sophisticated, and potentially impactful systems.\n",
        "\n",
        "\n",
        "### Data-Biasing\n",
        "\n",
        "The quality of your model is usually a direct result of the quality and quantity of your data.\n",
        "\n",
        "You can imagine a myriad of situations in which classification problems could go wrong because of bias in past data. From an ethical perspective, I think we can all agree that systems which discriminate against individuals on the basis of race, gender, age, ethnicity, etc.\n",
        "\n",
        "Some bad outcomes:\n",
        "> Security systems trained to discriminate based on an individual’s race or gender.\n",
        "\n",
        "> An AI based resume review tool that values the gender of applicants\n",
        "\n",
        "> Facial recognition systems that lack a diverse training set, resulting in only detecting the race for which they are trained\n",
        "\n",
        "> Court systems (AI judges/juries) with past biased rulings against certain races as the training data\n",
        "\n",
        "<img src=\"https://www.dropbox.com/scl/fi/2bbjs2hnd5zf9zdsqmxhb/ugly_ai.png?rlkey=8vg3fsk6988x8tcnrfxbbdmyn&raw=1\" width=\"350\" height=\"350\" align=\"center\"/>\n",
        "\n",
        "### How to Avoid Bias?\n",
        "Ultimately, the majority of these issues can be solved by some human-centered approaches to acquiring, cleaning, labeling, and annotating data. But this can be especially difficult.\n",
        "\n",
        "> Our AI in many ways are mirrors of the people who train them.\n",
        "\n",
        "\n",
        "We need to develop some approach for identifying AI that are not performing within our ethical framework and are producing net bad outcomes for society."
      ]
    },
    {
      "cell_type": "code",
      "execution_count": null,
      "metadata": {
        "id": "jDr1gqa9lVs8"
      },
      "outputs": [],
      "source": []
    }
  ],
  "metadata": {
    "celltoolbar": "Slideshow",
    "kernelspec": {
      "display_name": "Python 3",
      "language": "python",
      "name": "python3"
    },
    "language_info": {
      "codemirror_mode": {
        "name": "ipython",
        "version": 3
      },
      "file_extension": ".py",
      "mimetype": "text/x-python",
      "name": "python",
      "nbconvert_exporter": "python",
      "pygments_lexer": "ipython3",
      "version": "3.9.14"
    },
    "colab": {
      "provenance": [],
      "include_colab_link": true
    }
  },
  "nbformat": 4,
  "nbformat_minor": 0
}