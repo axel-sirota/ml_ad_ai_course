{
  "cells": [
    {
      "cell_type": "markdown",
      "metadata": {
        "id": "view-in-github",
        "colab_type": "text"
      },
      "source": [
        "<a href=\"https://colab.research.google.com/github/axel-sirota/ml_ad_ai_course/blob/main/NLP%20with%20Deep%20Learning/7_Text_Processing_Logistic_Regression_and_Boosting.ipynb\" target=\"_parent\"><img src=\"https://colab.research.google.com/assets/colab-badge.svg\" alt=\"Open In Colab\"/></a>"
      ]
    },
    {
      "cell_type": "markdown",
      "metadata": {
        "id": "QBT0kSX6UkRJ"
      },
      "source": [
        "# Logistic Regression and Boosting Algorithms\n"
      ]
    },
    {
      "cell_type": "markdown",
      "metadata": {
        "id": "VK1ibhKLUkRW"
      },
      "source": [
        "<a id=\"predicting-a-categorical-response\"></a>\n",
        "## Predicting a Single Categorical Response\n",
        "---\n",
        "\n"
      ]
    },
    {
      "cell_type": "markdown",
      "source": [
        "### Installing stuff"
      ],
      "metadata": {
        "id": "KSob7NpKVP3i"
      }
    },
    {
      "cell_type": "code",
      "execution_count": null,
      "metadata": {
        "id": "ipxwHoE9HUCF"
      },
      "outputs": [],
      "source": [
        "!pip install --upgrade textblob spacy 'gensim==4.2.0' swifter keras_preprocessing"
      ]
    },
    {
      "cell_type": "code",
      "execution_count": null,
      "metadata": {
        "id": "VmP43_eVHUCG"
      },
      "outputs": [],
      "source": [
        "!python -m textblob.download_corpora lite\n",
        "!python -m spacy download en_core_web_sm"
      ]
    },
    {
      "cell_type": "code",
      "execution_count": null,
      "metadata": {
        "id": "h80K7JvGHUCJ"
      },
      "outputs": [],
      "source": [
        "import pandas as pd\n",
        "import numpy as np\n",
        "import scipy as sp\n",
        "from sklearn.model_selection import train_test_split\n",
        "from sklearn.feature_extraction.text import CountVectorizer, TfidfVectorizer\n",
        "from sklearn.naive_bayes import MultinomialNB         # Naive Bayes\n",
        "from sklearn.linear_model import LogisticRegression\n",
        "from sklearn import metrics\n",
        "from textblob import TextBlob, Word\n",
        "from nltk.stem.snowball import SnowballStemmer\n",
        "\n",
        "import spacy\n",
        "import gensim\n",
        "import warnings\n",
        "import nltk\n",
        "warnings.filterwarnings('ignore')\n",
        "nltk.download('punkt')\n",
        "textblob_tokenizer = lambda x: TextBlob(x).words\n"
      ]
    },
    {
      "cell_type": "code",
      "source": [
        "%%writefile get_data.sh\n",
        "if [ ! -f yelp.csv ]; then\n",
        "  wget -O yelp.csv https://www.dropbox.com/s/xds4lua69b7okw8/yelp.csv?dl=0\n",
        "fi"
      ],
      "metadata": {
        "id": "k6RoBSKKLvJw"
      },
      "execution_count": null,
      "outputs": []
    },
    {
      "cell_type": "code",
      "source": [
        "!bash get_data.sh"
      ],
      "metadata": {
        "id": "OcmMkgZqLxqW"
      },
      "execution_count": null,
      "outputs": []
    },
    {
      "cell_type": "code",
      "execution_count": null,
      "metadata": {
        "id": "-zG2McSWHUCK"
      },
      "outputs": [],
      "source": [
        "# Read yelp.csv into a DataFrame.\n",
        "path = './yelp.csv'\n",
        "yelp = pd.read_csv(path)\n",
        "# Create a new DataFrame that only contains the 5-star and 1-star reviews.\n",
        "yelp_best_worst = yelp[ (yelp.stars == 1) | (yelp.stars == 5) ]\n",
        "\n",
        "# Define X and y.\n",
        "X = yelp_best_worst.text\n",
        "y = yelp_best_worst.stars\n",
        "\n",
        "# Split the new DataFrame into training and testing sets.\n",
        "X_train, X_test, y_train, y_test = train_test_split(X, y, test_size=0.25, random_state=42)"
      ]
    },
    {
      "cell_type": "markdown",
      "metadata": {
        "id": "AUyePxrQUkRe"
      },
      "source": [
        "<a id=\"using-logistic-regression-for-classification\"></a>\n",
        "## Using Logistic Regression for Classification\n",
        "---\n",
        "\n"
      ]
    },
    {
      "cell_type": "code",
      "execution_count": null,
      "metadata": {
        "id": "mGa-USNjUkRe"
      },
      "outputs": [],
      "source": [
        "# Fit a logistic regression model and store the class predictions.\n",
        "from sklearn.linear_model import LogisticRegression\n",
        "\n",
        "logreg = LogisticRegression()\n",
        "\n",
        "logreg.fit(X,y)\n"
      ]
    },
    {
      "cell_type": "markdown",
      "source": [
        "Of course this simply fails, we need to preprocess the text, convert it into a Tensor format and then and only then we can use models!"
      ],
      "metadata": {
        "id": "_VwFV23JVpwK"
      }
    },
    {
      "cell_type": "markdown",
      "source": [
        "### Converting text to vectors"
      ],
      "metadata": {
        "id": "jGrSbpCXVzMD"
      }
    },
    {
      "cell_type": "code",
      "source": [
        "import re\n",
        "nltk.download('stopwords')\n",
        "my_stopwords = nltk.corpus.stopwords.words('english')\n",
        "word_rooter = nltk.stem.snowball.PorterStemmer(ignore_stopwords=False).stem\n",
        "my_punctuation = '!\"$%&\\'()*+,-./:;<=>?[\\\\]^_`{|}~•@'\n",
        "\n",
        "\n",
        "def preprocess_text(text, should_join=True):\n",
        "    text = ' '.join(word.lower() for word in textblob_tokenizer(text))\n",
        "    text = re.sub(r'http\\S+', '', text) # remove http links\n",
        "    text = re.sub(r'bit.ly/\\S+', '', text) # rempve bitly links\n",
        "    text = text.strip('[link]') # remove [links]\n",
        "    text = re.sub('['+my_punctuation + ']+', ' ', text) # remove punctuation\n",
        "    text = re.sub('\\s+', ' ', text) #remove double spacing\n",
        "    text = re.sub(r\"[^a-zA-Z.,&!?]+\", r\" \", text) # only normal characters\n",
        "    text_token_list = [word for word in text.split(' ')\n",
        "                            if word not in my_stopwords] # remove stopwords\n",
        "    text_token_list = [word_rooter(word) if '#' not in word else word\n",
        "                        for word in text_token_list] # apply word rooter\n",
        "    text = ' '.join(text_token_list)\n",
        "    if should_join:\n",
        "      return ' '.join(gensim.utils.simple_preprocess(text))\n",
        "    else:\n",
        "      return gensim.utils.simple_preprocess(text)"
      ],
      "metadata": {
        "id": "qMVNuEtcVoym"
      },
      "execution_count": null,
      "outputs": []
    },
    {
      "cell_type": "code",
      "source": [
        "import swifter\n",
        "X_preprocessed = X.swifter.apply(preprocess_text)"
      ],
      "metadata": {
        "id": "0kgWYlPpVo1t"
      },
      "execution_count": null,
      "outputs": []
    },
    {
      "cell_type": "code",
      "source": [
        "X_preprocessed[0]"
      ],
      "metadata": {
        "id": "CwMeNt_sVo4n"
      },
      "execution_count": null,
      "outputs": []
    },
    {
      "cell_type": "markdown",
      "source": [
        "How do we pass from text to numbers? With tokenizers. We will use Tensorflow ones!"
      ],
      "metadata": {
        "id": "mQH3a91nWm3_"
      }
    },
    {
      "cell_type": "code",
      "source": [
        "# Find a set named vocab that has all unique words\n"
      ],
      "metadata": {
        "id": "2N2Y_sleVo7M"
      },
      "execution_count": null,
      "outputs": []
    },
    {
      "cell_type": "code",
      "source": [
        "print(f'{len(vocab)} unique words')"
      ],
      "metadata": {
        "id": "grvROE8IVpA7"
      },
      "execution_count": null,
      "outputs": []
    },
    {
      "cell_type": "code",
      "source": [
        "def get_maximum_review_length(srs):\n",
        "    pass\n",
        "    return maximum\n",
        "\n",
        "\n",
        "maximum = get_maximum_review_length(X_preprocessed)"
      ],
      "metadata": {
        "id": "9n5_6tl-VpDh"
      },
      "execution_count": null,
      "outputs": []
    },
    {
      "cell_type": "code",
      "source": [
        "print(f'The maximum review was {maximum} words long')"
      ],
      "metadata": {
        "id": "3sRVrTUhVpGH"
      },
      "execution_count": null,
      "outputs": []
    },
    {
      "cell_type": "code",
      "source": [
        "from tensorflow.keras.layers.experimental import preprocessing\n",
        "ids_from_words = preprocessing.StringLookup(vocabulary=list(vocab), mask_token=None)"
      ],
      "metadata": {
        "id": "bjiUQ6h1VpIu"
      },
      "execution_count": null,
      "outputs": []
    },
    {
      "cell_type": "code",
      "source": [
        "words_from_ids = preprocessing.StringLookup(\n",
        "    vocabulary=ids_from_words.get_vocabulary(), invert=True, mask_token=None)"
      ],
      "metadata": {
        "id": "HKuB1UDiVpLl"
      },
      "execution_count": null,
      "outputs": []
    },
    {
      "cell_type": "code",
      "source": [
        "import tensorflow as tf\n",
        "def text_from_ids(ids):\n",
        "  return tf.strings.reduce_join(words_from_ids(ids), axis=-1, separator=' ')"
      ],
      "metadata": {
        "id": "ME_wWwsvVpOc"
      },
      "execution_count": null,
      "outputs": []
    },
    {
      "cell_type": "code",
      "source": [
        "ids = ids_from_words(preprocess_text('Only you can prevent forest fires', should_join=False))\n",
        "ids"
      ],
      "metadata": {
        "id": "Op37f7EjVpQl"
      },
      "execution_count": null,
      "outputs": []
    },
    {
      "cell_type": "code",
      "source": [
        "preprocess_text('Only you can prevent forest fires', should_join=False)"
      ],
      "metadata": {
        "id": "712kFWwb1dqE"
      },
      "execution_count": null,
      "outputs": []
    },
    {
      "cell_type": "code",
      "source": [
        "text_from_ids(ids)\n"
      ],
      "metadata": {
        "id": "VHSIBP6EVpS6"
      },
      "execution_count": null,
      "outputs": []
    },
    {
      "cell_type": "code",
      "source": [
        "def pad_sequence_of_tokens(x, maxlen, unk_token='[UNK]'):\n",
        "  if len(x)<maxlen:\n",
        "    x.extend([unk_token]*(maxlen-len(x)))\n",
        "  return x"
      ],
      "metadata": {
        "id": "LpCZqSlQYb2k"
      },
      "execution_count": null,
      "outputs": []
    },
    {
      "cell_type": "code",
      "source": [],
      "metadata": {
        "id": "FQTtWBrFYpn2"
      },
      "execution_count": null,
      "outputs": []
    },
    {
      "cell_type": "code",
      "source": [
        "from keras_preprocessing.sequence import pad_sequences\n",
        "# Very useful method to keep in mind\n",
        "def get_ids_tensor(srs):\n",
        "\n",
        "  processed = srs.swifter.apply(lambda x: pad_sequence_of_tokens(preprocess_text(x, should_join=False), maxlen=maximum)).to_list()\n",
        "  return tf.squeeze(tf.constant(pad_sequences(ids_from_words(processed), maxlen=maximum, padding='post'), dtype='int32'))\n",
        "\n"
      ],
      "metadata": {
        "id": "ApOkaOuFYb5r"
      },
      "execution_count": null,
      "outputs": []
    },
    {
      "cell_type": "code",
      "source": [
        "all_ids = get_ids_tensor(srs=X_preprocessed.reset_index(drop=True))\n",
        "all_ids"
      ],
      "metadata": {
        "id": "nyZpEFMGYb_p"
      },
      "execution_count": null,
      "outputs": []
    },
    {
      "cell_type": "code",
      "source": [
        "all_ids.shape"
      ],
      "metadata": {
        "id": "-Oprft54YcDG"
      },
      "execution_count": null,
      "outputs": []
    },
    {
      "cell_type": "code",
      "source": [
        "# Split the all_ids into.a train a test sets\n",
        "X_train, X_test, y_train, y_test = None"
      ],
      "metadata": {
        "id": "9FwE3RhcYcLs"
      },
      "execution_count": null,
      "outputs": []
    },
    {
      "cell_type": "markdown",
      "source": [
        "### Using Logistic Regression"
      ],
      "metadata": {
        "id": "LRq1lAuCaOSF"
      }
    },
    {
      "cell_type": "code",
      "source": [
        "\n",
        "# Train a Logistic Regression on X_train and give the accuracy\n",
        "logreg = None\n"
      ],
      "metadata": {
        "id": "pg_YCHXmaRQZ"
      },
      "execution_count": null,
      "outputs": []
    },
    {
      "cell_type": "markdown",
      "source": [
        "## Using Boosting Algorithms and other things"
      ],
      "metadata": {
        "id": "sm--rNNocZm8"
      }
    },
    {
      "cell_type": "code",
      "source": [
        "from sklearn.ensemble import GradientBoostingClassifier\n",
        "\n",
        "clf = GradientBoostingClassifier(n_estimators=50, learning_rate=0.5)\n",
        "clf.fit(X_train, y_train)\n",
        "y_pred = clf.predict(X_test)\n",
        "print(classification_report(y_test, y_pred))"
      ],
      "metadata": {
        "id": "Mj26V5b0cmev"
      },
      "execution_count": null,
      "outputs": []
    },
    {
      "cell_type": "code",
      "source": [
        "from sklearn.ensemble import AdaBoostClassifier\n",
        "\n",
        "clf = AdaBoostClassifier(n_estimators=50, learning_rate=0.5)\n",
        "clf.fit(X_train, y_train)\n",
        "y_pred = clf.predict(X_test)\n",
        "print(classification_report(y_test, y_pred))"
      ],
      "metadata": {
        "id": "jX7NK1QOc7o-"
      },
      "execution_count": null,
      "outputs": []
    },
    {
      "cell_type": "code",
      "source": [],
      "metadata": {
        "id": "Q2Ufd7zrAfxk"
      },
      "execution_count": null,
      "outputs": []
    },
    {
      "cell_type": "code",
      "source": [
        "from sklearn.ensemble import RandomForestClassifier\n",
        "\n",
        "clf = RandomForestClassifier(n_estimators=50)\n",
        "clf.fit(X_train, y_train)\n",
        "y_pred = clf.predict(X_test)\n",
        "print(classification_report(y_test, y_pred))"
      ],
      "metadata": {
        "id": "SgI4faRIdKD9"
      },
      "execution_count": null,
      "outputs": []
    },
    {
      "cell_type": "markdown",
      "source": [
        "## Multiclass Classification"
      ],
      "metadata": {
        "id": "KkCMvMmPhoPT"
      }
    },
    {
      "cell_type": "markdown",
      "source": [
        "Just check in the estimators, most support multiclass classification."
      ],
      "metadata": {
        "id": "N79KIaamiOKf"
      }
    },
    {
      "cell_type": "code",
      "source": [
        "from sklearn.datasets import load_iris\n",
        "from sklearn.linear_model import LogisticRegression\n",
        "X, y = load_iris(return_X_y=True)\n",
        "clf = LogisticRegression(random_state=0, multi_class='multinomial').fit(X, y)\n",
        "clf.predict(X[:2, :])\n",
        "clf.predict_proba(X[:2, :])\n",
        "clf.score(X, y)"
      ],
      "metadata": {
        "id": "bphOQQ2IhrHU"
      },
      "execution_count": null,
      "outputs": []
    },
    {
      "cell_type": "markdown",
      "source": [
        "### **Homework**: Try to perform the stars classification with Logistic Regression but without filtering only for 5 and 1 stars."
      ],
      "metadata": {
        "id": "Ad5QRe4TiUPu"
      }
    }
  ],
  "metadata": {
    "kernelspec": {
      "display_name": "Python 3",
      "name": "python3"
    },
    "language_info": {
      "codemirror_mode": {
        "name": "ipython",
        "version": 3
      },
      "file_extension": ".py",
      "mimetype": "text/x-python",
      "name": "python",
      "nbconvert_exporter": "python",
      "pygments_lexer": "ipython3",
      "version": "3.9.1"
    },
    "colab": {
      "provenance": [],
      "include_colab_link": true
    }
  },
  "nbformat": 4,
  "nbformat_minor": 0
}